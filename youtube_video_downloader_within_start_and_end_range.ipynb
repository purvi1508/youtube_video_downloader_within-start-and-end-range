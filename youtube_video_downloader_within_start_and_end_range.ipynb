{
  "nbformat": 4,
  "nbformat_minor": 0,
  "metadata": {
    "colab": {
      "provenance": []
    },
    "kernelspec": {
      "name": "python3",
      "display_name": "Python 3"
    },
    "language_info": {
      "name": "python"
    }
  },
  "cells": [
    {
      "cell_type": "code",
      "execution_count": 1,
      "metadata": {
        "colab": {
          "base_uri": "https://localhost:8080/"
        },
        "id": "ujg1xIgABToF",
        "outputId": "63087079-162b-488e-dad5-f5a3113e81a7"
      },
      "outputs": [
        {
          "output_type": "stream",
          "name": "stdout",
          "text": [
            "Looking in indexes: https://pypi.org/simple, https://us-python.pkg.dev/colab-wheels/public/simple/\n",
            "Collecting pytube\n",
            "  Downloading pytube-12.1.3-py3-none-any.whl (57 kB)\n",
            "\u001b[2K     \u001b[90m━━━━━━━━━━━━━━━━━━━━━━━━━━━━━━━━━━━━━━━━\u001b[0m \u001b[32m57.2/57.2 KB\u001b[0m \u001b[31m1.9 MB/s\u001b[0m eta \u001b[36m0:00:00\u001b[0m\n",
            "\u001b[?25hInstalling collected packages: pytube\n",
            "Successfully installed pytube-12.1.3\n",
            "Looking in indexes: https://pypi.org/simple, https://us-python.pkg.dev/colab-wheels/public/simple/\n",
            "Requirement already satisfied: moviepy in /usr/local/lib/python3.9/dist-packages (1.0.3)\n",
            "Requirement already satisfied: numpy in /usr/local/lib/python3.9/dist-packages (from moviepy) (1.22.4)\n",
            "Requirement already satisfied: imageio<3.0,>=2.5 in /usr/local/lib/python3.9/dist-packages (from moviepy) (2.25.1)\n",
            "Requirement already satisfied: decorator<5.0,>=4.0.2 in /usr/local/lib/python3.9/dist-packages (from moviepy) (4.4.2)\n",
            "Requirement already satisfied: imageio-ffmpeg>=0.2.0 in /usr/local/lib/python3.9/dist-packages (from moviepy) (0.4.8)\n",
            "Requirement already satisfied: requests<3.0,>=2.8.1 in /usr/local/lib/python3.9/dist-packages (from moviepy) (2.27.1)\n",
            "Requirement already satisfied: tqdm<5.0,>=4.11.2 in /usr/local/lib/python3.9/dist-packages (from moviepy) (4.65.0)\n",
            "Requirement already satisfied: proglog<=1.0.0 in /usr/local/lib/python3.9/dist-packages (from moviepy) (0.1.10)\n",
            "Requirement already satisfied: pillow>=8.3.2 in /usr/local/lib/python3.9/dist-packages (from imageio<3.0,>=2.5->moviepy) (8.4.0)\n",
            "Requirement already satisfied: certifi>=2017.4.17 in /usr/local/lib/python3.9/dist-packages (from requests<3.0,>=2.8.1->moviepy) (2022.12.7)\n",
            "Requirement already satisfied: urllib3<1.27,>=1.21.1 in /usr/local/lib/python3.9/dist-packages (from requests<3.0,>=2.8.1->moviepy) (1.26.15)\n",
            "Requirement already satisfied: idna<4,>=2.5 in /usr/local/lib/python3.9/dist-packages (from requests<3.0,>=2.8.1->moviepy) (3.4)\n",
            "Requirement already satisfied: charset-normalizer~=2.0.0 in /usr/local/lib/python3.9/dist-packages (from requests<3.0,>=2.8.1->moviepy) (2.0.12)\n"
          ]
        }
      ],
      "source": [
        "!pip install pytube\n",
        "!pip install moviepy"
      ]
    },
    {
      "cell_type": "code",
      "source": [
        "import os\n",
        "import csv\n",
        "from pytube import YouTube\n",
        "from moviepy.editor import *\n",
        "from pytube import exceptions\n",
        "\n",
        "# Replace CSV_FILE_PATH with the actual path to your CSV file\n",
        "CSV_FILE_PATH = \"/content/Book1.csv\"\n",
        "\n",
        "# Loop through each row in the CSV file\n",
        "with open(CSV_FILE_PATH, newline='') as csvfile:\n",
        "    reader = csv.reader(csvfile)\n",
        "    next(reader)  # skip the header row\n",
        "    \n",
        "    # Loop through each row in the CSV file\n",
        "    for row in reader:\n",
        "        # Extract the video ID, class name, start time, and end time from the row\n",
        "        video_id = row[1]\n",
        "        class_name = row[0]\n",
        "        start_time = float(row[3])\n",
        "        end_time = float(row[4])\n",
        "        \n",
        "        # Create a YouTube object with the video URL\n",
        "        url = f\"https://www.youtube.com/watch?v={video_id}\"\n",
        "        yt = YouTube(url)\n",
        "\n",
        "        try:\n",
        "            # Get the highest resolution video stream\n",
        "            stream = yt.streams.get_highest_resolution()\n",
        "        except exceptions.VideoUnavailable:\n",
        "            print(f\"Video {video_id} is unavailable. Skipping...\")\n",
        "            continue\n",
        "        except KeyError:\n",
        "            print(f\"Video {video_id} has no streaming data. Skipping...\")\n",
        "            continue\n",
        "        except exceptions.RegexMatchError:\n",
        "            print(f\"Invalid video URL: {row[1]}. Skipping...\")\n",
        "            continue\n",
        "\n",
        "        # Set the output file name with the class name and video ID\n",
        "        output_file = f\"{class_name}_{video_id}.mp4\"\n",
        "\n",
        "        # Create a folder with the class name if it doesn't exist\n",
        "        folder_path = f\"./{class_name}\"\n",
        "        if not os.path.exists(folder_path):\n",
        "            os.makedirs(folder_path)\n",
        "\n",
        "        # Download the portion of the video to the folder\n",
        "        stream.download(output_path=folder_path, filename=output_file)\n",
        "\n",
        "        # Create a subclip using moviepy if the start time is smaller than the duration, and save it to the folder\n",
        "        video_path = os.path.join(folder_path, output_file)\n",
        "        video = VideoFileClip(video_path)\n",
        "        if start_time < video.duration:\n",
        "            # Check if the end time is greater than the duration and set it to the duration if it is\n",
        "            if end_time > video.duration:\n",
        "                end_time = video.duration\n",
        "            \n",
        "            subclip = video.subclip(start_time, end_time)\n",
        "            subclip_file = f\"{class_name}_{video_id}_subclip.mp4\"\n",
        "            subclip_path = os.path.join(folder_path, subclip_file)\n",
        "            subclip.write_videofile(subclip_path)\n",
        "            video.close()\n",
        "        else:\n",
        "            print(f\"Start time for video {video_id} is greater than its duration. Skipping...\")\n",
        "            video.close()\n"
      ],
      "metadata": {
        "colab": {
          "base_uri": "https://localhost:8080/"
        },
        "id": "P5FI1VscBUBh",
        "outputId": "279aed96-55b4-4c19-93af-62a5fe17ba16"
      },
      "execution_count": 2,
      "outputs": [
        {
          "output_type": "stream",
          "name": "stdout",
          "text": [
            "Moviepy - Building video ./Archery/Archery_Cv3znTX2yEE_subclip.mp4.\n",
            "MoviePy - Writing audio in Archery_Cv3znTX2yEE_subclipTEMP_MPY_wvf_snd.mp3\n"
          ]
        },
        {
          "output_type": "stream",
          "name": "stderr",
          "text": []
        },
        {
          "output_type": "stream",
          "name": "stdout",
          "text": [
            "MoviePy - Done.\n",
            "Moviepy - Writing video ./Archery/Archery_Cv3znTX2yEE_subclip.mp4\n",
            "\n"
          ]
        },
        {
          "output_type": "stream",
          "name": "stderr",
          "text": []
        },
        {
          "output_type": "stream",
          "name": "stdout",
          "text": [
            "Moviepy - Done !\n",
            "Moviepy - video ready ./Archery/Archery_Cv3znTX2yEE_subclip.mp4\n",
            "Moviepy - Building video ./Archery/Archery_Cv3znTX2yEE_subclip.mp4.\n",
            "MoviePy - Writing audio in Archery_Cv3znTX2yEE_subclipTEMP_MPY_wvf_snd.mp3\n"
          ]
        },
        {
          "output_type": "stream",
          "name": "stderr",
          "text": []
        },
        {
          "output_type": "stream",
          "name": "stdout",
          "text": [
            "MoviePy - Done.\n",
            "Moviepy - Writing video ./Archery/Archery_Cv3znTX2yEE_subclip.mp4\n",
            "\n"
          ]
        },
        {
          "output_type": "stream",
          "name": "stderr",
          "text": []
        },
        {
          "output_type": "stream",
          "name": "stdout",
          "text": [
            "Moviepy - Done !\n",
            "Moviepy - video ready ./Archery/Archery_Cv3znTX2yEE_subclip.mp4\n",
            "Moviepy - Building video ./Archery/Archery_WpYaafikG1U_subclip.mp4.\n",
            "MoviePy - Writing audio in Archery_WpYaafikG1U_subclipTEMP_MPY_wvf_snd.mp3\n"
          ]
        },
        {
          "output_type": "stream",
          "name": "stderr",
          "text": []
        },
        {
          "output_type": "stream",
          "name": "stdout",
          "text": [
            "MoviePy - Done.\n",
            "Moviepy - Writing video ./Archery/Archery_WpYaafikG1U_subclip.mp4\n",
            "\n"
          ]
        },
        {
          "output_type": "stream",
          "name": "stderr",
          "text": []
        },
        {
          "output_type": "stream",
          "name": "stdout",
          "text": [
            "Moviepy - Done !\n",
            "Moviepy - video ready ./Archery/Archery_WpYaafikG1U_subclip.mp4\n",
            "Moviepy - Building video ./Archery/Archery_WpYaafikG1U_subclip.mp4.\n",
            "MoviePy - Writing audio in Archery_WpYaafikG1U_subclipTEMP_MPY_wvf_snd.mp3\n"
          ]
        },
        {
          "output_type": "stream",
          "name": "stderr",
          "text": []
        },
        {
          "output_type": "stream",
          "name": "stdout",
          "text": [
            "MoviePy - Done.\n",
            "Moviepy - Writing video ./Archery/Archery_WpYaafikG1U_subclip.mp4\n",
            "\n"
          ]
        },
        {
          "output_type": "stream",
          "name": "stderr",
          "text": []
        },
        {
          "output_type": "stream",
          "name": "stdout",
          "text": [
            "Moviepy - Done !\n",
            "Moviepy - video ready ./Archery/Archery_WpYaafikG1U_subclip.mp4\n",
            "Moviepy - Building video ./Archery/Archery_O5LhA0ey6hg_subclip.mp4.\n",
            "MoviePy - Writing audio in Archery_O5LhA0ey6hg_subclipTEMP_MPY_wvf_snd.mp3\n"
          ]
        },
        {
          "output_type": "stream",
          "name": "stderr",
          "text": []
        },
        {
          "output_type": "stream",
          "name": "stdout",
          "text": [
            "MoviePy - Done.\n",
            "Moviepy - Writing video ./Archery/Archery_O5LhA0ey6hg_subclip.mp4\n",
            "\n"
          ]
        },
        {
          "output_type": "stream",
          "name": "stderr",
          "text": []
        },
        {
          "output_type": "stream",
          "name": "stdout",
          "text": [
            "Moviepy - Done !\n",
            "Moviepy - video ready ./Archery/Archery_O5LhA0ey6hg_subclip.mp4\n",
            "Moviepy - Building video ./Archery/Archery_O5LhA0ey6hg_subclip.mp4.\n",
            "MoviePy - Writing audio in Archery_O5LhA0ey6hg_subclipTEMP_MPY_wvf_snd.mp3\n"
          ]
        },
        {
          "output_type": "stream",
          "name": "stderr",
          "text": []
        },
        {
          "output_type": "stream",
          "name": "stdout",
          "text": [
            "MoviePy - Done.\n",
            "Moviepy - Writing video ./Archery/Archery_O5LhA0ey6hg_subclip.mp4\n",
            "\n"
          ]
        },
        {
          "output_type": "stream",
          "name": "stderr",
          "text": []
        },
        {
          "output_type": "stream",
          "name": "stdout",
          "text": [
            "Moviepy - Done !\n",
            "Moviepy - video ready ./Archery/Archery_O5LhA0ey6hg_subclip.mp4\n",
            "Moviepy - Building video ./Archery/Archery_kxKIo7u1JXQ_subclip.mp4.\n",
            "MoviePy - Writing audio in Archery_kxKIo7u1JXQ_subclipTEMP_MPY_wvf_snd.mp3\n"
          ]
        },
        {
          "output_type": "stream",
          "name": "stderr",
          "text": []
        },
        {
          "output_type": "stream",
          "name": "stdout",
          "text": [
            "MoviePy - Done.\n",
            "Moviepy - Writing video ./Archery/Archery_kxKIo7u1JXQ_subclip.mp4\n",
            "\n"
          ]
        },
        {
          "output_type": "stream",
          "name": "stderr",
          "text": []
        },
        {
          "output_type": "stream",
          "name": "stdout",
          "text": [
            "Moviepy - Done !\n",
            "Moviepy - video ready ./Archery/Archery_kxKIo7u1JXQ_subclip.mp4\n",
            "Moviepy - Building video ./Archery/Archery_kxKIo7u1JXQ_subclip.mp4.\n",
            "MoviePy - Writing audio in Archery_kxKIo7u1JXQ_subclipTEMP_MPY_wvf_snd.mp3\n"
          ]
        },
        {
          "output_type": "stream",
          "name": "stderr",
          "text": []
        },
        {
          "output_type": "stream",
          "name": "stdout",
          "text": [
            "MoviePy - Done.\n",
            "Moviepy - Writing video ./Archery/Archery_kxKIo7u1JXQ_subclip.mp4\n",
            "\n"
          ]
        },
        {
          "output_type": "stream",
          "name": "stderr",
          "text": []
        },
        {
          "output_type": "stream",
          "name": "stdout",
          "text": [
            "Moviepy - Done !\n",
            "Moviepy - video ready ./Archery/Archery_kxKIo7u1JXQ_subclip.mp4\n",
            "Moviepy - Building video ./Archery/Archery_I9lhm0jE9-Y_subclip.mp4.\n",
            "MoviePy - Writing audio in Archery_I9lhm0jE9-Y_subclipTEMP_MPY_wvf_snd.mp3\n"
          ]
        },
        {
          "output_type": "stream",
          "name": "stderr",
          "text": []
        },
        {
          "output_type": "stream",
          "name": "stdout",
          "text": [
            "MoviePy - Done.\n",
            "Moviepy - Writing video ./Archery/Archery_I9lhm0jE9-Y_subclip.mp4\n",
            "\n"
          ]
        },
        {
          "output_type": "stream",
          "name": "stderr",
          "text": []
        },
        {
          "output_type": "stream",
          "name": "stdout",
          "text": [
            "Moviepy - Done !\n",
            "Moviepy - video ready ./Archery/Archery_I9lhm0jE9-Y_subclip.mp4\n",
            "Moviepy - Building video ./Archery/Archery_I9lhm0jE9-Y_subclip.mp4.\n",
            "MoviePy - Writing audio in Archery_I9lhm0jE9-Y_subclipTEMP_MPY_wvf_snd.mp3\n"
          ]
        },
        {
          "output_type": "stream",
          "name": "stderr",
          "text": []
        },
        {
          "output_type": "stream",
          "name": "stdout",
          "text": [
            "MoviePy - Done.\n",
            "Moviepy - Writing video ./Archery/Archery_I9lhm0jE9-Y_subclip.mp4\n",
            "\n"
          ]
        },
        {
          "output_type": "stream",
          "name": "stderr",
          "text": []
        },
        {
          "output_type": "stream",
          "name": "stdout",
          "text": [
            "Moviepy - Done !\n",
            "Moviepy - video ready ./Archery/Archery_I9lhm0jE9-Y_subclip.mp4\n",
            "Moviepy - Building video ./Archery/Archery_EYO6lnzs8eQ_subclip.mp4.\n",
            "MoviePy - Writing audio in Archery_EYO6lnzs8eQ_subclipTEMP_MPY_wvf_snd.mp3\n"
          ]
        },
        {
          "output_type": "stream",
          "name": "stderr",
          "text": []
        },
        {
          "output_type": "stream",
          "name": "stdout",
          "text": [
            "MoviePy - Done.\n",
            "Moviepy - Writing video ./Archery/Archery_EYO6lnzs8eQ_subclip.mp4\n",
            "\n"
          ]
        },
        {
          "output_type": "stream",
          "name": "stderr",
          "text": []
        },
        {
          "output_type": "stream",
          "name": "stdout",
          "text": [
            "Moviepy - Done !\n",
            "Moviepy - video ready ./Archery/Archery_EYO6lnzs8eQ_subclip.mp4\n",
            "Moviepy - Building video ./Archery/Archery_EYO6lnzs8eQ_subclip.mp4.\n",
            "MoviePy - Writing audio in Archery_EYO6lnzs8eQ_subclipTEMP_MPY_wvf_snd.mp3\n"
          ]
        },
        {
          "output_type": "stream",
          "name": "stderr",
          "text": []
        },
        {
          "output_type": "stream",
          "name": "stdout",
          "text": [
            "MoviePy - Done.\n",
            "Moviepy - Writing video ./Archery/Archery_EYO6lnzs8eQ_subclip.mp4\n",
            "\n"
          ]
        },
        {
          "output_type": "stream",
          "name": "stderr",
          "text": []
        },
        {
          "output_type": "stream",
          "name": "stdout",
          "text": [
            "Moviepy - Done !\n",
            "Moviepy - video ready ./Archery/Archery_EYO6lnzs8eQ_subclip.mp4\n",
            "Moviepy - Building video ./Archery/Archery_RKL8RKQu8rA_subclip.mp4.\n",
            "MoviePy - Writing audio in Archery_RKL8RKQu8rA_subclipTEMP_MPY_wvf_snd.mp3\n"
          ]
        },
        {
          "output_type": "stream",
          "name": "stderr",
          "text": []
        },
        {
          "output_type": "stream",
          "name": "stdout",
          "text": [
            "MoviePy - Done.\n",
            "Moviepy - Writing video ./Archery/Archery_RKL8RKQu8rA_subclip.mp4\n",
            "\n"
          ]
        },
        {
          "output_type": "stream",
          "name": "stderr",
          "text": []
        },
        {
          "output_type": "stream",
          "name": "stdout",
          "text": [
            "Moviepy - Done !\n",
            "Moviepy - video ready ./Archery/Archery_RKL8RKQu8rA_subclip.mp4\n",
            "Moviepy - Building video ./Archery/Archery_RKL8RKQu8rA_subclip.mp4.\n",
            "MoviePy - Writing audio in Archery_RKL8RKQu8rA_subclipTEMP_MPY_wvf_snd.mp3\n"
          ]
        },
        {
          "output_type": "stream",
          "name": "stderr",
          "text": []
        },
        {
          "output_type": "stream",
          "name": "stdout",
          "text": [
            "MoviePy - Done.\n",
            "Moviepy - Writing video ./Archery/Archery_RKL8RKQu8rA_subclip.mp4\n",
            "\n"
          ]
        },
        {
          "output_type": "stream",
          "name": "stderr",
          "text": []
        },
        {
          "output_type": "stream",
          "name": "stdout",
          "text": [
            "Moviepy - Done !\n",
            "Moviepy - video ready ./Archery/Archery_RKL8RKQu8rA_subclip.mp4\n",
            "Moviepy - Building video ./Archery/Archery_V-YLTvSMWaY_subclip.mp4.\n",
            "MoviePy - Writing audio in Archery_V-YLTvSMWaY_subclipTEMP_MPY_wvf_snd.mp3\n"
          ]
        },
        {
          "output_type": "stream",
          "name": "stderr",
          "text": []
        },
        {
          "output_type": "stream",
          "name": "stdout",
          "text": [
            "MoviePy - Done.\n",
            "Moviepy - Writing video ./Archery/Archery_V-YLTvSMWaY_subclip.mp4\n",
            "\n"
          ]
        },
        {
          "output_type": "stream",
          "name": "stderr",
          "text": []
        },
        {
          "output_type": "stream",
          "name": "stdout",
          "text": [
            "Moviepy - Done !\n",
            "Moviepy - video ready ./Archery/Archery_V-YLTvSMWaY_subclip.mp4\n",
            "Moviepy - Building video ./Archery/Archery_V-YLTvSMWaY_subclip.mp4.\n",
            "MoviePy - Writing audio in Archery_V-YLTvSMWaY_subclipTEMP_MPY_wvf_snd.mp3\n"
          ]
        },
        {
          "output_type": "stream",
          "name": "stderr",
          "text": []
        },
        {
          "output_type": "stream",
          "name": "stdout",
          "text": [
            "MoviePy - Done.\n",
            "Moviepy - Writing video ./Archery/Archery_V-YLTvSMWaY_subclip.mp4\n",
            "\n"
          ]
        },
        {
          "output_type": "stream",
          "name": "stderr",
          "text": []
        },
        {
          "output_type": "stream",
          "name": "stdout",
          "text": [
            "Moviepy - Done !\n",
            "Moviepy - video ready ./Archery/Archery_V-YLTvSMWaY_subclip.mp4\n",
            "Moviepy - Building video ./Archery/Archery_88LTpRRxF_M_subclip.mp4.\n",
            "MoviePy - Writing audio in Archery_88LTpRRxF_M_subclipTEMP_MPY_wvf_snd.mp3\n"
          ]
        },
        {
          "output_type": "stream",
          "name": "stderr",
          "text": []
        },
        {
          "output_type": "stream",
          "name": "stdout",
          "text": [
            "MoviePy - Done.\n",
            "Moviepy - Writing video ./Archery/Archery_88LTpRRxF_M_subclip.mp4\n",
            "\n"
          ]
        },
        {
          "output_type": "stream",
          "name": "stderr",
          "text": []
        },
        {
          "output_type": "stream",
          "name": "stdout",
          "text": [
            "Moviepy - Done !\n",
            "Moviepy - video ready ./Archery/Archery_88LTpRRxF_M_subclip.mp4\n",
            "Moviepy - Building video ./Archery/Archery_88LTpRRxF_M_subclip.mp4.\n",
            "MoviePy - Writing audio in Archery_88LTpRRxF_M_subclipTEMP_MPY_wvf_snd.mp3\n"
          ]
        },
        {
          "output_type": "stream",
          "name": "stderr",
          "text": []
        },
        {
          "output_type": "stream",
          "name": "stdout",
          "text": [
            "MoviePy - Done.\n",
            "Moviepy - Writing video ./Archery/Archery_88LTpRRxF_M_subclip.mp4\n",
            "\n"
          ]
        },
        {
          "output_type": "stream",
          "name": "stderr",
          "text": []
        },
        {
          "output_type": "stream",
          "name": "stdout",
          "text": [
            "Moviepy - Done !\n",
            "Moviepy - video ready ./Archery/Archery_88LTpRRxF_M_subclip.mp4\n",
            "Moviepy - Building video ./Archery/Archery_-2QPmVXKx-A_subclip.mp4.\n",
            "MoviePy - Writing audio in Archery_-2QPmVXKx-A_subclipTEMP_MPY_wvf_snd.mp3\n"
          ]
        },
        {
          "output_type": "stream",
          "name": "stderr",
          "text": []
        },
        {
          "output_type": "stream",
          "name": "stdout",
          "text": [
            "MoviePy - Done.\n",
            "Moviepy - Writing video ./Archery/Archery_-2QPmVXKx-A_subclip.mp4\n",
            "\n"
          ]
        },
        {
          "output_type": "stream",
          "name": "stderr",
          "text": []
        },
        {
          "output_type": "stream",
          "name": "stdout",
          "text": [
            "Moviepy - Done !\n",
            "Moviepy - video ready ./Archery/Archery_-2QPmVXKx-A_subclip.mp4\n",
            "Moviepy - Building video ./Archery/Archery_-2QPmVXKx-A_subclip.mp4.\n",
            "MoviePy - Writing audio in Archery_-2QPmVXKx-A_subclipTEMP_MPY_wvf_snd.mp3\n"
          ]
        },
        {
          "output_type": "stream",
          "name": "stderr",
          "text": []
        },
        {
          "output_type": "stream",
          "name": "stdout",
          "text": [
            "MoviePy - Done.\n",
            "Moviepy - Writing video ./Archery/Archery_-2QPmVXKx-A_subclip.mp4\n",
            "\n"
          ]
        },
        {
          "output_type": "stream",
          "name": "stderr",
          "text": []
        },
        {
          "output_type": "stream",
          "name": "stdout",
          "text": [
            "Moviepy - Done !\n",
            "Moviepy - video ready ./Archery/Archery_-2QPmVXKx-A_subclip.mp4\n",
            "Moviepy - Building video ./Archery/Archery_cUo6b-S34Xo_subclip.mp4.\n",
            "MoviePy - Writing audio in Archery_cUo6b-S34Xo_subclipTEMP_MPY_wvf_snd.mp3\n"
          ]
        },
        {
          "output_type": "stream",
          "name": "stderr",
          "text": []
        },
        {
          "output_type": "stream",
          "name": "stdout",
          "text": [
            "MoviePy - Done.\n",
            "Moviepy - Writing video ./Archery/Archery_cUo6b-S34Xo_subclip.mp4\n",
            "\n"
          ]
        },
        {
          "output_type": "stream",
          "name": "stderr",
          "text": []
        },
        {
          "output_type": "stream",
          "name": "stdout",
          "text": [
            "Moviepy - Done !\n",
            "Moviepy - video ready ./Archery/Archery_cUo6b-S34Xo_subclip.mp4\n",
            "Moviepy - Building video ./Archery/Archery_cUo6b-S34Xo_subclip.mp4.\n",
            "MoviePy - Writing audio in Archery_cUo6b-S34Xo_subclipTEMP_MPY_wvf_snd.mp3\n"
          ]
        },
        {
          "output_type": "stream",
          "name": "stderr",
          "text": []
        },
        {
          "output_type": "stream",
          "name": "stdout",
          "text": [
            "MoviePy - Done.\n",
            "Moviepy - Writing video ./Archery/Archery_cUo6b-S34Xo_subclip.mp4\n",
            "\n"
          ]
        },
        {
          "output_type": "stream",
          "name": "stderr",
          "text": []
        },
        {
          "output_type": "stream",
          "name": "stdout",
          "text": [
            "Moviepy - Done !\n",
            "Moviepy - video ready ./Archery/Archery_cUo6b-S34Xo_subclip.mp4\n",
            "Video cxiDbX6zQls is unavailable. Skipping...\n",
            "Moviepy - Building video ./Archery/Archery_WjkOohNM2xQ_subclip.mp4.\n",
            "MoviePy - Writing audio in Archery_WjkOohNM2xQ_subclipTEMP_MPY_wvf_snd.mp3\n"
          ]
        },
        {
          "output_type": "stream",
          "name": "stderr",
          "text": []
        },
        {
          "output_type": "stream",
          "name": "stdout",
          "text": [
            "MoviePy - Done.\n",
            "Moviepy - Writing video ./Archery/Archery_WjkOohNM2xQ_subclip.mp4\n",
            "\n"
          ]
        },
        {
          "output_type": "stream",
          "name": "stderr",
          "text": []
        },
        {
          "output_type": "stream",
          "name": "stdout",
          "text": [
            "Moviepy - Done !\n",
            "Moviepy - video ready ./Archery/Archery_WjkOohNM2xQ_subclip.mp4\n",
            "Moviepy - Building video ./Archery/Archery_WjkOohNM2xQ_subclip.mp4.\n",
            "MoviePy - Writing audio in Archery_WjkOohNM2xQ_subclipTEMP_MPY_wvf_snd.mp3\n"
          ]
        },
        {
          "output_type": "stream",
          "name": "stderr",
          "text": []
        },
        {
          "output_type": "stream",
          "name": "stdout",
          "text": [
            "MoviePy - Done.\n",
            "Moviepy - Writing video ./Archery/Archery_WjkOohNM2xQ_subclip.mp4\n",
            "\n"
          ]
        },
        {
          "output_type": "stream",
          "name": "stderr",
          "text": []
        },
        {
          "output_type": "stream",
          "name": "stdout",
          "text": [
            "Moviepy - Done !\n",
            "Moviepy - video ready ./Archery/Archery_WjkOohNM2xQ_subclip.mp4\n",
            "Moviepy - Building video ./Archery/Archery_8PdzgPkxZLE_subclip.mp4.\n",
            "MoviePy - Writing audio in Archery_8PdzgPkxZLE_subclipTEMP_MPY_wvf_snd.mp3\n"
          ]
        },
        {
          "output_type": "stream",
          "name": "stderr",
          "text": []
        },
        {
          "output_type": "stream",
          "name": "stdout",
          "text": [
            "MoviePy - Done.\n",
            "Moviepy - Writing video ./Archery/Archery_8PdzgPkxZLE_subclip.mp4\n",
            "\n"
          ]
        },
        {
          "output_type": "stream",
          "name": "stderr",
          "text": []
        },
        {
          "output_type": "stream",
          "name": "stdout",
          "text": [
            "Moviepy - Done !\n",
            "Moviepy - video ready ./Archery/Archery_8PdzgPkxZLE_subclip.mp4\n",
            "Moviepy - Building video ./Archery/Archery_8PdzgPkxZLE_subclip.mp4.\n",
            "MoviePy - Writing audio in Archery_8PdzgPkxZLE_subclipTEMP_MPY_wvf_snd.mp3\n"
          ]
        },
        {
          "output_type": "stream",
          "name": "stderr",
          "text": []
        },
        {
          "output_type": "stream",
          "name": "stdout",
          "text": [
            "MoviePy - Done.\n",
            "Moviepy - Writing video ./Archery/Archery_8PdzgPkxZLE_subclip.mp4\n",
            "\n"
          ]
        },
        {
          "output_type": "stream",
          "name": "stderr",
          "text": []
        },
        {
          "output_type": "stream",
          "name": "stdout",
          "text": [
            "Moviepy - Done !\n",
            "Moviepy - video ready ./Archery/Archery_8PdzgPkxZLE_subclip.mp4\n",
            "Moviepy - Building video ./Archery/Archery_8PdzgPkxZLE_subclip.mp4.\n",
            "MoviePy - Writing audio in Archery_8PdzgPkxZLE_subclipTEMP_MPY_wvf_snd.mp3\n"
          ]
        },
        {
          "output_type": "stream",
          "name": "stderr",
          "text": []
        },
        {
          "output_type": "stream",
          "name": "stdout",
          "text": [
            "MoviePy - Done.\n",
            "Moviepy - Writing video ./Archery/Archery_8PdzgPkxZLE_subclip.mp4\n",
            "\n"
          ]
        },
        {
          "output_type": "stream",
          "name": "stderr",
          "text": []
        },
        {
          "output_type": "stream",
          "name": "stdout",
          "text": [
            "Moviepy - Done !\n",
            "Moviepy - video ready ./Archery/Archery_8PdzgPkxZLE_subclip.mp4\n",
            "Moviepy - Building video ./Archery/Archery_immn-HCWeFk_subclip.mp4.\n",
            "MoviePy - Writing audio in Archery_immn-HCWeFk_subclipTEMP_MPY_wvf_snd.mp3\n"
          ]
        },
        {
          "output_type": "stream",
          "name": "stderr",
          "text": []
        },
        {
          "output_type": "stream",
          "name": "stdout",
          "text": [
            "MoviePy - Done.\n",
            "Moviepy - Writing video ./Archery/Archery_immn-HCWeFk_subclip.mp4\n",
            "\n"
          ]
        },
        {
          "output_type": "stream",
          "name": "stderr",
          "text": []
        },
        {
          "output_type": "stream",
          "name": "stdout",
          "text": [
            "Moviepy - Done !\n",
            "Moviepy - video ready ./Archery/Archery_immn-HCWeFk_subclip.mp4\n",
            "Moviepy - Building video ./Archery/Archery_immn-HCWeFk_subclip.mp4.\n",
            "MoviePy - Writing audio in Archery_immn-HCWeFk_subclipTEMP_MPY_wvf_snd.mp3\n"
          ]
        },
        {
          "output_type": "stream",
          "name": "stderr",
          "text": []
        },
        {
          "output_type": "stream",
          "name": "stdout",
          "text": [
            "MoviePy - Done.\n",
            "Moviepy - Writing video ./Archery/Archery_immn-HCWeFk_subclip.mp4\n",
            "\n"
          ]
        },
        {
          "output_type": "stream",
          "name": "stderr",
          "text": []
        },
        {
          "output_type": "stream",
          "name": "stdout",
          "text": [
            "Moviepy - Done !\n",
            "Moviepy - video ready ./Archery/Archery_immn-HCWeFk_subclip.mp4\n",
            "Moviepy - Building video ./Archery/Archery_immn-HCWeFk_subclip.mp4.\n",
            "MoviePy - Writing audio in Archery_immn-HCWeFk_subclipTEMP_MPY_wvf_snd.mp3\n"
          ]
        },
        {
          "output_type": "stream",
          "name": "stderr",
          "text": []
        },
        {
          "output_type": "stream",
          "name": "stdout",
          "text": [
            "MoviePy - Done.\n",
            "Moviepy - Writing video ./Archery/Archery_immn-HCWeFk_subclip.mp4\n",
            "\n"
          ]
        },
        {
          "output_type": "stream",
          "name": "stderr",
          "text": []
        },
        {
          "output_type": "stream",
          "name": "stdout",
          "text": [
            "Moviepy - Done !\n",
            "Moviepy - video ready ./Archery/Archery_immn-HCWeFk_subclip.mp4\n",
            "Moviepy - Building video ./Archery/Archery_ip5zIqmd57E_subclip.mp4.\n",
            "MoviePy - Writing audio in Archery_ip5zIqmd57E_subclipTEMP_MPY_wvf_snd.mp3\n"
          ]
        },
        {
          "output_type": "stream",
          "name": "stderr",
          "text": []
        },
        {
          "output_type": "stream",
          "name": "stdout",
          "text": [
            "MoviePy - Done.\n",
            "Moviepy - Writing video ./Archery/Archery_ip5zIqmd57E_subclip.mp4\n",
            "\n"
          ]
        },
        {
          "output_type": "stream",
          "name": "stderr",
          "text": []
        },
        {
          "output_type": "stream",
          "name": "stdout",
          "text": [
            "Moviepy - Done !\n",
            "Moviepy - video ready ./Archery/Archery_ip5zIqmd57E_subclip.mp4\n",
            "Moviepy - Building video ./Archery/Archery_ip5zIqmd57E_subclip.mp4.\n",
            "MoviePy - Writing audio in Archery_ip5zIqmd57E_subclipTEMP_MPY_wvf_snd.mp3\n"
          ]
        },
        {
          "output_type": "stream",
          "name": "stderr",
          "text": []
        },
        {
          "output_type": "stream",
          "name": "stdout",
          "text": [
            "MoviePy - Done.\n",
            "Moviepy - Writing video ./Archery/Archery_ip5zIqmd57E_subclip.mp4\n",
            "\n"
          ]
        },
        {
          "output_type": "stream",
          "name": "stderr",
          "text": []
        },
        {
          "output_type": "stream",
          "name": "stdout",
          "text": [
            "Moviepy - Done !\n",
            "Moviepy - video ready ./Archery/Archery_ip5zIqmd57E_subclip.mp4\n",
            "Moviepy - Building video ./Archery/Archery_ip5zIqmd57E_subclip.mp4.\n",
            "MoviePy - Writing audio in Archery_ip5zIqmd57E_subclipTEMP_MPY_wvf_snd.mp3\n"
          ]
        },
        {
          "output_type": "stream",
          "name": "stderr",
          "text": []
        },
        {
          "output_type": "stream",
          "name": "stdout",
          "text": [
            "MoviePy - Done.\n",
            "Moviepy - Writing video ./Archery/Archery_ip5zIqmd57E_subclip.mp4\n",
            "\n"
          ]
        },
        {
          "output_type": "stream",
          "name": "stderr",
          "text": []
        },
        {
          "output_type": "stream",
          "name": "stdout",
          "text": [
            "Moviepy - Done !\n",
            "Moviepy - video ready ./Archery/Archery_ip5zIqmd57E_subclip.mp4\n",
            "Moviepy - Building video ./Archery/Archery_ZzW4eGuN5DY_subclip.mp4.\n",
            "MoviePy - Writing audio in Archery_ZzW4eGuN5DY_subclipTEMP_MPY_wvf_snd.mp3\n"
          ]
        },
        {
          "output_type": "stream",
          "name": "stderr",
          "text": []
        },
        {
          "output_type": "stream",
          "name": "stdout",
          "text": [
            "MoviePy - Done.\n",
            "Moviepy - Writing video ./Archery/Archery_ZzW4eGuN5DY_subclip.mp4\n",
            "\n"
          ]
        },
        {
          "output_type": "stream",
          "name": "stderr",
          "text": []
        },
        {
          "output_type": "stream",
          "name": "stdout",
          "text": [
            "Moviepy - Done !\n",
            "Moviepy - video ready ./Archery/Archery_ZzW4eGuN5DY_subclip.mp4\n",
            "Moviepy - Building video ./Archery/Archery_ZzW4eGuN5DY_subclip.mp4.\n",
            "MoviePy - Writing audio in Archery_ZzW4eGuN5DY_subclipTEMP_MPY_wvf_snd.mp3\n"
          ]
        },
        {
          "output_type": "stream",
          "name": "stderr",
          "text": []
        },
        {
          "output_type": "stream",
          "name": "stdout",
          "text": [
            "MoviePy - Done.\n",
            "Moviepy - Writing video ./Archery/Archery_ZzW4eGuN5DY_subclip.mp4\n",
            "\n"
          ]
        },
        {
          "output_type": "stream",
          "name": "stderr",
          "text": []
        },
        {
          "output_type": "stream",
          "name": "stdout",
          "text": [
            "Moviepy - Done !\n",
            "Moviepy - video ready ./Archery/Archery_ZzW4eGuN5DY_subclip.mp4\n",
            "Start time for video ZzW4eGuN5DY is greater than its duration. Skipping...\n",
            "Moviepy - Building video ./Archery/Archery_LctIRx0sq30_subclip.mp4.\n",
            "MoviePy - Writing audio in Archery_LctIRx0sq30_subclipTEMP_MPY_wvf_snd.mp3\n"
          ]
        },
        {
          "output_type": "stream",
          "name": "stderr",
          "text": []
        },
        {
          "output_type": "stream",
          "name": "stdout",
          "text": [
            "MoviePy - Done.\n",
            "Moviepy - Writing video ./Archery/Archery_LctIRx0sq30_subclip.mp4\n",
            "\n"
          ]
        },
        {
          "output_type": "stream",
          "name": "stderr",
          "text": []
        },
        {
          "output_type": "stream",
          "name": "stdout",
          "text": [
            "Moviepy - Done !\n",
            "Moviepy - video ready ./Archery/Archery_LctIRx0sq30_subclip.mp4\n",
            "Moviepy - Building video ./Archery/Archery_LctIRx0sq30_subclip.mp4.\n",
            "MoviePy - Writing audio in Archery_LctIRx0sq30_subclipTEMP_MPY_wvf_snd.mp3\n"
          ]
        },
        {
          "output_type": "stream",
          "name": "stderr",
          "text": []
        },
        {
          "output_type": "stream",
          "name": "stdout",
          "text": [
            "MoviePy - Done.\n",
            "Moviepy - Writing video ./Archery/Archery_LctIRx0sq30_subclip.mp4\n",
            "\n"
          ]
        },
        {
          "output_type": "stream",
          "name": "stderr",
          "text": []
        },
        {
          "output_type": "stream",
          "name": "stdout",
          "text": [
            "Moviepy - Done !\n",
            "Moviepy - video ready ./Archery/Archery_LctIRx0sq30_subclip.mp4\n",
            "Moviepy - Building video ./Kite flying/Kite flying_zGLKHwTBhyc_subclip.mp4.\n",
            "MoviePy - Writing audio in Kite flying_zGLKHwTBhyc_subclipTEMP_MPY_wvf_snd.mp3\n"
          ]
        },
        {
          "output_type": "stream",
          "name": "stderr",
          "text": []
        },
        {
          "output_type": "stream",
          "name": "stdout",
          "text": [
            "MoviePy - Done.\n",
            "Moviepy - Writing video ./Kite flying/Kite flying_zGLKHwTBhyc_subclip.mp4\n",
            "\n"
          ]
        },
        {
          "output_type": "stream",
          "name": "stderr",
          "text": []
        },
        {
          "output_type": "stream",
          "name": "stdout",
          "text": [
            "Moviepy - Done !\n",
            "Moviepy - video ready ./Kite flying/Kite flying_zGLKHwTBhyc_subclip.mp4\n",
            "Moviepy - Building video ./Kite flying/Kite flying_zGLKHwTBhyc_subclip.mp4.\n",
            "MoviePy - Writing audio in Kite flying_zGLKHwTBhyc_subclipTEMP_MPY_wvf_snd.mp3\n"
          ]
        },
        {
          "output_type": "stream",
          "name": "stderr",
          "text": []
        },
        {
          "output_type": "stream",
          "name": "stdout",
          "text": [
            "MoviePy - Done.\n",
            "Moviepy - Writing video ./Kite flying/Kite flying_zGLKHwTBhyc_subclip.mp4\n",
            "\n"
          ]
        },
        {
          "output_type": "stream",
          "name": "stderr",
          "text": []
        },
        {
          "output_type": "stream",
          "name": "stdout",
          "text": [
            "Moviepy - Done !\n",
            "Moviepy - video ready ./Kite flying/Kite flying_zGLKHwTBhyc_subclip.mp4\n",
            "Moviepy - Building video ./Kite flying/Kite flying_zGLKHwTBhyc_subclip.mp4.\n",
            "MoviePy - Writing audio in Kite flying_zGLKHwTBhyc_subclipTEMP_MPY_wvf_snd.mp3\n"
          ]
        },
        {
          "output_type": "stream",
          "name": "stderr",
          "text": []
        },
        {
          "output_type": "stream",
          "name": "stdout",
          "text": [
            "MoviePy - Done.\n",
            "Moviepy - Writing video ./Kite flying/Kite flying_zGLKHwTBhyc_subclip.mp4\n",
            "\n"
          ]
        },
        {
          "output_type": "stream",
          "name": "stderr",
          "text": []
        },
        {
          "output_type": "stream",
          "name": "stdout",
          "text": [
            "Moviepy - Done !\n",
            "Moviepy - video ready ./Kite flying/Kite flying_zGLKHwTBhyc_subclip.mp4\n",
            "Moviepy - Building video ./Kite flying/Kite flying_YxLw53cJ5S8_subclip.mp4.\n",
            "MoviePy - Writing audio in Kite flying_YxLw53cJ5S8_subclipTEMP_MPY_wvf_snd.mp3\n"
          ]
        },
        {
          "output_type": "stream",
          "name": "stderr",
          "text": []
        },
        {
          "output_type": "stream",
          "name": "stdout",
          "text": [
            "MoviePy - Done.\n",
            "Moviepy - Writing video ./Kite flying/Kite flying_YxLw53cJ5S8_subclip.mp4\n",
            "\n"
          ]
        },
        {
          "output_type": "stream",
          "name": "stderr",
          "text": []
        },
        {
          "output_type": "stream",
          "name": "stdout",
          "text": [
            "Moviepy - Done !\n",
            "Moviepy - video ready ./Kite flying/Kite flying_YxLw53cJ5S8_subclip.mp4\n",
            "Moviepy - Building video ./Kite flying/Kite flying_YxLw53cJ5S8_subclip.mp4.\n",
            "MoviePy - Writing audio in Kite flying_YxLw53cJ5S8_subclipTEMP_MPY_wvf_snd.mp3\n"
          ]
        },
        {
          "output_type": "stream",
          "name": "stderr",
          "text": []
        },
        {
          "output_type": "stream",
          "name": "stdout",
          "text": [
            "MoviePy - Done.\n",
            "Moviepy - Writing video ./Kite flying/Kite flying_YxLw53cJ5S8_subclip.mp4\n",
            "\n"
          ]
        },
        {
          "output_type": "stream",
          "name": "stderr",
          "text": []
        },
        {
          "output_type": "stream",
          "name": "stdout",
          "text": [
            "Moviepy - Done !\n",
            "Moviepy - video ready ./Kite flying/Kite flying_YxLw53cJ5S8_subclip.mp4\n",
            "Moviepy - Building video ./Kite flying/Kite flying_YxLw53cJ5S8_subclip.mp4.\n",
            "MoviePy - Writing audio in Kite flying_YxLw53cJ5S8_subclipTEMP_MPY_wvf_snd.mp3\n"
          ]
        },
        {
          "output_type": "stream",
          "name": "stderr",
          "text": []
        },
        {
          "output_type": "stream",
          "name": "stdout",
          "text": [
            "MoviePy - Done.\n",
            "Moviepy - Writing video ./Kite flying/Kite flying_YxLw53cJ5S8_subclip.mp4\n",
            "\n"
          ]
        },
        {
          "output_type": "stream",
          "name": "stderr",
          "text": []
        },
        {
          "output_type": "stream",
          "name": "stdout",
          "text": [
            "Moviepy - Done !\n",
            "Moviepy - video ready ./Kite flying/Kite flying_YxLw53cJ5S8_subclip.mp4\n",
            "Moviepy - Building video ./Kite flying/Kite flying_YxLw53cJ5S8_subclip.mp4.\n",
            "MoviePy - Writing audio in Kite flying_YxLw53cJ5S8_subclipTEMP_MPY_wvf_snd.mp3\n"
          ]
        },
        {
          "output_type": "stream",
          "name": "stderr",
          "text": []
        },
        {
          "output_type": "stream",
          "name": "stdout",
          "text": [
            "MoviePy - Done.\n",
            "Moviepy - Writing video ./Kite flying/Kite flying_YxLw53cJ5S8_subclip.mp4\n",
            "\n"
          ]
        },
        {
          "output_type": "stream",
          "name": "stderr",
          "text": []
        },
        {
          "output_type": "stream",
          "name": "stdout",
          "text": [
            "Moviepy - Done !\n",
            "Moviepy - video ready ./Kite flying/Kite flying_YxLw53cJ5S8_subclip.mp4\n",
            "Moviepy - Building video ./Kite flying/Kite flying_QFTg7el7_Zo_subclip.mp4.\n",
            "MoviePy - Writing audio in Kite flying_QFTg7el7_Zo_subclipTEMP_MPY_wvf_snd.mp3\n"
          ]
        },
        {
          "output_type": "stream",
          "name": "stderr",
          "text": []
        },
        {
          "output_type": "stream",
          "name": "stdout",
          "text": [
            "MoviePy - Done.\n",
            "Moviepy - Writing video ./Kite flying/Kite flying_QFTg7el7_Zo_subclip.mp4\n",
            "\n"
          ]
        },
        {
          "output_type": "stream",
          "name": "stderr",
          "text": []
        },
        {
          "output_type": "stream",
          "name": "stdout",
          "text": [
            "Moviepy - Done !\n",
            "Moviepy - video ready ./Kite flying/Kite flying_QFTg7el7_Zo_subclip.mp4\n",
            "Moviepy - Building video ./Kite flying/Kite flying_QFTg7el7_Zo_subclip.mp4.\n",
            "MoviePy - Writing audio in Kite flying_QFTg7el7_Zo_subclipTEMP_MPY_wvf_snd.mp3\n"
          ]
        },
        {
          "output_type": "stream",
          "name": "stderr",
          "text": [
            "                                                                 "
          ]
        },
        {
          "output_type": "stream",
          "name": "stdout",
          "text": [
            "MoviePy - Done.\n",
            "Moviepy - Writing video ./Kite flying/Kite flying_QFTg7el7_Zo_subclip.mp4\n",
            "\n"
          ]
        },
        {
          "output_type": "stream",
          "name": "stderr",
          "text": []
        },
        {
          "output_type": "stream",
          "name": "stdout",
          "text": [
            "Moviepy - Done !\n",
            "Moviepy - video ready ./Kite flying/Kite flying_QFTg7el7_Zo_subclip.mp4\n",
            "Moviepy - Building video ./Kite flying/Kite flying_QFTg7el7_Zo_subclip.mp4.\n",
            "MoviePy - Writing audio in Kite flying_QFTg7el7_Zo_subclipTEMP_MPY_wvf_snd.mp3\n"
          ]
        },
        {
          "output_type": "stream",
          "name": "stderr",
          "text": []
        },
        {
          "output_type": "stream",
          "name": "stdout",
          "text": [
            "MoviePy - Done.\n",
            "Moviepy - Writing video ./Kite flying/Kite flying_QFTg7el7_Zo_subclip.mp4\n",
            "\n"
          ]
        },
        {
          "output_type": "stream",
          "name": "stderr",
          "text": []
        },
        {
          "output_type": "stream",
          "name": "stdout",
          "text": [
            "Moviepy - Done !\n",
            "Moviepy - video ready ./Kite flying/Kite flying_QFTg7el7_Zo_subclip.mp4\n",
            "Moviepy - Building video ./Kite flying/Kite flying_QFTg7el7_Zo_subclip.mp4.\n",
            "MoviePy - Writing audio in Kite flying_QFTg7el7_Zo_subclipTEMP_MPY_wvf_snd.mp3\n"
          ]
        },
        {
          "output_type": "stream",
          "name": "stderr",
          "text": []
        },
        {
          "output_type": "stream",
          "name": "stdout",
          "text": [
            "MoviePy - Done.\n",
            "Moviepy - Writing video ./Kite flying/Kite flying_QFTg7el7_Zo_subclip.mp4\n",
            "\n"
          ]
        },
        {
          "output_type": "stream",
          "name": "stderr",
          "text": []
        },
        {
          "output_type": "stream",
          "name": "stdout",
          "text": [
            "Moviepy - Done !\n",
            "Moviepy - video ready ./Kite flying/Kite flying_QFTg7el7_Zo_subclip.mp4\n",
            "Moviepy - Building video ./Kite flying/Kite flying_XAH_3rvr-to_subclip.mp4.\n",
            "MoviePy - Writing audio in Kite flying_XAH_3rvr-to_subclipTEMP_MPY_wvf_snd.mp3\n"
          ]
        },
        {
          "output_type": "stream",
          "name": "stderr",
          "text": []
        },
        {
          "output_type": "stream",
          "name": "stdout",
          "text": [
            "MoviePy - Done.\n",
            "Moviepy - Writing video ./Kite flying/Kite flying_XAH_3rvr-to_subclip.mp4\n",
            "\n"
          ]
        },
        {
          "output_type": "stream",
          "name": "stderr",
          "text": []
        },
        {
          "output_type": "stream",
          "name": "stdout",
          "text": [
            "Moviepy - Done !\n",
            "Moviepy - video ready ./Kite flying/Kite flying_XAH_3rvr-to_subclip.mp4\n",
            "Moviepy - Building video ./Kite flying/Kite flying_XAH_3rvr-to_subclip.mp4.\n",
            "MoviePy - Writing audio in Kite flying_XAH_3rvr-to_subclipTEMP_MPY_wvf_snd.mp3\n"
          ]
        },
        {
          "output_type": "stream",
          "name": "stderr",
          "text": []
        },
        {
          "output_type": "stream",
          "name": "stdout",
          "text": [
            "MoviePy - Done.\n",
            "Moviepy - Writing video ./Kite flying/Kite flying_XAH_3rvr-to_subclip.mp4\n",
            "\n"
          ]
        },
        {
          "output_type": "stream",
          "name": "stderr",
          "text": []
        },
        {
          "output_type": "stream",
          "name": "stdout",
          "text": [
            "Moviepy - Done !\n",
            "Moviepy - video ready ./Kite flying/Kite flying_XAH_3rvr-to_subclip.mp4\n",
            "Moviepy - Building video ./Kite flying/Kite flying_XAH_3rvr-to_subclip.mp4.\n",
            "MoviePy - Writing audio in Kite flying_XAH_3rvr-to_subclipTEMP_MPY_wvf_snd.mp3\n"
          ]
        },
        {
          "output_type": "stream",
          "name": "stderr",
          "text": []
        },
        {
          "output_type": "stream",
          "name": "stdout",
          "text": [
            "MoviePy - Done.\n",
            "Moviepy - Writing video ./Kite flying/Kite flying_XAH_3rvr-to_subclip.mp4\n",
            "\n"
          ]
        },
        {
          "output_type": "stream",
          "name": "stderr",
          "text": []
        },
        {
          "output_type": "stream",
          "name": "stdout",
          "text": [
            "Moviepy - Done !\n",
            "Moviepy - video ready ./Kite flying/Kite flying_XAH_3rvr-to_subclip.mp4\n",
            "Moviepy - Building video ./Kite flying/Kite flying_XAH_3rvr-to_subclip.mp4.\n",
            "MoviePy - Writing audio in Kite flying_XAH_3rvr-to_subclipTEMP_MPY_wvf_snd.mp3\n"
          ]
        },
        {
          "output_type": "stream",
          "name": "stderr",
          "text": []
        },
        {
          "output_type": "stream",
          "name": "stdout",
          "text": [
            "MoviePy - Done.\n",
            "Moviepy - Writing video ./Kite flying/Kite flying_XAH_3rvr-to_subclip.mp4\n",
            "\n"
          ]
        },
        {
          "output_type": "stream",
          "name": "stderr",
          "text": []
        },
        {
          "output_type": "stream",
          "name": "stdout",
          "text": [
            "Moviepy - Done !\n",
            "Moviepy - video ready ./Kite flying/Kite flying_XAH_3rvr-to_subclip.mp4\n",
            "Video 8SBgUpqjm4s is unavailable. Skipping...\n",
            "Video 8SBgUpqjm4s is unavailable. Skipping...\n",
            "Video 8SBgUpqjm4s is unavailable. Skipping...\n",
            "Video 8SBgUpqjm4s is unavailable. Skipping...\n",
            "Moviepy - Building video ./Kite flying/Kite flying_yZ1-iGs6zH4_subclip.mp4.\n",
            "MoviePy - Writing audio in Kite flying_yZ1-iGs6zH4_subclipTEMP_MPY_wvf_snd.mp3\n"
          ]
        },
        {
          "output_type": "stream",
          "name": "stderr",
          "text": []
        },
        {
          "output_type": "stream",
          "name": "stdout",
          "text": [
            "MoviePy - Done.\n",
            "Moviepy - Writing video ./Kite flying/Kite flying_yZ1-iGs6zH4_subclip.mp4\n",
            "\n"
          ]
        },
        {
          "output_type": "stream",
          "name": "stderr",
          "text": []
        },
        {
          "output_type": "stream",
          "name": "stdout",
          "text": [
            "Moviepy - Done !\n",
            "Moviepy - video ready ./Kite flying/Kite flying_yZ1-iGs6zH4_subclip.mp4\n",
            "Moviepy - Building video ./Kite flying/Kite flying_yZ1-iGs6zH4_subclip.mp4.\n",
            "MoviePy - Writing audio in Kite flying_yZ1-iGs6zH4_subclipTEMP_MPY_wvf_snd.mp3\n"
          ]
        },
        {
          "output_type": "stream",
          "name": "stderr",
          "text": []
        },
        {
          "output_type": "stream",
          "name": "stdout",
          "text": [
            "MoviePy - Done.\n",
            "Moviepy - Writing video ./Kite flying/Kite flying_yZ1-iGs6zH4_subclip.mp4\n",
            "\n"
          ]
        },
        {
          "output_type": "stream",
          "name": "stderr",
          "text": []
        },
        {
          "output_type": "stream",
          "name": "stdout",
          "text": [
            "Moviepy - Done !\n",
            "Moviepy - video ready ./Kite flying/Kite flying_yZ1-iGs6zH4_subclip.mp4\n",
            "Moviepy - Building video ./Kite flying/Kite flying_yZ1-iGs6zH4_subclip.mp4.\n",
            "MoviePy - Writing audio in Kite flying_yZ1-iGs6zH4_subclipTEMP_MPY_wvf_snd.mp3\n"
          ]
        },
        {
          "output_type": "stream",
          "name": "stderr",
          "text": []
        },
        {
          "output_type": "stream",
          "name": "stdout",
          "text": [
            "MoviePy - Done.\n",
            "Moviepy - Writing video ./Kite flying/Kite flying_yZ1-iGs6zH4_subclip.mp4\n",
            "\n"
          ]
        },
        {
          "output_type": "stream",
          "name": "stderr",
          "text": []
        },
        {
          "output_type": "stream",
          "name": "stdout",
          "text": [
            "Moviepy - Done !\n",
            "Moviepy - video ready ./Kite flying/Kite flying_yZ1-iGs6zH4_subclip.mp4\n",
            "Moviepy - Building video ./Kite flying/Kite flying_yZ1-iGs6zH4_subclip.mp4.\n",
            "MoviePy - Writing audio in Kite flying_yZ1-iGs6zH4_subclipTEMP_MPY_wvf_snd.mp3\n"
          ]
        },
        {
          "output_type": "stream",
          "name": "stderr",
          "text": []
        },
        {
          "output_type": "stream",
          "name": "stdout",
          "text": [
            "MoviePy - Done.\n",
            "Moviepy - Writing video ./Kite flying/Kite flying_yZ1-iGs6zH4_subclip.mp4\n",
            "\n"
          ]
        },
        {
          "output_type": "stream",
          "name": "stderr",
          "text": []
        },
        {
          "output_type": "stream",
          "name": "stdout",
          "text": [
            "Moviepy - Done !\n",
            "Moviepy - video ready ./Kite flying/Kite flying_yZ1-iGs6zH4_subclip.mp4\n",
            "Moviepy - Building video ./Kite flying/Kite flying_fzXvIgj7gA8_subclip.mp4.\n",
            "MoviePy - Writing audio in Kite flying_fzXvIgj7gA8_subclipTEMP_MPY_wvf_snd.mp3\n"
          ]
        },
        {
          "output_type": "stream",
          "name": "stderr",
          "text": []
        },
        {
          "output_type": "stream",
          "name": "stdout",
          "text": [
            "MoviePy - Done.\n",
            "Moviepy - Writing video ./Kite flying/Kite flying_fzXvIgj7gA8_subclip.mp4\n",
            "\n"
          ]
        },
        {
          "output_type": "stream",
          "name": "stderr",
          "text": []
        },
        {
          "output_type": "stream",
          "name": "stdout",
          "text": [
            "Moviepy - Done !\n",
            "Moviepy - video ready ./Kite flying/Kite flying_fzXvIgj7gA8_subclip.mp4\n",
            "Moviepy - Building video ./Kite flying/Kite flying_fzXvIgj7gA8_subclip.mp4.\n",
            "MoviePy - Writing audio in Kite flying_fzXvIgj7gA8_subclipTEMP_MPY_wvf_snd.mp3\n"
          ]
        },
        {
          "output_type": "stream",
          "name": "stderr",
          "text": []
        },
        {
          "output_type": "stream",
          "name": "stdout",
          "text": [
            "MoviePy - Done.\n",
            "Moviepy - Writing video ./Kite flying/Kite flying_fzXvIgj7gA8_subclip.mp4\n",
            "\n"
          ]
        },
        {
          "output_type": "stream",
          "name": "stderr",
          "text": []
        },
        {
          "output_type": "stream",
          "name": "stdout",
          "text": [
            "Moviepy - Done !\n",
            "Moviepy - video ready ./Kite flying/Kite flying_fzXvIgj7gA8_subclip.mp4\n",
            "Moviepy - Building video ./Kite flying/Kite flying_fzXvIgj7gA8_subclip.mp4.\n",
            "MoviePy - Writing audio in Kite flying_fzXvIgj7gA8_subclipTEMP_MPY_wvf_snd.mp3\n"
          ]
        },
        {
          "output_type": "stream",
          "name": "stderr",
          "text": []
        },
        {
          "output_type": "stream",
          "name": "stdout",
          "text": [
            "MoviePy - Done.\n",
            "Moviepy - Writing video ./Kite flying/Kite flying_fzXvIgj7gA8_subclip.mp4\n",
            "\n"
          ]
        },
        {
          "output_type": "stream",
          "name": "stderr",
          "text": []
        },
        {
          "output_type": "stream",
          "name": "stdout",
          "text": [
            "Moviepy - Done !\n",
            "Moviepy - video ready ./Kite flying/Kite flying_fzXvIgj7gA8_subclip.mp4\n",
            "Moviepy - Building video ./Kite flying/Kite flying_fzXvIgj7gA8_subclip.mp4.\n",
            "MoviePy - Writing audio in Kite flying_fzXvIgj7gA8_subclipTEMP_MPY_wvf_snd.mp3\n"
          ]
        },
        {
          "output_type": "stream",
          "name": "stderr",
          "text": []
        },
        {
          "output_type": "stream",
          "name": "stdout",
          "text": [
            "MoviePy - Done.\n",
            "Moviepy - Writing video ./Kite flying/Kite flying_fzXvIgj7gA8_subclip.mp4\n",
            "\n"
          ]
        },
        {
          "output_type": "stream",
          "name": "stderr",
          "text": []
        },
        {
          "output_type": "stream",
          "name": "stdout",
          "text": [
            "Moviepy - Done !\n",
            "Moviepy - video ready ./Kite flying/Kite flying_fzXvIgj7gA8_subclip.mp4\n",
            "Moviepy - Building video ./Kite flying/Kite flying_94aZV-I4qwY_subclip.mp4.\n",
            "MoviePy - Writing audio in Kite flying_94aZV-I4qwY_subclipTEMP_MPY_wvf_snd.mp3\n"
          ]
        },
        {
          "output_type": "stream",
          "name": "stderr",
          "text": []
        },
        {
          "output_type": "stream",
          "name": "stdout",
          "text": [
            "MoviePy - Done.\n",
            "Moviepy - Writing video ./Kite flying/Kite flying_94aZV-I4qwY_subclip.mp4\n",
            "\n"
          ]
        },
        {
          "output_type": "stream",
          "name": "stderr",
          "text": []
        },
        {
          "output_type": "stream",
          "name": "stdout",
          "text": [
            "Moviepy - Done !\n",
            "Moviepy - video ready ./Kite flying/Kite flying_94aZV-I4qwY_subclip.mp4\n",
            "Moviepy - Building video ./Kite flying/Kite flying_94aZV-I4qwY_subclip.mp4.\n",
            "MoviePy - Writing audio in Kite flying_94aZV-I4qwY_subclipTEMP_MPY_wvf_snd.mp3\n"
          ]
        },
        {
          "output_type": "stream",
          "name": "stderr",
          "text": []
        },
        {
          "output_type": "stream",
          "name": "stdout",
          "text": [
            "MoviePy - Done.\n",
            "Moviepy - Writing video ./Kite flying/Kite flying_94aZV-I4qwY_subclip.mp4\n",
            "\n"
          ]
        },
        {
          "output_type": "stream",
          "name": "stderr",
          "text": []
        },
        {
          "output_type": "stream",
          "name": "stdout",
          "text": [
            "Moviepy - Done !\n",
            "Moviepy - video ready ./Kite flying/Kite flying_94aZV-I4qwY_subclip.mp4\n",
            "Moviepy - Building video ./Kite flying/Kite flying_94aZV-I4qwY_subclip.mp4.\n",
            "MoviePy - Writing audio in Kite flying_94aZV-I4qwY_subclipTEMP_MPY_wvf_snd.mp3\n"
          ]
        },
        {
          "output_type": "stream",
          "name": "stderr",
          "text": []
        },
        {
          "output_type": "stream",
          "name": "stdout",
          "text": [
            "MoviePy - Done.\n",
            "Moviepy - Writing video ./Kite flying/Kite flying_94aZV-I4qwY_subclip.mp4\n",
            "\n"
          ]
        },
        {
          "output_type": "stream",
          "name": "stderr",
          "text": []
        },
        {
          "output_type": "stream",
          "name": "stdout",
          "text": [
            "Moviepy - Done !\n",
            "Moviepy - video ready ./Kite flying/Kite flying_94aZV-I4qwY_subclip.mp4\n",
            "Moviepy - Building video ./Kite flying/Kite flying_94aZV-I4qwY_subclip.mp4.\n",
            "MoviePy - Writing audio in Kite flying_94aZV-I4qwY_subclipTEMP_MPY_wvf_snd.mp3\n"
          ]
        },
        {
          "output_type": "stream",
          "name": "stderr",
          "text": []
        },
        {
          "output_type": "stream",
          "name": "stdout",
          "text": [
            "MoviePy - Done.\n",
            "Moviepy - Writing video ./Kite flying/Kite flying_94aZV-I4qwY_subclip.mp4\n",
            "\n"
          ]
        },
        {
          "output_type": "stream",
          "name": "stderr",
          "text": []
        },
        {
          "output_type": "stream",
          "name": "stdout",
          "text": [
            "Moviepy - Done !\n",
            "Moviepy - video ready ./Kite flying/Kite flying_94aZV-I4qwY_subclip.mp4\n",
            "Video TsNlXm9de5g is unavailable. Skipping...\n",
            "Video TsNlXm9de5g is unavailable. Skipping...\n",
            "Video TsNlXm9de5g is unavailable. Skipping...\n",
            "Video TsNlXm9de5g is unavailable. Skipping...\n",
            "Moviepy - Building video ./Kite flying/Kite flying_tGUGOZrAKHk_subclip.mp4.\n",
            "MoviePy - Writing audio in Kite flying_tGUGOZrAKHk_subclipTEMP_MPY_wvf_snd.mp3\n"
          ]
        },
        {
          "output_type": "stream",
          "name": "stderr",
          "text": []
        },
        {
          "output_type": "stream",
          "name": "stdout",
          "text": [
            "MoviePy - Done.\n",
            "Moviepy - Writing video ./Kite flying/Kite flying_tGUGOZrAKHk_subclip.mp4\n",
            "\n"
          ]
        },
        {
          "output_type": "stream",
          "name": "stderr",
          "text": []
        },
        {
          "output_type": "stream",
          "name": "stdout",
          "text": [
            "Moviepy - Done !\n",
            "Moviepy - video ready ./Kite flying/Kite flying_tGUGOZrAKHk_subclip.mp4\n",
            "Video NWUC8YF8UN4 is unavailable. Skipping...\n",
            "Video NWUC8YF8UN4 is unavailable. Skipping...\n",
            "Moviepy - Building video ./Knitting/Knitting_3JK1hfLQ6eM_subclip.mp4.\n",
            "MoviePy - Writing audio in Knitting_3JK1hfLQ6eM_subclipTEMP_MPY_wvf_snd.mp3\n"
          ]
        },
        {
          "output_type": "stream",
          "name": "stderr",
          "text": []
        },
        {
          "output_type": "stream",
          "name": "stdout",
          "text": [
            "MoviePy - Done.\n",
            "Moviepy - Writing video ./Knitting/Knitting_3JK1hfLQ6eM_subclip.mp4\n",
            "\n"
          ]
        },
        {
          "output_type": "stream",
          "name": "stderr",
          "text": [
            "\rt:   0%|          | 0/9 [00:00<?, ?it/s, now=None]WARNING:py.warnings:/usr/local/lib/python3.9/dist-packages/moviepy/video/io/ffmpeg_reader.py:123: UserWarning: Warning: in file ./Knitting/Knitting_3JK1hfLQ6eM.mp4, 518400 bytes wanted but 0 bytes read,at frame 218/219, at time 14.53/14.54 sec. Using the last valid frame instead.\n",
            "  warnings.warn(\"Warning: in file %s, \"%(self.filename)+\n",
            "\n"
          ]
        },
        {
          "output_type": "stream",
          "name": "stdout",
          "text": [
            "Moviepy - Done !\n",
            "Moviepy - video ready ./Knitting/Knitting_3JK1hfLQ6eM_subclip.mp4\n",
            "Moviepy - Building video ./Knitting/Knitting_3JK1hfLQ6eM_subclip.mp4.\n",
            "MoviePy - Writing audio in Knitting_3JK1hfLQ6eM_subclipTEMP_MPY_wvf_snd.mp3\n"
          ]
        },
        {
          "output_type": "stream",
          "name": "stderr",
          "text": []
        },
        {
          "output_type": "stream",
          "name": "stdout",
          "text": [
            "MoviePy - Done.\n",
            "Moviepy - Writing video ./Knitting/Knitting_3JK1hfLQ6eM_subclip.mp4\n",
            "\n"
          ]
        },
        {
          "output_type": "stream",
          "name": "stderr",
          "text": []
        },
        {
          "output_type": "stream",
          "name": "stdout",
          "text": [
            "Moviepy - Done !\n",
            "Moviepy - video ready ./Knitting/Knitting_3JK1hfLQ6eM_subclip.mp4\n",
            "Moviepy - Building video ./Knitting/Knitting_3JK1hfLQ6eM_subclip.mp4.\n",
            "MoviePy - Writing audio in Knitting_3JK1hfLQ6eM_subclipTEMP_MPY_wvf_snd.mp3\n"
          ]
        },
        {
          "output_type": "stream",
          "name": "stderr",
          "text": []
        },
        {
          "output_type": "stream",
          "name": "stdout",
          "text": [
            "MoviePy - Done.\n",
            "Moviepy - Writing video ./Knitting/Knitting_3JK1hfLQ6eM_subclip.mp4\n",
            "\n"
          ]
        },
        {
          "output_type": "stream",
          "name": "stderr",
          "text": []
        },
        {
          "output_type": "stream",
          "name": "stdout",
          "text": [
            "Moviepy - Done !\n",
            "Moviepy - video ready ./Knitting/Knitting_3JK1hfLQ6eM_subclip.mp4\n",
            "Moviepy - Building video ./Knitting/Knitting_kBFW2Y-dQas_subclip.mp4.\n",
            "MoviePy - Writing audio in Knitting_kBFW2Y-dQas_subclipTEMP_MPY_wvf_snd.mp3\n"
          ]
        },
        {
          "output_type": "stream",
          "name": "stderr",
          "text": []
        },
        {
          "output_type": "stream",
          "name": "stdout",
          "text": [
            "MoviePy - Done.\n",
            "Moviepy - Writing video ./Knitting/Knitting_kBFW2Y-dQas_subclip.mp4\n",
            "\n"
          ]
        },
        {
          "output_type": "stream",
          "name": "stderr",
          "text": []
        },
        {
          "output_type": "stream",
          "name": "stdout",
          "text": [
            "Moviepy - Done !\n",
            "Moviepy - video ready ./Knitting/Knitting_kBFW2Y-dQas_subclip.mp4\n",
            "Moviepy - Building video ./Knitting/Knitting_kBFW2Y-dQas_subclip.mp4.\n",
            "MoviePy - Writing audio in Knitting_kBFW2Y-dQas_subclipTEMP_MPY_wvf_snd.mp3\n"
          ]
        },
        {
          "output_type": "stream",
          "name": "stderr",
          "text": []
        },
        {
          "output_type": "stream",
          "name": "stdout",
          "text": [
            "MoviePy - Done.\n",
            "Moviepy - Writing video ./Knitting/Knitting_kBFW2Y-dQas_subclip.mp4\n",
            "\n"
          ]
        },
        {
          "output_type": "stream",
          "name": "stderr",
          "text": []
        },
        {
          "output_type": "stream",
          "name": "stdout",
          "text": [
            "Moviepy - Done !\n",
            "Moviepy - video ready ./Knitting/Knitting_kBFW2Y-dQas_subclip.mp4\n",
            "Moviepy - Building video ./Knitting/Knitting_kBFW2Y-dQas_subclip.mp4.\n",
            "MoviePy - Writing audio in Knitting_kBFW2Y-dQas_subclipTEMP_MPY_wvf_snd.mp3\n"
          ]
        },
        {
          "output_type": "stream",
          "name": "stderr",
          "text": []
        },
        {
          "output_type": "stream",
          "name": "stdout",
          "text": [
            "MoviePy - Done.\n",
            "Moviepy - Writing video ./Knitting/Knitting_kBFW2Y-dQas_subclip.mp4\n",
            "\n"
          ]
        },
        {
          "output_type": "stream",
          "name": "stderr",
          "text": []
        },
        {
          "output_type": "stream",
          "name": "stdout",
          "text": [
            "Moviepy - Done !\n",
            "Moviepy - video ready ./Knitting/Knitting_kBFW2Y-dQas_subclip.mp4\n",
            "Moviepy - Building video ./Knitting/Knitting_WmfFHwy_Qvk_subclip.mp4.\n",
            "MoviePy - Writing audio in Knitting_WmfFHwy_Qvk_subclipTEMP_MPY_wvf_snd.mp3\n"
          ]
        },
        {
          "output_type": "stream",
          "name": "stderr",
          "text": []
        },
        {
          "output_type": "stream",
          "name": "stdout",
          "text": [
            "MoviePy - Done.\n",
            "Moviepy - Writing video ./Knitting/Knitting_WmfFHwy_Qvk_subclip.mp4\n",
            "\n"
          ]
        },
        {
          "output_type": "stream",
          "name": "stderr",
          "text": []
        },
        {
          "output_type": "stream",
          "name": "stdout",
          "text": [
            "Moviepy - Done !\n",
            "Moviepy - video ready ./Knitting/Knitting_WmfFHwy_Qvk_subclip.mp4\n",
            "Moviepy - Building video ./Knitting/Knitting_WmfFHwy_Qvk_subclip.mp4.\n",
            "MoviePy - Writing audio in Knitting_WmfFHwy_Qvk_subclipTEMP_MPY_wvf_snd.mp3\n"
          ]
        },
        {
          "output_type": "stream",
          "name": "stderr",
          "text": []
        },
        {
          "output_type": "stream",
          "name": "stdout",
          "text": [
            "MoviePy - Done.\n",
            "Moviepy - Writing video ./Knitting/Knitting_WmfFHwy_Qvk_subclip.mp4\n",
            "\n"
          ]
        },
        {
          "output_type": "stream",
          "name": "stderr",
          "text": []
        },
        {
          "output_type": "stream",
          "name": "stdout",
          "text": [
            "Moviepy - Done !\n",
            "Moviepy - video ready ./Knitting/Knitting_WmfFHwy_Qvk_subclip.mp4\n",
            "Moviepy - Building video ./Knitting/Knitting_WmfFHwy_Qvk_subclip.mp4.\n",
            "MoviePy - Writing audio in Knitting_WmfFHwy_Qvk_subclipTEMP_MPY_wvf_snd.mp3\n"
          ]
        },
        {
          "output_type": "stream",
          "name": "stderr",
          "text": []
        },
        {
          "output_type": "stream",
          "name": "stdout",
          "text": [
            "MoviePy - Done.\n",
            "Moviepy - Writing video ./Knitting/Knitting_WmfFHwy_Qvk_subclip.mp4\n",
            "\n"
          ]
        },
        {
          "output_type": "stream",
          "name": "stderr",
          "text": [
            "\rt:   0%|          | 0/11 [00:00<?, ?it/s, now=None]WARNING:py.warnings:/usr/local/lib/python3.9/dist-packages/moviepy/video/io/ffmpeg_reader.py:123: UserWarning: Warning: in file ./Knitting/Knitting_WmfFHwy_Qvk.mp4, 230400 bytes wanted but 0 bytes read,at frame 2797/2801, at time 93.23/93.34 sec. Using the last valid frame instead.\n",
            "  warnings.warn(\"Warning: in file %s, \"%(self.filename)+\n",
            "\n",
            "WARNING:py.warnings:/usr/local/lib/python3.9/dist-packages/moviepy/video/io/ffmpeg_reader.py:123: UserWarning: Warning: in file ./Knitting/Knitting_WmfFHwy_Qvk.mp4, 230400 bytes wanted but 0 bytes read,at frame 2798/2801, at time 93.27/93.34 sec. Using the last valid frame instead.\n",
            "  warnings.warn(\"Warning: in file %s, \"%(self.filename)+\n",
            "\n",
            "WARNING:py.warnings:/usr/local/lib/python3.9/dist-packages/moviepy/video/io/ffmpeg_reader.py:123: UserWarning: Warning: in file ./Knitting/Knitting_WmfFHwy_Qvk.mp4, 230400 bytes wanted but 0 bytes read,at frame 2799/2801, at time 93.30/93.34 sec. Using the last valid frame instead.\n",
            "  warnings.warn(\"Warning: in file %s, \"%(self.filename)+\n",
            "\n",
            "WARNING:py.warnings:/usr/local/lib/python3.9/dist-packages/moviepy/video/io/ffmpeg_reader.py:123: UserWarning: Warning: in file ./Knitting/Knitting_WmfFHwy_Qvk.mp4, 230400 bytes wanted but 0 bytes read,at frame 2800/2801, at time 93.33/93.34 sec. Using the last valid frame instead.\n",
            "  warnings.warn(\"Warning: in file %s, \"%(self.filename)+\n",
            "\n",
            "                                                   "
          ]
        },
        {
          "output_type": "stream",
          "name": "stdout",
          "text": [
            "Moviepy - Done !\n",
            "Moviepy - video ready ./Knitting/Knitting_WmfFHwy_Qvk_subclip.mp4\n"
          ]
        },
        {
          "output_type": "stream",
          "name": "stderr",
          "text": [
            "\r"
          ]
        },
        {
          "output_type": "stream",
          "name": "stdout",
          "text": [
            "Moviepy - Building video ./Knitting/Knitting_k_T-qknzdck_subclip.mp4.\n",
            "MoviePy - Writing audio in Knitting_k_T-qknzdck_subclipTEMP_MPY_wvf_snd.mp3\n"
          ]
        },
        {
          "output_type": "stream",
          "name": "stderr",
          "text": []
        },
        {
          "output_type": "stream",
          "name": "stdout",
          "text": [
            "MoviePy - Done.\n",
            "Moviepy - Writing video ./Knitting/Knitting_k_T-qknzdck_subclip.mp4\n",
            "\n"
          ]
        },
        {
          "output_type": "stream",
          "name": "stderr",
          "text": []
        },
        {
          "output_type": "stream",
          "name": "stdout",
          "text": [
            "Moviepy - Done !\n",
            "Moviepy - video ready ./Knitting/Knitting_k_T-qknzdck_subclip.mp4\n",
            "Moviepy - Building video ./Knitting/Knitting_k_T-qknzdck_subclip.mp4.\n",
            "MoviePy - Writing audio in Knitting_k_T-qknzdck_subclipTEMP_MPY_wvf_snd.mp3\n"
          ]
        },
        {
          "output_type": "stream",
          "name": "stderr",
          "text": []
        },
        {
          "output_type": "stream",
          "name": "stdout",
          "text": [
            "MoviePy - Done.\n",
            "Moviepy - Writing video ./Knitting/Knitting_k_T-qknzdck_subclip.mp4\n",
            "\n"
          ]
        },
        {
          "output_type": "stream",
          "name": "stderr",
          "text": []
        },
        {
          "output_type": "stream",
          "name": "stdout",
          "text": [
            "Moviepy - Done !\n",
            "Moviepy - video ready ./Knitting/Knitting_k_T-qknzdck_subclip.mp4\n",
            "Moviepy - Building video ./Knitting/Knitting_k_T-qknzdck_subclip.mp4.\n",
            "MoviePy - Writing audio in Knitting_k_T-qknzdck_subclipTEMP_MPY_wvf_snd.mp3\n"
          ]
        },
        {
          "output_type": "stream",
          "name": "stderr",
          "text": []
        },
        {
          "output_type": "stream",
          "name": "stdout",
          "text": [
            "MoviePy - Done.\n",
            "Moviepy - Writing video ./Knitting/Knitting_k_T-qknzdck_subclip.mp4\n",
            "\n"
          ]
        },
        {
          "output_type": "stream",
          "name": "stderr",
          "text": []
        },
        {
          "output_type": "stream",
          "name": "stdout",
          "text": [
            "Moviepy - Done !\n",
            "Moviepy - video ready ./Knitting/Knitting_k_T-qknzdck_subclip.mp4\n",
            "Moviepy - Building video ./Knitting/Knitting_mA14mnoS9go_subclip.mp4.\n",
            "MoviePy - Writing audio in Knitting_mA14mnoS9go_subclipTEMP_MPY_wvf_snd.mp3\n"
          ]
        },
        {
          "output_type": "stream",
          "name": "stderr",
          "text": []
        },
        {
          "output_type": "stream",
          "name": "stdout",
          "text": [
            "MoviePy - Done.\n",
            "Moviepy - Writing video ./Knitting/Knitting_mA14mnoS9go_subclip.mp4\n",
            "\n"
          ]
        },
        {
          "output_type": "stream",
          "name": "stderr",
          "text": []
        },
        {
          "output_type": "stream",
          "name": "stdout",
          "text": [
            "Moviepy - Done !\n",
            "Moviepy - video ready ./Knitting/Knitting_mA14mnoS9go_subclip.mp4\n",
            "Moviepy - Building video ./Knitting/Knitting_mA14mnoS9go_subclip.mp4.\n",
            "MoviePy - Writing audio in Knitting_mA14mnoS9go_subclipTEMP_MPY_wvf_snd.mp3\n"
          ]
        },
        {
          "output_type": "stream",
          "name": "stderr",
          "text": []
        },
        {
          "output_type": "stream",
          "name": "stdout",
          "text": [
            "MoviePy - Done.\n",
            "Moviepy - Writing video ./Knitting/Knitting_mA14mnoS9go_subclip.mp4\n",
            "\n"
          ]
        },
        {
          "output_type": "stream",
          "name": "stderr",
          "text": []
        },
        {
          "output_type": "stream",
          "name": "stdout",
          "text": [
            "Moviepy - Done !\n",
            "Moviepy - video ready ./Knitting/Knitting_mA14mnoS9go_subclip.mp4\n",
            "Moviepy - Building video ./Knitting/Knitting_mA14mnoS9go_subclip.mp4.\n",
            "MoviePy - Writing audio in Knitting_mA14mnoS9go_subclipTEMP_MPY_wvf_snd.mp3\n"
          ]
        },
        {
          "output_type": "stream",
          "name": "stderr",
          "text": []
        },
        {
          "output_type": "stream",
          "name": "stdout",
          "text": [
            "MoviePy - Done.\n",
            "Moviepy - Writing video ./Knitting/Knitting_mA14mnoS9go_subclip.mp4\n",
            "\n"
          ]
        },
        {
          "output_type": "stream",
          "name": "stderr",
          "text": []
        },
        {
          "output_type": "stream",
          "name": "stdout",
          "text": [
            "Moviepy - Done !\n",
            "Moviepy - video ready ./Knitting/Knitting_mA14mnoS9go_subclip.mp4\n",
            "Moviepy - Building video ./Knitting/Knitting_FTcnD1etGKs_subclip.mp4.\n",
            "MoviePy - Writing audio in Knitting_FTcnD1etGKs_subclipTEMP_MPY_wvf_snd.mp3\n"
          ]
        },
        {
          "output_type": "stream",
          "name": "stderr",
          "text": []
        },
        {
          "output_type": "stream",
          "name": "stdout",
          "text": [
            "MoviePy - Done.\n",
            "Moviepy - Writing video ./Knitting/Knitting_FTcnD1etGKs_subclip.mp4\n",
            "\n"
          ]
        },
        {
          "output_type": "stream",
          "name": "stderr",
          "text": []
        },
        {
          "output_type": "stream",
          "name": "stdout",
          "text": [
            "Moviepy - Done !\n",
            "Moviepy - video ready ./Knitting/Knitting_FTcnD1etGKs_subclip.mp4\n",
            "Moviepy - Building video ./Knitting/Knitting_FTcnD1etGKs_subclip.mp4.\n",
            "MoviePy - Writing audio in Knitting_FTcnD1etGKs_subclipTEMP_MPY_wvf_snd.mp3\n"
          ]
        },
        {
          "output_type": "stream",
          "name": "stderr",
          "text": []
        },
        {
          "output_type": "stream",
          "name": "stdout",
          "text": [
            "MoviePy - Done.\n",
            "Moviepy - Writing video ./Knitting/Knitting_FTcnD1etGKs_subclip.mp4\n",
            "\n"
          ]
        },
        {
          "output_type": "stream",
          "name": "stderr",
          "text": []
        },
        {
          "output_type": "stream",
          "name": "stdout",
          "text": [
            "Moviepy - Done !\n",
            "Moviepy - video ready ./Knitting/Knitting_FTcnD1etGKs_subclip.mp4\n",
            "Moviepy - Building video ./Knitting/Knitting_FTcnD1etGKs_subclip.mp4.\n",
            "MoviePy - Writing audio in Knitting_FTcnD1etGKs_subclipTEMP_MPY_wvf_snd.mp3\n"
          ]
        },
        {
          "output_type": "stream",
          "name": "stderr",
          "text": []
        },
        {
          "output_type": "stream",
          "name": "stdout",
          "text": [
            "MoviePy - Done.\n",
            "Moviepy - Writing video ./Knitting/Knitting_FTcnD1etGKs_subclip.mp4\n",
            "\n"
          ]
        },
        {
          "output_type": "stream",
          "name": "stderr",
          "text": []
        },
        {
          "output_type": "stream",
          "name": "stdout",
          "text": [
            "Moviepy - Done !\n",
            "Moviepy - video ready ./Knitting/Knitting_FTcnD1etGKs_subclip.mp4\n",
            "Video _iH2_hg3GoI is unavailable. Skipping...\n",
            "Video _iH2_hg3GoI is unavailable. Skipping...\n",
            "Video _iH2_hg3GoI is unavailable. Skipping...\n",
            "Video Pr5Vbuwm9io is unavailable. Skipping...\n",
            "Video Pr5Vbuwm9io is unavailable. Skipping...\n",
            "Video Pr5Vbuwm9io is unavailable. Skipping...\n",
            "Moviepy - Building video ./Knitting/Knitting_ZOnB8BL0Kz4_subclip.mp4.\n",
            "MoviePy - Writing audio in Knitting_ZOnB8BL0Kz4_subclipTEMP_MPY_wvf_snd.mp3\n"
          ]
        },
        {
          "output_type": "stream",
          "name": "stderr",
          "text": []
        },
        {
          "output_type": "stream",
          "name": "stdout",
          "text": [
            "MoviePy - Done.\n",
            "Moviepy - Writing video ./Knitting/Knitting_ZOnB8BL0Kz4_subclip.mp4\n",
            "\n"
          ]
        },
        {
          "output_type": "stream",
          "name": "stderr",
          "text": []
        },
        {
          "output_type": "stream",
          "name": "stdout",
          "text": [
            "Moviepy - Done !\n",
            "Moviepy - video ready ./Knitting/Knitting_ZOnB8BL0Kz4_subclip.mp4\n",
            "Moviepy - Building video ./Knitting/Knitting_ZOnB8BL0Kz4_subclip.mp4.\n",
            "MoviePy - Writing audio in Knitting_ZOnB8BL0Kz4_subclipTEMP_MPY_wvf_snd.mp3\n"
          ]
        },
        {
          "output_type": "stream",
          "name": "stderr",
          "text": []
        },
        {
          "output_type": "stream",
          "name": "stdout",
          "text": [
            "MoviePy - Done.\n",
            "Moviepy - Writing video ./Knitting/Knitting_ZOnB8BL0Kz4_subclip.mp4\n",
            "\n"
          ]
        },
        {
          "output_type": "stream",
          "name": "stderr",
          "text": []
        },
        {
          "output_type": "stream",
          "name": "stdout",
          "text": [
            "Moviepy - Done !\n",
            "Moviepy - video ready ./Knitting/Knitting_ZOnB8BL0Kz4_subclip.mp4\n",
            "Moviepy - Building video ./Knitting/Knitting_ZOnB8BL0Kz4_subclip.mp4.\n",
            "MoviePy - Writing audio in Knitting_ZOnB8BL0Kz4_subclipTEMP_MPY_wvf_snd.mp3\n"
          ]
        },
        {
          "output_type": "stream",
          "name": "stderr",
          "text": []
        },
        {
          "output_type": "stream",
          "name": "stdout",
          "text": [
            "MoviePy - Done.\n",
            "Moviepy - Writing video ./Knitting/Knitting_ZOnB8BL0Kz4_subclip.mp4\n",
            "\n"
          ]
        },
        {
          "output_type": "stream",
          "name": "stderr",
          "text": []
        },
        {
          "output_type": "stream",
          "name": "stdout",
          "text": [
            "Moviepy - Done !\n",
            "Moviepy - video ready ./Knitting/Knitting_ZOnB8BL0Kz4_subclip.mp4\n",
            "Moviepy - Building video ./Knitting/Knitting_wZf6vuBrsDI_subclip.mp4.\n",
            "MoviePy - Writing audio in Knitting_wZf6vuBrsDI_subclipTEMP_MPY_wvf_snd.mp3\n"
          ]
        },
        {
          "output_type": "stream",
          "name": "stderr",
          "text": []
        },
        {
          "output_type": "stream",
          "name": "stdout",
          "text": [
            "MoviePy - Done.\n",
            "Moviepy - Writing video ./Knitting/Knitting_wZf6vuBrsDI_subclip.mp4\n",
            "\n"
          ]
        },
        {
          "output_type": "stream",
          "name": "stderr",
          "text": []
        },
        {
          "output_type": "stream",
          "name": "stdout",
          "text": [
            "Moviepy - Done !\n",
            "Moviepy - video ready ./Knitting/Knitting_wZf6vuBrsDI_subclip.mp4\n",
            "Moviepy - Building video ./Knitting/Knitting_wZf6vuBrsDI_subclip.mp4.\n",
            "MoviePy - Writing audio in Knitting_wZf6vuBrsDI_subclipTEMP_MPY_wvf_snd.mp3\n"
          ]
        },
        {
          "output_type": "stream",
          "name": "stderr",
          "text": []
        },
        {
          "output_type": "stream",
          "name": "stdout",
          "text": [
            "MoviePy - Done.\n",
            "Moviepy - Writing video ./Knitting/Knitting_wZf6vuBrsDI_subclip.mp4\n",
            "\n"
          ]
        },
        {
          "output_type": "stream",
          "name": "stderr",
          "text": []
        },
        {
          "output_type": "stream",
          "name": "stdout",
          "text": [
            "Moviepy - Done !\n",
            "Moviepy - video ready ./Knitting/Knitting_wZf6vuBrsDI_subclip.mp4\n",
            "Moviepy - Building video ./Knitting/Knitting_wZf6vuBrsDI_subclip.mp4.\n",
            "MoviePy - Writing audio in Knitting_wZf6vuBrsDI_subclipTEMP_MPY_wvf_snd.mp3\n"
          ]
        },
        {
          "output_type": "stream",
          "name": "stderr",
          "text": []
        },
        {
          "output_type": "stream",
          "name": "stdout",
          "text": [
            "MoviePy - Done.\n",
            "Moviepy - Writing video ./Knitting/Knitting_wZf6vuBrsDI_subclip.mp4\n",
            "\n"
          ]
        },
        {
          "output_type": "stream",
          "name": "stderr",
          "text": []
        },
        {
          "output_type": "stream",
          "name": "stdout",
          "text": [
            "Moviepy - Done !\n",
            "Moviepy - video ready ./Knitting/Knitting_wZf6vuBrsDI_subclip.mp4\n",
            "Moviepy - Building video ./Knitting/Knitting_jUlNlDQI2cE_subclip.mp4.\n",
            "MoviePy - Writing audio in Knitting_jUlNlDQI2cE_subclipTEMP_MPY_wvf_snd.mp3\n"
          ]
        },
        {
          "output_type": "stream",
          "name": "stderr",
          "text": []
        },
        {
          "output_type": "stream",
          "name": "stdout",
          "text": [
            "MoviePy - Done.\n",
            "Moviepy - Writing video ./Knitting/Knitting_jUlNlDQI2cE_subclip.mp4\n",
            "\n"
          ]
        },
        {
          "output_type": "stream",
          "name": "stderr",
          "text": []
        },
        {
          "output_type": "stream",
          "name": "stdout",
          "text": [
            "Moviepy - Done !\n",
            "Moviepy - video ready ./Knitting/Knitting_jUlNlDQI2cE_subclip.mp4\n",
            "Moviepy - Building video ./Knitting/Knitting_jUlNlDQI2cE_subclip.mp4.\n",
            "MoviePy - Writing audio in Knitting_jUlNlDQI2cE_subclipTEMP_MPY_wvf_snd.mp3\n"
          ]
        },
        {
          "output_type": "stream",
          "name": "stderr",
          "text": []
        },
        {
          "output_type": "stream",
          "name": "stdout",
          "text": [
            "MoviePy - Done.\n",
            "Moviepy - Writing video ./Knitting/Knitting_jUlNlDQI2cE_subclip.mp4\n",
            "\n"
          ]
        },
        {
          "output_type": "stream",
          "name": "stderr",
          "text": []
        },
        {
          "output_type": "stream",
          "name": "stdout",
          "text": [
            "Moviepy - Done !\n",
            "Moviepy - video ready ./Knitting/Knitting_jUlNlDQI2cE_subclip.mp4\n",
            "Moviepy - Building video ./Knitting/Knitting_jUlNlDQI2cE_subclip.mp4.\n",
            "MoviePy - Writing audio in Knitting_jUlNlDQI2cE_subclipTEMP_MPY_wvf_snd.mp3\n"
          ]
        },
        {
          "output_type": "stream",
          "name": "stderr",
          "text": []
        },
        {
          "output_type": "stream",
          "name": "stdout",
          "text": [
            "MoviePy - Done.\n",
            "Moviepy - Writing video ./Knitting/Knitting_jUlNlDQI2cE_subclip.mp4\n",
            "\n"
          ]
        },
        {
          "output_type": "stream",
          "name": "stderr",
          "text": []
        },
        {
          "output_type": "stream",
          "name": "stdout",
          "text": [
            "Moviepy - Done !\n",
            "Moviepy - video ready ./Knitting/Knitting_jUlNlDQI2cE_subclip.mp4\n",
            "Moviepy - Building video ./Knitting/Knitting_VWcE3l-WyT4_subclip.mp4.\n",
            "MoviePy - Writing audio in Knitting_VWcE3l-WyT4_subclipTEMP_MPY_wvf_snd.mp3\n"
          ]
        },
        {
          "output_type": "stream",
          "name": "stderr",
          "text": []
        },
        {
          "output_type": "stream",
          "name": "stdout",
          "text": [
            "MoviePy - Done.\n",
            "Moviepy - Writing video ./Knitting/Knitting_VWcE3l-WyT4_subclip.mp4\n",
            "\n"
          ]
        },
        {
          "output_type": "stream",
          "name": "stderr",
          "text": []
        },
        {
          "output_type": "stream",
          "name": "stdout",
          "text": [
            "Moviepy - Done !\n",
            "Moviepy - video ready ./Knitting/Knitting_VWcE3l-WyT4_subclip.mp4\n",
            "Moviepy - Building video ./Knitting/Knitting_VWcE3l-WyT4_subclip.mp4.\n",
            "MoviePy - Writing audio in Knitting_VWcE3l-WyT4_subclipTEMP_MPY_wvf_snd.mp3\n"
          ]
        },
        {
          "output_type": "stream",
          "name": "stderr",
          "text": []
        },
        {
          "output_type": "stream",
          "name": "stdout",
          "text": [
            "MoviePy - Done.\n",
            "Moviepy - Writing video ./Knitting/Knitting_VWcE3l-WyT4_subclip.mp4\n",
            "\n"
          ]
        },
        {
          "output_type": "stream",
          "name": "stderr",
          "text": []
        },
        {
          "output_type": "stream",
          "name": "stdout",
          "text": [
            "Moviepy - Done !\n",
            "Moviepy - video ready ./Knitting/Knitting_VWcE3l-WyT4_subclip.mp4\n",
            "Moviepy - Building video ./Knitting/Knitting_VWcE3l-WyT4_subclip.mp4.\n",
            "MoviePy - Writing audio in Knitting_VWcE3l-WyT4_subclipTEMP_MPY_wvf_snd.mp3\n"
          ]
        },
        {
          "output_type": "stream",
          "name": "stderr",
          "text": []
        },
        {
          "output_type": "stream",
          "name": "stdout",
          "text": [
            "MoviePy - Done.\n",
            "Moviepy - Writing video ./Knitting/Knitting_VWcE3l-WyT4_subclip.mp4\n",
            "\n"
          ]
        },
        {
          "output_type": "stream",
          "name": "stderr",
          "text": []
        },
        {
          "output_type": "stream",
          "name": "stdout",
          "text": [
            "Moviepy - Done !\n",
            "Moviepy - video ready ./Knitting/Knitting_VWcE3l-WyT4_subclip.mp4\n",
            "Video cPH-VsjNg8s is unavailable. Skipping...\n",
            "Moviepy - Building video ./Painting furniture/Painting furniture__3gCbwXaCD4_subclip.mp4.\n",
            "MoviePy - Writing audio in Painting furniture__3gCbwXaCD4_subclipTEMP_MPY_wvf_snd.mp3\n"
          ]
        },
        {
          "output_type": "stream",
          "name": "stderr",
          "text": []
        },
        {
          "output_type": "stream",
          "name": "stdout",
          "text": [
            "MoviePy - Done.\n",
            "Moviepy - Writing video ./Painting furniture/Painting furniture__3gCbwXaCD4_subclip.mp4\n",
            "\n"
          ]
        },
        {
          "output_type": "stream",
          "name": "stderr",
          "text": []
        },
        {
          "output_type": "stream",
          "name": "stdout",
          "text": [
            "Moviepy - Done !\n",
            "Moviepy - video ready ./Painting furniture/Painting furniture__3gCbwXaCD4_subclip.mp4\n",
            "Moviepy - Building video ./Painting furniture/Painting furniture_WdELiODG-70_subclip.mp4.\n",
            "MoviePy - Writing audio in Painting furniture_WdELiODG-70_subclipTEMP_MPY_wvf_snd.mp3\n"
          ]
        },
        {
          "output_type": "stream",
          "name": "stderr",
          "text": []
        },
        {
          "output_type": "stream",
          "name": "stdout",
          "text": [
            "MoviePy - Done.\n",
            "Moviepy - Writing video ./Painting furniture/Painting furniture_WdELiODG-70_subclip.mp4\n",
            "\n"
          ]
        },
        {
          "output_type": "stream",
          "name": "stderr",
          "text": []
        },
        {
          "output_type": "stream",
          "name": "stdout",
          "text": [
            "Moviepy - Done !\n",
            "Moviepy - video ready ./Painting furniture/Painting furniture_WdELiODG-70_subclip.mp4\n",
            "Moviepy - Building video ./Painting furniture/Painting furniture_WdELiODG-70_subclip.mp4.\n",
            "MoviePy - Writing audio in Painting furniture_WdELiODG-70_subclipTEMP_MPY_wvf_snd.mp3\n"
          ]
        },
        {
          "output_type": "stream",
          "name": "stderr",
          "text": []
        },
        {
          "output_type": "stream",
          "name": "stdout",
          "text": [
            "MoviePy - Done.\n",
            "Moviepy - Writing video ./Painting furniture/Painting furniture_WdELiODG-70_subclip.mp4\n",
            "\n"
          ]
        },
        {
          "output_type": "stream",
          "name": "stderr",
          "text": []
        },
        {
          "output_type": "stream",
          "name": "stdout",
          "text": [
            "Moviepy - Done !\n",
            "Moviepy - video ready ./Painting furniture/Painting furniture_WdELiODG-70_subclip.mp4\n",
            "Moviepy - Building video ./Painting furniture/Painting furniture_UZc8hflKSEg_subclip.mp4.\n",
            "MoviePy - Writing audio in Painting furniture_UZc8hflKSEg_subclipTEMP_MPY_wvf_snd.mp3\n"
          ]
        },
        {
          "output_type": "stream",
          "name": "stderr",
          "text": []
        },
        {
          "output_type": "stream",
          "name": "stdout",
          "text": [
            "MoviePy - Done.\n",
            "Moviepy - Writing video ./Painting furniture/Painting furniture_UZc8hflKSEg_subclip.mp4\n",
            "\n"
          ]
        },
        {
          "output_type": "stream",
          "name": "stderr",
          "text": []
        },
        {
          "output_type": "stream",
          "name": "stdout",
          "text": [
            "Moviepy - Done !\n",
            "Moviepy - video ready ./Painting furniture/Painting furniture_UZc8hflKSEg_subclip.mp4\n",
            "Moviepy - Building video ./Painting furniture/Painting furniture_UZc8hflKSEg_subclip.mp4.\n",
            "MoviePy - Writing audio in Painting furniture_UZc8hflKSEg_subclipTEMP_MPY_wvf_snd.mp3\n"
          ]
        },
        {
          "output_type": "stream",
          "name": "stderr",
          "text": []
        },
        {
          "output_type": "stream",
          "name": "stdout",
          "text": [
            "MoviePy - Done.\n",
            "Moviepy - Writing video ./Painting furniture/Painting furniture_UZc8hflKSEg_subclip.mp4\n",
            "\n"
          ]
        },
        {
          "output_type": "stream",
          "name": "stderr",
          "text": []
        },
        {
          "output_type": "stream",
          "name": "stdout",
          "text": [
            "Moviepy - Done !\n",
            "Moviepy - video ready ./Painting furniture/Painting furniture_UZc8hflKSEg_subclip.mp4\n",
            "Moviepy - Building video ./Painting furniture/Painting furniture_MW3JylXJEj8_subclip.mp4.\n",
            "MoviePy - Writing audio in Painting furniture_MW3JylXJEj8_subclipTEMP_MPY_wvf_snd.mp3\n"
          ]
        },
        {
          "output_type": "stream",
          "name": "stderr",
          "text": []
        },
        {
          "output_type": "stream",
          "name": "stdout",
          "text": [
            "MoviePy - Done.\n",
            "Moviepy - Writing video ./Painting furniture/Painting furniture_MW3JylXJEj8_subclip.mp4\n",
            "\n"
          ]
        },
        {
          "output_type": "stream",
          "name": "stderr",
          "text": []
        },
        {
          "output_type": "stream",
          "name": "stdout",
          "text": [
            "Moviepy - Done !\n",
            "Moviepy - video ready ./Painting furniture/Painting furniture_MW3JylXJEj8_subclip.mp4\n",
            "Moviepy - Building video ./Painting furniture/Painting furniture_MW3JylXJEj8_subclip.mp4.\n",
            "MoviePy - Writing audio in Painting furniture_MW3JylXJEj8_subclipTEMP_MPY_wvf_snd.mp3\n"
          ]
        },
        {
          "output_type": "stream",
          "name": "stderr",
          "text": []
        },
        {
          "output_type": "stream",
          "name": "stdout",
          "text": [
            "MoviePy - Done.\n",
            "Moviepy - Writing video ./Painting furniture/Painting furniture_MW3JylXJEj8_subclip.mp4\n",
            "\n"
          ]
        },
        {
          "output_type": "stream",
          "name": "stderr",
          "text": []
        },
        {
          "output_type": "stream",
          "name": "stdout",
          "text": [
            "Moviepy - Done !\n",
            "Moviepy - video ready ./Painting furniture/Painting furniture_MW3JylXJEj8_subclip.mp4\n",
            "Moviepy - Building video ./Painting furniture/Painting furniture_xX313Z0UUdo_subclip.mp4.\n",
            "MoviePy - Writing audio in Painting furniture_xX313Z0UUdo_subclipTEMP_MPY_wvf_snd.mp3\n"
          ]
        },
        {
          "output_type": "stream",
          "name": "stderr",
          "text": []
        },
        {
          "output_type": "stream",
          "name": "stdout",
          "text": [
            "MoviePy - Done.\n",
            "Moviepy - Writing video ./Painting furniture/Painting furniture_xX313Z0UUdo_subclip.mp4\n",
            "\n"
          ]
        },
        {
          "output_type": "stream",
          "name": "stderr",
          "text": []
        },
        {
          "output_type": "stream",
          "name": "stdout",
          "text": [
            "Moviepy - Done !\n",
            "Moviepy - video ready ./Painting furniture/Painting furniture_xX313Z0UUdo_subclip.mp4\n",
            "Moviepy - Building video ./Painting furniture/Painting furniture_xX313Z0UUdo_subclip.mp4.\n",
            "MoviePy - Writing audio in Painting furniture_xX313Z0UUdo_subclipTEMP_MPY_wvf_snd.mp3\n"
          ]
        },
        {
          "output_type": "stream",
          "name": "stderr",
          "text": []
        },
        {
          "output_type": "stream",
          "name": "stdout",
          "text": [
            "MoviePy - Done.\n",
            "Moviepy - Writing video ./Painting furniture/Painting furniture_xX313Z0UUdo_subclip.mp4\n",
            "\n"
          ]
        },
        {
          "output_type": "stream",
          "name": "stderr",
          "text": []
        },
        {
          "output_type": "stream",
          "name": "stdout",
          "text": [
            "Moviepy - Done !\n",
            "Moviepy - video ready ./Painting furniture/Painting furniture_xX313Z0UUdo_subclip.mp4\n",
            "Moviepy - Building video ./Painting furniture/Painting furniture_KhHDYBvDGjg_subclip.mp4.\n",
            "MoviePy - Writing audio in Painting furniture_KhHDYBvDGjg_subclipTEMP_MPY_wvf_snd.mp3\n"
          ]
        },
        {
          "output_type": "stream",
          "name": "stderr",
          "text": []
        },
        {
          "output_type": "stream",
          "name": "stdout",
          "text": [
            "MoviePy - Done.\n",
            "Moviepy - Writing video ./Painting furniture/Painting furniture_KhHDYBvDGjg_subclip.mp4\n",
            "\n"
          ]
        },
        {
          "output_type": "stream",
          "name": "stderr",
          "text": []
        },
        {
          "output_type": "stream",
          "name": "stdout",
          "text": [
            "Moviepy - Done !\n",
            "Moviepy - video ready ./Painting furniture/Painting furniture_KhHDYBvDGjg_subclip.mp4\n",
            "Moviepy - Building video ./Painting furniture/Painting furniture_KhHDYBvDGjg_subclip.mp4.\n",
            "MoviePy - Writing audio in Painting furniture_KhHDYBvDGjg_subclipTEMP_MPY_wvf_snd.mp3\n"
          ]
        },
        {
          "output_type": "stream",
          "name": "stderr",
          "text": []
        },
        {
          "output_type": "stream",
          "name": "stdout",
          "text": [
            "MoviePy - Done.\n",
            "Moviepy - Writing video ./Painting furniture/Painting furniture_KhHDYBvDGjg_subclip.mp4\n",
            "\n"
          ]
        },
        {
          "output_type": "stream",
          "name": "stderr",
          "text": []
        },
        {
          "output_type": "stream",
          "name": "stdout",
          "text": [
            "Moviepy - Done !\n",
            "Moviepy - video ready ./Painting furniture/Painting furniture_KhHDYBvDGjg_subclip.mp4\n",
            "Moviepy - Building video ./Painting furniture/Painting furniture_XBECuw-FLk4_subclip.mp4.\n",
            "MoviePy - Writing audio in Painting furniture_XBECuw-FLk4_subclipTEMP_MPY_wvf_snd.mp3\n"
          ]
        },
        {
          "output_type": "stream",
          "name": "stderr",
          "text": []
        },
        {
          "output_type": "stream",
          "name": "stdout",
          "text": [
            "MoviePy - Done.\n",
            "Moviepy - Writing video ./Painting furniture/Painting furniture_XBECuw-FLk4_subclip.mp4\n",
            "\n"
          ]
        },
        {
          "output_type": "stream",
          "name": "stderr",
          "text": [
            "                                                   "
          ]
        },
        {
          "output_type": "stream",
          "name": "stdout",
          "text": [
            "Moviepy - Done !\n",
            "Moviepy - video ready ./Painting furniture/Painting furniture_XBECuw-FLk4_subclip.mp4\n"
          ]
        },
        {
          "output_type": "stream",
          "name": "stderr",
          "text": [
            "\r"
          ]
        },
        {
          "output_type": "stream",
          "name": "stdout",
          "text": [
            "Moviepy - Building video ./Painting furniture/Painting furniture_TToG9cLm3xE_subclip.mp4.\n",
            "MoviePy - Writing audio in Painting furniture_TToG9cLm3xE_subclipTEMP_MPY_wvf_snd.mp3\n"
          ]
        },
        {
          "output_type": "stream",
          "name": "stderr",
          "text": []
        },
        {
          "output_type": "stream",
          "name": "stdout",
          "text": [
            "MoviePy - Done.\n",
            "Moviepy - Writing video ./Painting furniture/Painting furniture_TToG9cLm3xE_subclip.mp4\n",
            "\n"
          ]
        },
        {
          "output_type": "stream",
          "name": "stderr",
          "text": []
        },
        {
          "output_type": "stream",
          "name": "stdout",
          "text": [
            "Moviepy - Done !\n",
            "Moviepy - video ready ./Painting furniture/Painting furniture_TToG9cLm3xE_subclip.mp4\n",
            "Moviepy - Building video ./Painting furniture/Painting furniture_TToG9cLm3xE_subclip.mp4.\n",
            "MoviePy - Writing audio in Painting furniture_TToG9cLm3xE_subclipTEMP_MPY_wvf_snd.mp3\n"
          ]
        },
        {
          "output_type": "stream",
          "name": "stderr",
          "text": []
        },
        {
          "output_type": "stream",
          "name": "stdout",
          "text": [
            "MoviePy - Done.\n",
            "Moviepy - Writing video ./Painting furniture/Painting furniture_TToG9cLm3xE_subclip.mp4\n",
            "\n"
          ]
        },
        {
          "output_type": "stream",
          "name": "stderr",
          "text": []
        },
        {
          "output_type": "stream",
          "name": "stdout",
          "text": [
            "Moviepy - Done !\n",
            "Moviepy - video ready ./Painting furniture/Painting furniture_TToG9cLm3xE_subclip.mp4\n",
            "Moviepy - Building video ./Painting furniture/Painting furniture_hAx91vd8a4A_subclip.mp4.\n",
            "MoviePy - Writing audio in Painting furniture_hAx91vd8a4A_subclipTEMP_MPY_wvf_snd.mp3\n"
          ]
        },
        {
          "output_type": "stream",
          "name": "stderr",
          "text": []
        },
        {
          "output_type": "stream",
          "name": "stdout",
          "text": [
            "MoviePy - Done.\n",
            "Moviepy - Writing video ./Painting furniture/Painting furniture_hAx91vd8a4A_subclip.mp4\n",
            "\n"
          ]
        },
        {
          "output_type": "stream",
          "name": "stderr",
          "text": []
        },
        {
          "output_type": "stream",
          "name": "stdout",
          "text": [
            "Moviepy - Done !\n",
            "Moviepy - video ready ./Painting furniture/Painting furniture_hAx91vd8a4A_subclip.mp4\n",
            "Moviepy - Building video ./Painting furniture/Painting furniture_r2pmq3sYyyU_subclip.mp4.\n",
            "MoviePy - Writing audio in Painting furniture_r2pmq3sYyyU_subclipTEMP_MPY_wvf_snd.mp3\n"
          ]
        },
        {
          "output_type": "stream",
          "name": "stderr",
          "text": []
        },
        {
          "output_type": "stream",
          "name": "stdout",
          "text": [
            "MoviePy - Done.\n",
            "Moviepy - Writing video ./Painting furniture/Painting furniture_r2pmq3sYyyU_subclip.mp4\n",
            "\n"
          ]
        },
        {
          "output_type": "stream",
          "name": "stderr",
          "text": []
        },
        {
          "output_type": "stream",
          "name": "stdout",
          "text": [
            "Moviepy - Done !\n",
            "Moviepy - video ready ./Painting furniture/Painting furniture_r2pmq3sYyyU_subclip.mp4\n",
            "Moviepy - Building video ./Painting furniture/Painting furniture_r2pmq3sYyyU_subclip.mp4.\n",
            "MoviePy - Writing audio in Painting furniture_r2pmq3sYyyU_subclipTEMP_MPY_wvf_snd.mp3\n"
          ]
        },
        {
          "output_type": "stream",
          "name": "stderr",
          "text": []
        },
        {
          "output_type": "stream",
          "name": "stdout",
          "text": [
            "MoviePy - Done.\n",
            "Moviepy - Writing video ./Painting furniture/Painting furniture_r2pmq3sYyyU_subclip.mp4\n",
            "\n"
          ]
        },
        {
          "output_type": "stream",
          "name": "stderr",
          "text": []
        },
        {
          "output_type": "stream",
          "name": "stdout",
          "text": [
            "Moviepy - Done !\n",
            "Moviepy - video ready ./Painting furniture/Painting furniture_r2pmq3sYyyU_subclip.mp4\n",
            "Moviepy - Building video ./Painting furniture/Painting furniture_6p8XR7BuGmo_subclip.mp4.\n",
            "MoviePy - Writing audio in Painting furniture_6p8XR7BuGmo_subclipTEMP_MPY_wvf_snd.mp3\n"
          ]
        },
        {
          "output_type": "stream",
          "name": "stderr",
          "text": []
        },
        {
          "output_type": "stream",
          "name": "stdout",
          "text": [
            "MoviePy - Done.\n",
            "Moviepy - Writing video ./Painting furniture/Painting furniture_6p8XR7BuGmo_subclip.mp4\n",
            "\n"
          ]
        },
        {
          "output_type": "stream",
          "name": "stderr",
          "text": []
        },
        {
          "output_type": "stream",
          "name": "stdout",
          "text": [
            "Moviepy - Done !\n",
            "Moviepy - video ready ./Painting furniture/Painting furniture_6p8XR7BuGmo_subclip.mp4\n",
            "Moviepy - Building video ./Painting furniture/Painting furniture_6p8XR7BuGmo_subclip.mp4.\n",
            "MoviePy - Writing audio in Painting furniture_6p8XR7BuGmo_subclipTEMP_MPY_wvf_snd.mp3\n"
          ]
        },
        {
          "output_type": "stream",
          "name": "stderr",
          "text": []
        },
        {
          "output_type": "stream",
          "name": "stdout",
          "text": [
            "MoviePy - Done.\n",
            "Moviepy - Writing video ./Painting furniture/Painting furniture_6p8XR7BuGmo_subclip.mp4\n",
            "\n"
          ]
        },
        {
          "output_type": "stream",
          "name": "stderr",
          "text": []
        },
        {
          "output_type": "stream",
          "name": "stdout",
          "text": [
            "Moviepy - Done !\n",
            "Moviepy - video ready ./Painting furniture/Painting furniture_6p8XR7BuGmo_subclip.mp4\n",
            "Moviepy - Building video ./Painting furniture/Painting furniture_hrJ_PEbSJKU_subclip.mp4.\n",
            "MoviePy - Writing audio in Painting furniture_hrJ_PEbSJKU_subclipTEMP_MPY_wvf_snd.mp3\n"
          ]
        },
        {
          "output_type": "stream",
          "name": "stderr",
          "text": []
        },
        {
          "output_type": "stream",
          "name": "stdout",
          "text": [
            "MoviePy - Done.\n",
            "Moviepy - Writing video ./Painting furniture/Painting furniture_hrJ_PEbSJKU_subclip.mp4\n",
            "\n"
          ]
        },
        {
          "output_type": "stream",
          "name": "stderr",
          "text": []
        },
        {
          "output_type": "stream",
          "name": "stdout",
          "text": [
            "Moviepy - Done !\n",
            "Moviepy - video ready ./Painting furniture/Painting furniture_hrJ_PEbSJKU_subclip.mp4\n",
            "Moviepy - Building video ./Painting furniture/Painting furniture_hrJ_PEbSJKU_subclip.mp4.\n",
            "MoviePy - Writing audio in Painting furniture_hrJ_PEbSJKU_subclipTEMP_MPY_wvf_snd.mp3\n"
          ]
        },
        {
          "output_type": "stream",
          "name": "stderr",
          "text": []
        },
        {
          "output_type": "stream",
          "name": "stdout",
          "text": [
            "MoviePy - Done.\n",
            "Moviepy - Writing video ./Painting furniture/Painting furniture_hrJ_PEbSJKU_subclip.mp4\n",
            "\n"
          ]
        },
        {
          "output_type": "stream",
          "name": "stderr",
          "text": []
        },
        {
          "output_type": "stream",
          "name": "stdout",
          "text": [
            "Moviepy - Done !\n",
            "Moviepy - video ready ./Painting furniture/Painting furniture_hrJ_PEbSJKU_subclip.mp4\n",
            "Moviepy - Building video ./Painting furniture/Painting furniture_nv9IssUimQg_subclip.mp4.\n",
            "MoviePy - Writing audio in Painting furniture_nv9IssUimQg_subclipTEMP_MPY_wvf_snd.mp3\n"
          ]
        },
        {
          "output_type": "stream",
          "name": "stderr",
          "text": []
        },
        {
          "output_type": "stream",
          "name": "stdout",
          "text": [
            "MoviePy - Done.\n",
            "Moviepy - Writing video ./Painting furniture/Painting furniture_nv9IssUimQg_subclip.mp4\n",
            "\n"
          ]
        },
        {
          "output_type": "stream",
          "name": "stderr",
          "text": []
        },
        {
          "output_type": "stream",
          "name": "stdout",
          "text": [
            "Moviepy - Done !\n",
            "Moviepy - video ready ./Painting furniture/Painting furniture_nv9IssUimQg_subclip.mp4\n",
            "Start time for video nv9IssUimQg is greater than its duration. Skipping...\n",
            "Moviepy - Building video ./Painting furniture/Painting furniture_FBwmwVqePbY_subclip.mp4.\n",
            "MoviePy - Writing audio in Painting furniture_FBwmwVqePbY_subclipTEMP_MPY_wvf_snd.mp3\n"
          ]
        },
        {
          "output_type": "stream",
          "name": "stderr",
          "text": []
        },
        {
          "output_type": "stream",
          "name": "stdout",
          "text": [
            "MoviePy - Done.\n",
            "Moviepy - Writing video ./Painting furniture/Painting furniture_FBwmwVqePbY_subclip.mp4\n",
            "\n"
          ]
        },
        {
          "output_type": "stream",
          "name": "stderr",
          "text": []
        },
        {
          "output_type": "stream",
          "name": "stdout",
          "text": [
            "Moviepy - Done !\n",
            "Moviepy - video ready ./Painting furniture/Painting furniture_FBwmwVqePbY_subclip.mp4\n",
            "Moviepy - Building video ./Painting furniture/Painting furniture_FBwmwVqePbY_subclip.mp4.\n",
            "MoviePy - Writing audio in Painting furniture_FBwmwVqePbY_subclipTEMP_MPY_wvf_snd.mp3\n"
          ]
        },
        {
          "output_type": "stream",
          "name": "stderr",
          "text": []
        },
        {
          "output_type": "stream",
          "name": "stdout",
          "text": [
            "MoviePy - Done.\n",
            "Moviepy - Writing video ./Painting furniture/Painting furniture_FBwmwVqePbY_subclip.mp4\n",
            "\n"
          ]
        },
        {
          "output_type": "stream",
          "name": "stderr",
          "text": []
        },
        {
          "output_type": "stream",
          "name": "stdout",
          "text": [
            "Moviepy - Done !\n",
            "Moviepy - video ready ./Painting furniture/Painting furniture_FBwmwVqePbY_subclip.mp4\n",
            "Moviepy - Building video ./Painting furniture/Painting furniture_Tb9SaakdLYE_subclip.mp4.\n",
            "MoviePy - Writing audio in Painting furniture_Tb9SaakdLYE_subclipTEMP_MPY_wvf_snd.mp3\n"
          ]
        },
        {
          "output_type": "stream",
          "name": "stderr",
          "text": []
        },
        {
          "output_type": "stream",
          "name": "stdout",
          "text": [
            "MoviePy - Done.\n",
            "Moviepy - Writing video ./Painting furniture/Painting furniture_Tb9SaakdLYE_subclip.mp4\n",
            "\n"
          ]
        },
        {
          "output_type": "stream",
          "name": "stderr",
          "text": []
        },
        {
          "output_type": "stream",
          "name": "stdout",
          "text": [
            "Moviepy - Done !\n",
            "Moviepy - video ready ./Painting furniture/Painting furniture_Tb9SaakdLYE_subclip.mp4\n",
            "Moviepy - Building video ./Painting furniture/Painting furniture_0EAOcgNXMWQ_subclip.mp4.\n",
            "MoviePy - Writing audio in Painting furniture_0EAOcgNXMWQ_subclipTEMP_MPY_wvf_snd.mp3\n"
          ]
        },
        {
          "output_type": "stream",
          "name": "stderr",
          "text": []
        },
        {
          "output_type": "stream",
          "name": "stdout",
          "text": [
            "MoviePy - Done.\n",
            "Moviepy - Writing video ./Painting furniture/Painting furniture_0EAOcgNXMWQ_subclip.mp4\n",
            "\n"
          ]
        },
        {
          "output_type": "stream",
          "name": "stderr",
          "text": []
        },
        {
          "output_type": "stream",
          "name": "stdout",
          "text": [
            "Moviepy - Done !\n",
            "Moviepy - video ready ./Painting furniture/Painting furniture_0EAOcgNXMWQ_subclip.mp4\n",
            "Moviepy - Building video ./Painting furniture/Painting furniture_0EAOcgNXMWQ_subclip.mp4.\n",
            "MoviePy - Writing audio in Painting furniture_0EAOcgNXMWQ_subclipTEMP_MPY_wvf_snd.mp3\n"
          ]
        },
        {
          "output_type": "stream",
          "name": "stderr",
          "text": []
        },
        {
          "output_type": "stream",
          "name": "stdout",
          "text": [
            "MoviePy - Done.\n",
            "Moviepy - Writing video ./Painting furniture/Painting furniture_0EAOcgNXMWQ_subclip.mp4\n",
            "\n"
          ]
        },
        {
          "output_type": "stream",
          "name": "stderr",
          "text": []
        },
        {
          "output_type": "stream",
          "name": "stdout",
          "text": [
            "Moviepy - Done !\n",
            "Moviepy - video ready ./Painting furniture/Painting furniture_0EAOcgNXMWQ_subclip.mp4\n",
            "Video j8MOnajUK7U is unavailable. Skipping...\n",
            "Video j8MOnajUK7U is unavailable. Skipping...\n",
            "Video 292yX0AROGo is unavailable. Skipping...\n",
            "Video 292yX0AROGo is unavailable. Skipping...\n",
            "Moviepy - Building video ./Painting furniture/Painting furniture_BAVx0wl0KUY_subclip.mp4.\n",
            "MoviePy - Writing audio in Painting furniture_BAVx0wl0KUY_subclipTEMP_MPY_wvf_snd.mp3\n"
          ]
        },
        {
          "output_type": "stream",
          "name": "stderr",
          "text": []
        },
        {
          "output_type": "stream",
          "name": "stdout",
          "text": [
            "MoviePy - Done.\n",
            "Moviepy - Writing video ./Painting furniture/Painting furniture_BAVx0wl0KUY_subclip.mp4\n",
            "\n"
          ]
        },
        {
          "output_type": "stream",
          "name": "stderr",
          "text": []
        },
        {
          "output_type": "stream",
          "name": "stdout",
          "text": [
            "Moviepy - Done !\n",
            "Moviepy - video ready ./Painting furniture/Painting furniture_BAVx0wl0KUY_subclip.mp4\n",
            "Moviepy - Building video ./Painting furniture/Painting furniture_BAVx0wl0KUY_subclip.mp4.\n",
            "MoviePy - Writing audio in Painting furniture_BAVx0wl0KUY_subclipTEMP_MPY_wvf_snd.mp3\n"
          ]
        },
        {
          "output_type": "stream",
          "name": "stderr",
          "text": []
        },
        {
          "output_type": "stream",
          "name": "stdout",
          "text": [
            "MoviePy - Done.\n",
            "Moviepy - Writing video ./Painting furniture/Painting furniture_BAVx0wl0KUY_subclip.mp4\n",
            "\n"
          ]
        },
        {
          "output_type": "stream",
          "name": "stderr",
          "text": []
        },
        {
          "output_type": "stream",
          "name": "stdout",
          "text": [
            "Moviepy - Done !\n",
            "Moviepy - video ready ./Painting furniture/Painting furniture_BAVx0wl0KUY_subclip.mp4\n",
            "Moviepy - Building video ./Painting furniture/Painting furniture_G0kbpMs0vCs_subclip.mp4.\n",
            "MoviePy - Writing audio in Painting furniture_G0kbpMs0vCs_subclipTEMP_MPY_wvf_snd.mp3\n"
          ]
        },
        {
          "output_type": "stream",
          "name": "stderr",
          "text": []
        },
        {
          "output_type": "stream",
          "name": "stdout",
          "text": [
            "MoviePy - Done.\n",
            "Moviepy - Writing video ./Painting furniture/Painting furniture_G0kbpMs0vCs_subclip.mp4\n",
            "\n"
          ]
        },
        {
          "output_type": "stream",
          "name": "stderr",
          "text": []
        },
        {
          "output_type": "stream",
          "name": "stdout",
          "text": [
            "Moviepy - Done !\n",
            "Moviepy - video ready ./Painting furniture/Painting furniture_G0kbpMs0vCs_subclip.mp4\n",
            "Moviepy - Building video ./Painting furniture/Painting furniture_G0kbpMs0vCs_subclip.mp4.\n",
            "MoviePy - Writing audio in Painting furniture_G0kbpMs0vCs_subclipTEMP_MPY_wvf_snd.mp3\n"
          ]
        },
        {
          "output_type": "stream",
          "name": "stderr",
          "text": []
        },
        {
          "output_type": "stream",
          "name": "stdout",
          "text": [
            "MoviePy - Done.\n",
            "Moviepy - Writing video ./Painting furniture/Painting furniture_G0kbpMs0vCs_subclip.mp4\n",
            "\n"
          ]
        },
        {
          "output_type": "stream",
          "name": "stderr",
          "text": []
        },
        {
          "output_type": "stream",
          "name": "stdout",
          "text": [
            "Moviepy - Done !\n",
            "Moviepy - video ready ./Painting furniture/Painting furniture_G0kbpMs0vCs_subclip.mp4\n",
            "Moviepy - Building video ./Painting furniture/Painting furniture_syK6BaNbtow_subclip.mp4.\n",
            "MoviePy - Writing audio in Painting furniture_syK6BaNbtow_subclipTEMP_MPY_wvf_snd.mp3\n"
          ]
        },
        {
          "output_type": "stream",
          "name": "stderr",
          "text": []
        },
        {
          "output_type": "stream",
          "name": "stdout",
          "text": [
            "MoviePy - Done.\n",
            "Moviepy - Writing video ./Painting furniture/Painting furniture_syK6BaNbtow_subclip.mp4\n",
            "\n"
          ]
        },
        {
          "output_type": "stream",
          "name": "stderr",
          "text": []
        },
        {
          "output_type": "stream",
          "name": "stdout",
          "text": [
            "Moviepy - Done !\n",
            "Moviepy - video ready ./Painting furniture/Painting furniture_syK6BaNbtow_subclip.mp4\n",
            "Moviepy - Building video ./Painting furniture/Painting furniture_syK6BaNbtow_subclip.mp4.\n",
            "MoviePy - Writing audio in Painting furniture_syK6BaNbtow_subclipTEMP_MPY_wvf_snd.mp3\n"
          ]
        },
        {
          "output_type": "stream",
          "name": "stderr",
          "text": []
        },
        {
          "output_type": "stream",
          "name": "stdout",
          "text": [
            "MoviePy - Done.\n",
            "Moviepy - Writing video ./Painting furniture/Painting furniture_syK6BaNbtow_subclip.mp4\n",
            "\n"
          ]
        },
        {
          "output_type": "stream",
          "name": "stderr",
          "text": []
        },
        {
          "output_type": "stream",
          "name": "stdout",
          "text": [
            "Moviepy - Done !\n",
            "Moviepy - video ready ./Painting furniture/Painting furniture_syK6BaNbtow_subclip.mp4\n",
            "Moviepy - Building video ./Painting furniture/Painting furniture_s0r3v7MmUEQ_subclip.mp4.\n",
            "MoviePy - Writing audio in Painting furniture_s0r3v7MmUEQ_subclipTEMP_MPY_wvf_snd.mp3\n"
          ]
        },
        {
          "output_type": "stream",
          "name": "stderr",
          "text": []
        },
        {
          "output_type": "stream",
          "name": "stdout",
          "text": [
            "MoviePy - Done.\n",
            "Moviepy - Writing video ./Painting furniture/Painting furniture_s0r3v7MmUEQ_subclip.mp4\n",
            "\n"
          ]
        },
        {
          "output_type": "stream",
          "name": "stderr",
          "text": []
        },
        {
          "output_type": "stream",
          "name": "stdout",
          "text": [
            "Moviepy - Done !\n",
            "Moviepy - video ready ./Painting furniture/Painting furniture_s0r3v7MmUEQ_subclip.mp4\n",
            "Moviepy - Building video ./Painting furniture/Painting furniture_s0r3v7MmUEQ_subclip.mp4.\n",
            "MoviePy - Writing audio in Painting furniture_s0r3v7MmUEQ_subclipTEMP_MPY_wvf_snd.mp3\n"
          ]
        },
        {
          "output_type": "stream",
          "name": "stderr",
          "text": []
        },
        {
          "output_type": "stream",
          "name": "stdout",
          "text": [
            "MoviePy - Done.\n",
            "Moviepy - Writing video ./Painting furniture/Painting furniture_s0r3v7MmUEQ_subclip.mp4\n",
            "\n"
          ]
        },
        {
          "output_type": "stream",
          "name": "stderr",
          "text": []
        },
        {
          "output_type": "stream",
          "name": "stdout",
          "text": [
            "Moviepy - Done !\n",
            "Moviepy - video ready ./Painting furniture/Painting furniture_s0r3v7MmUEQ_subclip.mp4\n",
            "Moviepy - Building video ./Painting furniture/Painting furniture_BI01aC-zcSI_subclip.mp4.\n",
            "MoviePy - Writing audio in Painting furniture_BI01aC-zcSI_subclipTEMP_MPY_wvf_snd.mp3\n"
          ]
        },
        {
          "output_type": "stream",
          "name": "stderr",
          "text": []
        },
        {
          "output_type": "stream",
          "name": "stdout",
          "text": [
            "MoviePy - Done.\n",
            "Moviepy - Writing video ./Painting furniture/Painting furniture_BI01aC-zcSI_subclip.mp4\n",
            "\n"
          ]
        },
        {
          "output_type": "stream",
          "name": "stderr",
          "text": []
        },
        {
          "output_type": "stream",
          "name": "stdout",
          "text": [
            "Moviepy - Done !\n",
            "Moviepy - video ready ./Painting furniture/Painting furniture_BI01aC-zcSI_subclip.mp4\n",
            "Moviepy - Building video ./Painting furniture/Painting furniture_BI01aC-zcSI_subclip.mp4.\n",
            "MoviePy - Writing audio in Painting furniture_BI01aC-zcSI_subclipTEMP_MPY_wvf_snd.mp3\n"
          ]
        },
        {
          "output_type": "stream",
          "name": "stderr",
          "text": []
        },
        {
          "output_type": "stream",
          "name": "stdout",
          "text": [
            "MoviePy - Done.\n",
            "Moviepy - Writing video ./Painting furniture/Painting furniture_BI01aC-zcSI_subclip.mp4\n",
            "\n"
          ]
        },
        {
          "output_type": "stream",
          "name": "stderr",
          "text": []
        },
        {
          "output_type": "stream",
          "name": "stdout",
          "text": [
            "Moviepy - Done !\n",
            "Moviepy - video ready ./Painting furniture/Painting furniture_BI01aC-zcSI_subclip.mp4\n",
            "Moviepy - Building video ./Painting furniture/Painting furniture_fv3sZBIvnlw_subclip.mp4.\n",
            "MoviePy - Writing audio in Painting furniture_fv3sZBIvnlw_subclipTEMP_MPY_wvf_snd.mp3\n"
          ]
        },
        {
          "output_type": "stream",
          "name": "stderr",
          "text": []
        },
        {
          "output_type": "stream",
          "name": "stdout",
          "text": [
            "MoviePy - Done.\n",
            "Moviepy - Writing video ./Painting furniture/Painting furniture_fv3sZBIvnlw_subclip.mp4\n",
            "\n"
          ]
        },
        {
          "output_type": "stream",
          "name": "stderr",
          "text": []
        },
        {
          "output_type": "stream",
          "name": "stdout",
          "text": [
            "Moviepy - Done !\n",
            "Moviepy - video ready ./Painting furniture/Painting furniture_fv3sZBIvnlw_subclip.mp4\n",
            "Moviepy - Building video ./Painting furniture/Painting furniture_fv3sZBIvnlw_subclip.mp4.\n",
            "MoviePy - Writing audio in Painting furniture_fv3sZBIvnlw_subclipTEMP_MPY_wvf_snd.mp3\n"
          ]
        },
        {
          "output_type": "stream",
          "name": "stderr",
          "text": [
            "                                                                 "
          ]
        },
        {
          "output_type": "stream",
          "name": "stdout",
          "text": [
            "MoviePy - Done.\n",
            "Moviepy - Writing video ./Painting furniture/Painting furniture_fv3sZBIvnlw_subclip.mp4\n",
            "\n"
          ]
        },
        {
          "output_type": "stream",
          "name": "stderr",
          "text": []
        },
        {
          "output_type": "stream",
          "name": "stdout",
          "text": [
            "Moviepy - Done !\n",
            "Moviepy - video ready ./Painting furniture/Painting furniture_fv3sZBIvnlw_subclip.mp4\n",
            "Moviepy - Building video ./Painting furniture/Painting furniture_x_jzH6BpsU0_subclip.mp4.\n",
            "MoviePy - Writing audio in Painting furniture_x_jzH6BpsU0_subclipTEMP_MPY_wvf_snd.mp3\n"
          ]
        },
        {
          "output_type": "stream",
          "name": "stderr",
          "text": []
        },
        {
          "output_type": "stream",
          "name": "stdout",
          "text": [
            "MoviePy - Done.\n",
            "Moviepy - Writing video ./Painting furniture/Painting furniture_x_jzH6BpsU0_subclip.mp4\n",
            "\n"
          ]
        },
        {
          "output_type": "stream",
          "name": "stderr",
          "text": []
        },
        {
          "output_type": "stream",
          "name": "stdout",
          "text": [
            "Moviepy - Done !\n",
            "Moviepy - video ready ./Painting furniture/Painting furniture_x_jzH6BpsU0_subclip.mp4\n",
            "Moviepy - Building video ./Painting furniture/Painting furniture_x_jzH6BpsU0_subclip.mp4.\n",
            "MoviePy - Writing audio in Painting furniture_x_jzH6BpsU0_subclipTEMP_MPY_wvf_snd.mp3\n"
          ]
        },
        {
          "output_type": "stream",
          "name": "stderr",
          "text": []
        },
        {
          "output_type": "stream",
          "name": "stdout",
          "text": [
            "MoviePy - Done.\n",
            "Moviepy - Writing video ./Painting furniture/Painting furniture_x_jzH6BpsU0_subclip.mp4\n",
            "\n"
          ]
        },
        {
          "output_type": "stream",
          "name": "stderr",
          "text": []
        },
        {
          "output_type": "stream",
          "name": "stdout",
          "text": [
            "Moviepy - Done !\n",
            "Moviepy - video ready ./Painting furniture/Painting furniture_x_jzH6BpsU0_subclip.mp4\n",
            "Moviepy - Building video ./Painting furniture/Painting furniture_Bd12jr2Wctw_subclip.mp4.\n",
            "MoviePy - Writing audio in Painting furniture_Bd12jr2Wctw_subclipTEMP_MPY_wvf_snd.mp3\n"
          ]
        },
        {
          "output_type": "stream",
          "name": "stderr",
          "text": []
        },
        {
          "output_type": "stream",
          "name": "stdout",
          "text": [
            "MoviePy - Done.\n",
            "Moviepy - Writing video ./Painting furniture/Painting furniture_Bd12jr2Wctw_subclip.mp4\n",
            "\n"
          ]
        },
        {
          "output_type": "stream",
          "name": "stderr",
          "text": []
        },
        {
          "output_type": "stream",
          "name": "stdout",
          "text": [
            "Moviepy - Done !\n",
            "Moviepy - video ready ./Painting furniture/Painting furniture_Bd12jr2Wctw_subclip.mp4\n",
            "Moviepy - Building video ./Tug of war/Tug of war_6B-ffUCrMlM_subclip.mp4.\n",
            "MoviePy - Writing audio in Tug of war_6B-ffUCrMlM_subclipTEMP_MPY_wvf_snd.mp3\n"
          ]
        },
        {
          "output_type": "stream",
          "name": "stderr",
          "text": []
        },
        {
          "output_type": "stream",
          "name": "stdout",
          "text": [
            "MoviePy - Done.\n",
            "Moviepy - Writing video ./Tug of war/Tug of war_6B-ffUCrMlM_subclip.mp4\n",
            "\n"
          ]
        },
        {
          "output_type": "stream",
          "name": "stderr",
          "text": []
        },
        {
          "output_type": "stream",
          "name": "stdout",
          "text": [
            "Moviepy - Done !\n",
            "Moviepy - video ready ./Tug of war/Tug of war_6B-ffUCrMlM_subclip.mp4\n",
            "Moviepy - Building video ./Tug of war/Tug of war_6B-ffUCrMlM_subclip.mp4.\n",
            "MoviePy - Writing audio in Tug of war_6B-ffUCrMlM_subclipTEMP_MPY_wvf_snd.mp3\n"
          ]
        },
        {
          "output_type": "stream",
          "name": "stderr",
          "text": []
        },
        {
          "output_type": "stream",
          "name": "stdout",
          "text": [
            "MoviePy - Done.\n",
            "Moviepy - Writing video ./Tug of war/Tug of war_6B-ffUCrMlM_subclip.mp4\n",
            "\n"
          ]
        },
        {
          "output_type": "stream",
          "name": "stderr",
          "text": []
        },
        {
          "output_type": "stream",
          "name": "stdout",
          "text": [
            "Moviepy - Done !\n",
            "Moviepy - video ready ./Tug of war/Tug of war_6B-ffUCrMlM_subclip.mp4\n",
            "Moviepy - Building video ./Tug of war/Tug of war_EhYxdtD3ACE_subclip.mp4.\n",
            "MoviePy - Writing audio in Tug of war_EhYxdtD3ACE_subclipTEMP_MPY_wvf_snd.mp3\n"
          ]
        },
        {
          "output_type": "stream",
          "name": "stderr",
          "text": []
        },
        {
          "output_type": "stream",
          "name": "stdout",
          "text": [
            "MoviePy - Done.\n",
            "Moviepy - Writing video ./Tug of war/Tug of war_EhYxdtD3ACE_subclip.mp4\n",
            "\n"
          ]
        },
        {
          "output_type": "stream",
          "name": "stderr",
          "text": []
        },
        {
          "output_type": "stream",
          "name": "stdout",
          "text": [
            "Moviepy - Done !\n",
            "Moviepy - video ready ./Tug of war/Tug of war_EhYxdtD3ACE_subclip.mp4\n",
            "Moviepy - Building video ./Tug of war/Tug of war_EhYxdtD3ACE_subclip.mp4.\n",
            "MoviePy - Writing audio in Tug of war_EhYxdtD3ACE_subclipTEMP_MPY_wvf_snd.mp3\n"
          ]
        },
        {
          "output_type": "stream",
          "name": "stderr",
          "text": []
        },
        {
          "output_type": "stream",
          "name": "stdout",
          "text": [
            "MoviePy - Done.\n",
            "Moviepy - Writing video ./Tug of war/Tug of war_EhYxdtD3ACE_subclip.mp4\n",
            "\n"
          ]
        },
        {
          "output_type": "stream",
          "name": "stderr",
          "text": []
        },
        {
          "output_type": "stream",
          "name": "stdout",
          "text": [
            "Moviepy - Done !\n",
            "Moviepy - video ready ./Tug of war/Tug of war_EhYxdtD3ACE_subclip.mp4\n",
            "Moviepy - Building video ./Tug of war/Tug of war_EhYxdtD3ACE_subclip.mp4.\n",
            "MoviePy - Writing audio in Tug of war_EhYxdtD3ACE_subclipTEMP_MPY_wvf_snd.mp3\n"
          ]
        },
        {
          "output_type": "stream",
          "name": "stderr",
          "text": []
        },
        {
          "output_type": "stream",
          "name": "stdout",
          "text": [
            "MoviePy - Done.\n",
            "Moviepy - Writing video ./Tug of war/Tug of war_EhYxdtD3ACE_subclip.mp4\n",
            "\n"
          ]
        },
        {
          "output_type": "stream",
          "name": "stderr",
          "text": []
        },
        {
          "output_type": "stream",
          "name": "stdout",
          "text": [
            "Moviepy - Done !\n",
            "Moviepy - video ready ./Tug of war/Tug of war_EhYxdtD3ACE_subclip.mp4\n",
            "Moviepy - Building video ./Tug of war/Tug of war_c5kIOVK8W3c_subclip.mp4.\n",
            "MoviePy - Writing audio in Tug of war_c5kIOVK8W3c_subclipTEMP_MPY_wvf_snd.mp3\n"
          ]
        },
        {
          "output_type": "stream",
          "name": "stderr",
          "text": []
        },
        {
          "output_type": "stream",
          "name": "stdout",
          "text": [
            "MoviePy - Done.\n",
            "Moviepy - Writing video ./Tug of war/Tug of war_c5kIOVK8W3c_subclip.mp4\n",
            "\n"
          ]
        },
        {
          "output_type": "stream",
          "name": "stderr",
          "text": []
        },
        {
          "output_type": "stream",
          "name": "stdout",
          "text": [
            "Moviepy - Done !\n",
            "Moviepy - video ready ./Tug of war/Tug of war_c5kIOVK8W3c_subclip.mp4\n",
            "Moviepy - Building video ./Tug of war/Tug of war_c5kIOVK8W3c_subclip.mp4.\n",
            "MoviePy - Writing audio in Tug of war_c5kIOVK8W3c_subclipTEMP_MPY_wvf_snd.mp3\n"
          ]
        },
        {
          "output_type": "stream",
          "name": "stderr",
          "text": []
        },
        {
          "output_type": "stream",
          "name": "stdout",
          "text": [
            "MoviePy - Done.\n",
            "Moviepy - Writing video ./Tug of war/Tug of war_c5kIOVK8W3c_subclip.mp4\n",
            "\n"
          ]
        },
        {
          "output_type": "stream",
          "name": "stderr",
          "text": []
        },
        {
          "output_type": "stream",
          "name": "stdout",
          "text": [
            "Moviepy - Done !\n",
            "Moviepy - video ready ./Tug of war/Tug of war_c5kIOVK8W3c_subclip.mp4\n",
            "Moviepy - Building video ./Tug of war/Tug of war_c5kIOVK8W3c_subclip.mp4.\n",
            "MoviePy - Writing audio in Tug of war_c5kIOVK8W3c_subclipTEMP_MPY_wvf_snd.mp3\n"
          ]
        },
        {
          "output_type": "stream",
          "name": "stderr",
          "text": []
        },
        {
          "output_type": "stream",
          "name": "stdout",
          "text": [
            "MoviePy - Done.\n",
            "Moviepy - Writing video ./Tug of war/Tug of war_c5kIOVK8W3c_subclip.mp4\n",
            "\n"
          ]
        },
        {
          "output_type": "stream",
          "name": "stderr",
          "text": []
        },
        {
          "output_type": "stream",
          "name": "stdout",
          "text": [
            "Moviepy - Done !\n",
            "Moviepy - video ready ./Tug of war/Tug of war_c5kIOVK8W3c_subclip.mp4\n",
            "Video zNn6dQ5HzXg is unavailable. Skipping...\n",
            "Video zNn6dQ5HzXg is unavailable. Skipping...\n",
            "Video zNn6dQ5HzXg is unavailable. Skipping...\n",
            "Moviepy - Building video ./Tug of war/Tug of war_9esYT53j0ak_subclip.mp4.\n",
            "MoviePy - Writing audio in Tug of war_9esYT53j0ak_subclipTEMP_MPY_wvf_snd.mp3\n"
          ]
        },
        {
          "output_type": "stream",
          "name": "stderr",
          "text": []
        },
        {
          "output_type": "stream",
          "name": "stdout",
          "text": [
            "MoviePy - Done.\n",
            "Moviepy - Writing video ./Tug of war/Tug of war_9esYT53j0ak_subclip.mp4\n",
            "\n"
          ]
        },
        {
          "output_type": "stream",
          "name": "stderr",
          "text": []
        },
        {
          "output_type": "stream",
          "name": "stdout",
          "text": [
            "Moviepy - Done !\n",
            "Moviepy - video ready ./Tug of war/Tug of war_9esYT53j0ak_subclip.mp4\n",
            "Moviepy - Building video ./Tug of war/Tug of war_9esYT53j0ak_subclip.mp4.\n",
            "MoviePy - Writing audio in Tug of war_9esYT53j0ak_subclipTEMP_MPY_wvf_snd.mp3\n"
          ]
        },
        {
          "output_type": "stream",
          "name": "stderr",
          "text": []
        },
        {
          "output_type": "stream",
          "name": "stdout",
          "text": [
            "MoviePy - Done.\n",
            "Moviepy - Writing video ./Tug of war/Tug of war_9esYT53j0ak_subclip.mp4\n",
            "\n"
          ]
        },
        {
          "output_type": "stream",
          "name": "stderr",
          "text": []
        },
        {
          "output_type": "stream",
          "name": "stdout",
          "text": [
            "Moviepy - Done !\n",
            "Moviepy - video ready ./Tug of war/Tug of war_9esYT53j0ak_subclip.mp4\n",
            "Moviepy - Building video ./Tug of war/Tug of war_9esYT53j0ak_subclip.mp4.\n",
            "MoviePy - Writing audio in Tug of war_9esYT53j0ak_subclipTEMP_MPY_wvf_snd.mp3\n"
          ]
        },
        {
          "output_type": "stream",
          "name": "stderr",
          "text": []
        },
        {
          "output_type": "stream",
          "name": "stdout",
          "text": [
            "MoviePy - Done.\n",
            "Moviepy - Writing video ./Tug of war/Tug of war_9esYT53j0ak_subclip.mp4\n",
            "\n"
          ]
        },
        {
          "output_type": "stream",
          "name": "stderr",
          "text": []
        },
        {
          "output_type": "stream",
          "name": "stdout",
          "text": [
            "Moviepy - Done !\n",
            "Moviepy - video ready ./Tug of war/Tug of war_9esYT53j0ak_subclip.mp4\n",
            "Moviepy - Building video ./Tug of war/Tug of war_uHZ6eh-2FCA_subclip.mp4.\n",
            "MoviePy - Writing audio in Tug of war_uHZ6eh-2FCA_subclipTEMP_MPY_wvf_snd.mp3\n"
          ]
        },
        {
          "output_type": "stream",
          "name": "stderr",
          "text": []
        },
        {
          "output_type": "stream",
          "name": "stdout",
          "text": [
            "MoviePy - Done.\n",
            "Moviepy - Writing video ./Tug of war/Tug of war_uHZ6eh-2FCA_subclip.mp4\n",
            "\n"
          ]
        },
        {
          "output_type": "stream",
          "name": "stderr",
          "text": []
        },
        {
          "output_type": "stream",
          "name": "stdout",
          "text": [
            "Moviepy - Done !\n",
            "Moviepy - video ready ./Tug of war/Tug of war_uHZ6eh-2FCA_subclip.mp4\n",
            "Moviepy - Building video ./Tug of war/Tug of war_uHZ6eh-2FCA_subclip.mp4.\n",
            "MoviePy - Writing audio in Tug of war_uHZ6eh-2FCA_subclipTEMP_MPY_wvf_snd.mp3\n"
          ]
        },
        {
          "output_type": "stream",
          "name": "stderr",
          "text": []
        },
        {
          "output_type": "stream",
          "name": "stdout",
          "text": [
            "MoviePy - Done.\n",
            "Moviepy - Writing video ./Tug of war/Tug of war_uHZ6eh-2FCA_subclip.mp4\n",
            "\n"
          ]
        },
        {
          "output_type": "stream",
          "name": "stderr",
          "text": []
        },
        {
          "output_type": "stream",
          "name": "stdout",
          "text": [
            "Moviepy - Done !\n",
            "Moviepy - video ready ./Tug of war/Tug of war_uHZ6eh-2FCA_subclip.mp4\n",
            "Moviepy - Building video ./Tug of war/Tug of war_uHZ6eh-2FCA_subclip.mp4.\n",
            "MoviePy - Writing audio in Tug of war_uHZ6eh-2FCA_subclipTEMP_MPY_wvf_snd.mp3\n"
          ]
        },
        {
          "output_type": "stream",
          "name": "stderr",
          "text": []
        },
        {
          "output_type": "stream",
          "name": "stdout",
          "text": [
            "MoviePy - Done.\n",
            "Moviepy - Writing video ./Tug of war/Tug of war_uHZ6eh-2FCA_subclip.mp4\n",
            "\n"
          ]
        },
        {
          "output_type": "stream",
          "name": "stderr",
          "text": [
            "\rt:   0%|          | 0/5 [00:00<?, ?it/s, now=None]WARNING:py.warnings:/usr/local/lib/python3.9/dist-packages/moviepy/video/io/ffmpeg_reader.py:123: UserWarning: Warning: in file ./Tug of war/Tug of war_uHZ6eh-2FCA.mp4, 518400 bytes wanted but 0 bytes read,at frame 439/440, at time 14.63/14.65 sec. Using the last valid frame instead.\n",
            "  warnings.warn(\"Warning: in file %s, \"%(self.filename)+\n",
            "\n",
            "                                                  "
          ]
        },
        {
          "output_type": "stream",
          "name": "stdout",
          "text": [
            "Moviepy - Done !\n",
            "Moviepy - video ready ./Tug of war/Tug of war_uHZ6eh-2FCA_subclip.mp4\n"
          ]
        },
        {
          "output_type": "stream",
          "name": "stderr",
          "text": [
            "\r"
          ]
        },
        {
          "output_type": "stream",
          "name": "stdout",
          "text": [
            "Moviepy - Building video ./Tug of war/Tug of war_z77FtNiXHrI_subclip.mp4.\n",
            "MoviePy - Writing audio in Tug of war_z77FtNiXHrI_subclipTEMP_MPY_wvf_snd.mp3\n"
          ]
        },
        {
          "output_type": "stream",
          "name": "stderr",
          "text": []
        },
        {
          "output_type": "stream",
          "name": "stdout",
          "text": [
            "MoviePy - Done.\n",
            "Moviepy - Writing video ./Tug of war/Tug of war_z77FtNiXHrI_subclip.mp4\n",
            "\n"
          ]
        },
        {
          "output_type": "stream",
          "name": "stderr",
          "text": []
        },
        {
          "output_type": "stream",
          "name": "stdout",
          "text": [
            "Moviepy - Done !\n",
            "Moviepy - video ready ./Tug of war/Tug of war_z77FtNiXHrI_subclip.mp4\n",
            "Moviepy - Building video ./Tug of war/Tug of war_z77FtNiXHrI_subclip.mp4.\n",
            "MoviePy - Writing audio in Tug of war_z77FtNiXHrI_subclipTEMP_MPY_wvf_snd.mp3\n"
          ]
        },
        {
          "output_type": "stream",
          "name": "stderr",
          "text": []
        },
        {
          "output_type": "stream",
          "name": "stdout",
          "text": [
            "MoviePy - Done.\n",
            "Moviepy - Writing video ./Tug of war/Tug of war_z77FtNiXHrI_subclip.mp4\n",
            "\n"
          ]
        },
        {
          "output_type": "stream",
          "name": "stderr",
          "text": []
        },
        {
          "output_type": "stream",
          "name": "stdout",
          "text": [
            "Moviepy - Done !\n",
            "Moviepy - video ready ./Tug of war/Tug of war_z77FtNiXHrI_subclip.mp4\n",
            "Moviepy - Building video ./Tug of war/Tug of war_z77FtNiXHrI_subclip.mp4.\n",
            "MoviePy - Writing audio in Tug of war_z77FtNiXHrI_subclipTEMP_MPY_wvf_snd.mp3\n"
          ]
        },
        {
          "output_type": "stream",
          "name": "stderr",
          "text": []
        },
        {
          "output_type": "stream",
          "name": "stdout",
          "text": [
            "MoviePy - Done.\n",
            "Moviepy - Writing video ./Tug of war/Tug of war_z77FtNiXHrI_subclip.mp4\n",
            "\n"
          ]
        },
        {
          "output_type": "stream",
          "name": "stderr",
          "text": []
        },
        {
          "output_type": "stream",
          "name": "stdout",
          "text": [
            "Moviepy - Done !\n",
            "Moviepy - video ready ./Tug of war/Tug of war_z77FtNiXHrI_subclip.mp4\n",
            "Moviepy - Building video ./Tug of war/Tug of war_ljDTWA2jJMI_subclip.mp4.\n",
            "MoviePy - Writing audio in Tug of war_ljDTWA2jJMI_subclipTEMP_MPY_wvf_snd.mp3\n"
          ]
        },
        {
          "output_type": "stream",
          "name": "stderr",
          "text": []
        },
        {
          "output_type": "stream",
          "name": "stdout",
          "text": [
            "MoviePy - Done.\n",
            "Moviepy - Writing video ./Tug of war/Tug of war_ljDTWA2jJMI_subclip.mp4\n",
            "\n"
          ]
        },
        {
          "output_type": "stream",
          "name": "stderr",
          "text": []
        },
        {
          "output_type": "stream",
          "name": "stdout",
          "text": [
            "Moviepy - Done !\n",
            "Moviepy - video ready ./Tug of war/Tug of war_ljDTWA2jJMI_subclip.mp4\n",
            "Moviepy - Building video ./Tug of war/Tug of war_ljDTWA2jJMI_subclip.mp4.\n",
            "MoviePy - Writing audio in Tug of war_ljDTWA2jJMI_subclipTEMP_MPY_wvf_snd.mp3\n"
          ]
        },
        {
          "output_type": "stream",
          "name": "stderr",
          "text": []
        },
        {
          "output_type": "stream",
          "name": "stdout",
          "text": [
            "MoviePy - Done.\n",
            "Moviepy - Writing video ./Tug of war/Tug of war_ljDTWA2jJMI_subclip.mp4\n",
            "\n"
          ]
        },
        {
          "output_type": "stream",
          "name": "stderr",
          "text": []
        },
        {
          "output_type": "stream",
          "name": "stdout",
          "text": [
            "Moviepy - Done !\n",
            "Moviepy - video ready ./Tug of war/Tug of war_ljDTWA2jJMI_subclip.mp4\n",
            "Moviepy - Building video ./Tug of war/Tug of war_ljDTWA2jJMI_subclip.mp4.\n",
            "MoviePy - Writing audio in Tug of war_ljDTWA2jJMI_subclipTEMP_MPY_wvf_snd.mp3\n"
          ]
        },
        {
          "output_type": "stream",
          "name": "stderr",
          "text": []
        },
        {
          "output_type": "stream",
          "name": "stdout",
          "text": [
            "MoviePy - Done.\n",
            "Moviepy - Writing video ./Tug of war/Tug of war_ljDTWA2jJMI_subclip.mp4\n",
            "\n"
          ]
        },
        {
          "output_type": "stream",
          "name": "stderr",
          "text": []
        },
        {
          "output_type": "stream",
          "name": "stdout",
          "text": [
            "Moviepy - Done !\n",
            "Moviepy - video ready ./Tug of war/Tug of war_ljDTWA2jJMI_subclip.mp4\n",
            "Moviepy - Building video ./Tug of war/Tug of war_POa5k0ia2pU_subclip.mp4.\n",
            "MoviePy - Writing audio in Tug of war_POa5k0ia2pU_subclipTEMP_MPY_wvf_snd.mp3\n"
          ]
        },
        {
          "output_type": "stream",
          "name": "stderr",
          "text": []
        },
        {
          "output_type": "stream",
          "name": "stdout",
          "text": [
            "MoviePy - Done.\n",
            "Moviepy - Writing video ./Tug of war/Tug of war_POa5k0ia2pU_subclip.mp4\n",
            "\n"
          ]
        },
        {
          "output_type": "stream",
          "name": "stderr",
          "text": []
        },
        {
          "output_type": "stream",
          "name": "stdout",
          "text": [
            "Moviepy - Done !\n",
            "Moviepy - video ready ./Tug of war/Tug of war_POa5k0ia2pU_subclip.mp4\n",
            "Moviepy - Building video ./Tug of war/Tug of war_POa5k0ia2pU_subclip.mp4.\n",
            "MoviePy - Writing audio in Tug of war_POa5k0ia2pU_subclipTEMP_MPY_wvf_snd.mp3\n"
          ]
        },
        {
          "output_type": "stream",
          "name": "stderr",
          "text": []
        },
        {
          "output_type": "stream",
          "name": "stdout",
          "text": [
            "MoviePy - Done.\n",
            "Moviepy - Writing video ./Tug of war/Tug of war_POa5k0ia2pU_subclip.mp4\n",
            "\n"
          ]
        },
        {
          "output_type": "stream",
          "name": "stderr",
          "text": []
        },
        {
          "output_type": "stream",
          "name": "stdout",
          "text": [
            "Moviepy - Done !\n",
            "Moviepy - video ready ./Tug of war/Tug of war_POa5k0ia2pU_subclip.mp4\n",
            "Moviepy - Building video ./Tug of war/Tug of war_POa5k0ia2pU_subclip.mp4.\n",
            "MoviePy - Writing audio in Tug of war_POa5k0ia2pU_subclipTEMP_MPY_wvf_snd.mp3\n"
          ]
        },
        {
          "output_type": "stream",
          "name": "stderr",
          "text": []
        },
        {
          "output_type": "stream",
          "name": "stdout",
          "text": [
            "MoviePy - Done.\n",
            "Moviepy - Writing video ./Tug of war/Tug of war_POa5k0ia2pU_subclip.mp4\n",
            "\n"
          ]
        },
        {
          "output_type": "stream",
          "name": "stderr",
          "text": []
        },
        {
          "output_type": "stream",
          "name": "stdout",
          "text": [
            "Moviepy - Done !\n",
            "Moviepy - video ready ./Tug of war/Tug of war_POa5k0ia2pU_subclip.mp4\n",
            "Moviepy - Building video ./Tug of war/Tug of war_GmHvOm__c2I_subclip.mp4.\n",
            "MoviePy - Writing audio in Tug of war_GmHvOm__c2I_subclipTEMP_MPY_wvf_snd.mp3\n"
          ]
        },
        {
          "output_type": "stream",
          "name": "stderr",
          "text": []
        },
        {
          "output_type": "stream",
          "name": "stdout",
          "text": [
            "MoviePy - Done.\n",
            "Moviepy - Writing video ./Tug of war/Tug of war_GmHvOm__c2I_subclip.mp4\n",
            "\n"
          ]
        },
        {
          "output_type": "stream",
          "name": "stderr",
          "text": []
        },
        {
          "output_type": "stream",
          "name": "stdout",
          "text": [
            "Moviepy - Done !\n",
            "Moviepy - video ready ./Tug of war/Tug of war_GmHvOm__c2I_subclip.mp4\n",
            "Moviepy - Building video ./Tug of war/Tug of war_GmHvOm__c2I_subclip.mp4.\n",
            "MoviePy - Writing audio in Tug of war_GmHvOm__c2I_subclipTEMP_MPY_wvf_snd.mp3\n"
          ]
        },
        {
          "output_type": "stream",
          "name": "stderr",
          "text": []
        },
        {
          "output_type": "stream",
          "name": "stdout",
          "text": [
            "MoviePy - Done.\n",
            "Moviepy - Writing video ./Tug of war/Tug of war_GmHvOm__c2I_subclip.mp4\n",
            "\n"
          ]
        },
        {
          "output_type": "stream",
          "name": "stderr",
          "text": []
        },
        {
          "output_type": "stream",
          "name": "stdout",
          "text": [
            "Moviepy - Done !\n",
            "Moviepy - video ready ./Tug of war/Tug of war_GmHvOm__c2I_subclip.mp4\n",
            "Moviepy - Building video ./Tug of war/Tug of war_GmHvOm__c2I_subclip.mp4.\n",
            "MoviePy - Writing audio in Tug of war_GmHvOm__c2I_subclipTEMP_MPY_wvf_snd.mp3\n"
          ]
        },
        {
          "output_type": "stream",
          "name": "stderr",
          "text": []
        },
        {
          "output_type": "stream",
          "name": "stdout",
          "text": [
            "MoviePy - Done.\n",
            "Moviepy - Writing video ./Tug of war/Tug of war_GmHvOm__c2I_subclip.mp4\n",
            "\n"
          ]
        },
        {
          "output_type": "stream",
          "name": "stderr",
          "text": []
        },
        {
          "output_type": "stream",
          "name": "stdout",
          "text": [
            "Moviepy - Done !\n",
            "Moviepy - video ready ./Tug of war/Tug of war_GmHvOm__c2I_subclip.mp4\n",
            "Moviepy - Building video ./Tug of war/Tug of war_jaJkYFRSG4U_subclip.mp4.\n",
            "MoviePy - Writing audio in Tug of war_jaJkYFRSG4U_subclipTEMP_MPY_wvf_snd.mp3\n"
          ]
        },
        {
          "output_type": "stream",
          "name": "stderr",
          "text": []
        },
        {
          "output_type": "stream",
          "name": "stdout",
          "text": [
            "MoviePy - Done.\n",
            "Moviepy - Writing video ./Tug of war/Tug of war_jaJkYFRSG4U_subclip.mp4\n",
            "\n"
          ]
        },
        {
          "output_type": "stream",
          "name": "stderr",
          "text": []
        },
        {
          "output_type": "stream",
          "name": "stdout",
          "text": [
            "Moviepy - Done !\n",
            "Moviepy - video ready ./Tug of war/Tug of war_jaJkYFRSG4U_subclip.mp4\n",
            "Moviepy - Building video ./Tug of war/Tug of war_jaJkYFRSG4U_subclip.mp4.\n",
            "MoviePy - Writing audio in Tug of war_jaJkYFRSG4U_subclipTEMP_MPY_wvf_snd.mp3\n"
          ]
        },
        {
          "output_type": "stream",
          "name": "stderr",
          "text": [
            "                                                                 "
          ]
        },
        {
          "output_type": "stream",
          "name": "stdout",
          "text": [
            "MoviePy - Done.\n",
            "Moviepy - Writing video ./Tug of war/Tug of war_jaJkYFRSG4U_subclip.mp4\n",
            "\n"
          ]
        },
        {
          "output_type": "stream",
          "name": "stderr",
          "text": []
        },
        {
          "output_type": "stream",
          "name": "stdout",
          "text": [
            "Moviepy - Done !\n",
            "Moviepy - video ready ./Tug of war/Tug of war_jaJkYFRSG4U_subclip.mp4\n",
            "Moviepy - Building video ./Tug of war/Tug of war_jaJkYFRSG4U_subclip.mp4.\n",
            "MoviePy - Writing audio in Tug of war_jaJkYFRSG4U_subclipTEMP_MPY_wvf_snd.mp3\n"
          ]
        },
        {
          "output_type": "stream",
          "name": "stderr",
          "text": []
        },
        {
          "output_type": "stream",
          "name": "stdout",
          "text": [
            "MoviePy - Done.\n",
            "Moviepy - Writing video ./Tug of war/Tug of war_jaJkYFRSG4U_subclip.mp4\n",
            "\n"
          ]
        },
        {
          "output_type": "stream",
          "name": "stderr",
          "text": []
        },
        {
          "output_type": "stream",
          "name": "stdout",
          "text": [
            "Moviepy - Done !\n",
            "Moviepy - video ready ./Tug of war/Tug of war_jaJkYFRSG4U_subclip.mp4\n",
            "Moviepy - Building video ./Tug of war/Tug of war_Va9OwLBeWx4_subclip.mp4.\n",
            "MoviePy - Writing audio in Tug of war_Va9OwLBeWx4_subclipTEMP_MPY_wvf_snd.mp3\n"
          ]
        },
        {
          "output_type": "stream",
          "name": "stderr",
          "text": []
        },
        {
          "output_type": "stream",
          "name": "stdout",
          "text": [
            "MoviePy - Done.\n",
            "Moviepy - Writing video ./Tug of war/Tug of war_Va9OwLBeWx4_subclip.mp4\n",
            "\n"
          ]
        },
        {
          "output_type": "stream",
          "name": "stderr",
          "text": []
        },
        {
          "output_type": "stream",
          "name": "stdout",
          "text": [
            "Moviepy - Done !\n",
            "Moviepy - video ready ./Tug of war/Tug of war_Va9OwLBeWx4_subclip.mp4\n",
            "Moviepy - Building video ./Tug of war/Tug of war_Va9OwLBeWx4_subclip.mp4.\n",
            "MoviePy - Writing audio in Tug of war_Va9OwLBeWx4_subclipTEMP_MPY_wvf_snd.mp3\n"
          ]
        },
        {
          "output_type": "stream",
          "name": "stderr",
          "text": []
        },
        {
          "output_type": "stream",
          "name": "stdout",
          "text": [
            "MoviePy - Done.\n",
            "Moviepy - Writing video ./Tug of war/Tug of war_Va9OwLBeWx4_subclip.mp4\n",
            "\n"
          ]
        },
        {
          "output_type": "stream",
          "name": "stderr",
          "text": []
        },
        {
          "output_type": "stream",
          "name": "stdout",
          "text": [
            "Moviepy - Done !\n",
            "Moviepy - video ready ./Tug of war/Tug of war_Va9OwLBeWx4_subclip.mp4\n",
            "Moviepy - Building video ./Tug of war/Tug of war_Va9OwLBeWx4_subclip.mp4.\n",
            "MoviePy - Writing audio in Tug of war_Va9OwLBeWx4_subclipTEMP_MPY_wvf_snd.mp3\n"
          ]
        },
        {
          "output_type": "stream",
          "name": "stderr",
          "text": []
        },
        {
          "output_type": "stream",
          "name": "stdout",
          "text": [
            "MoviePy - Done.\n",
            "Moviepy - Writing video ./Tug of war/Tug of war_Va9OwLBeWx4_subclip.mp4\n",
            "\n"
          ]
        },
        {
          "output_type": "stream",
          "name": "stderr",
          "text": []
        },
        {
          "output_type": "stream",
          "name": "stdout",
          "text": [
            "Moviepy - Done !\n",
            "Moviepy - video ready ./Tug of war/Tug of war_Va9OwLBeWx4_subclip.mp4\n",
            "Moviepy - Building video ./Tug of war/Tug of war_IwnoDAkz4zc_subclip.mp4.\n",
            "MoviePy - Writing audio in Tug of war_IwnoDAkz4zc_subclipTEMP_MPY_wvf_snd.mp3\n"
          ]
        },
        {
          "output_type": "stream",
          "name": "stderr",
          "text": []
        },
        {
          "output_type": "stream",
          "name": "stdout",
          "text": [
            "MoviePy - Done.\n",
            "Moviepy - Writing video ./Tug of war/Tug of war_IwnoDAkz4zc_subclip.mp4\n",
            "\n"
          ]
        },
        {
          "output_type": "stream",
          "name": "stderr",
          "text": []
        },
        {
          "output_type": "stream",
          "name": "stdout",
          "text": [
            "Moviepy - Done !\n",
            "Moviepy - video ready ./Tug of war/Tug of war_IwnoDAkz4zc_subclip.mp4\n",
            "Moviepy - Building video ./Tug of war/Tug of war_IwnoDAkz4zc_subclip.mp4.\n",
            "MoviePy - Writing audio in Tug of war_IwnoDAkz4zc_subclipTEMP_MPY_wvf_snd.mp3\n"
          ]
        },
        {
          "output_type": "stream",
          "name": "stderr",
          "text": []
        },
        {
          "output_type": "stream",
          "name": "stdout",
          "text": [
            "MoviePy - Done.\n",
            "Moviepy - Writing video ./Tug of war/Tug of war_IwnoDAkz4zc_subclip.mp4\n",
            "\n"
          ]
        },
        {
          "output_type": "stream",
          "name": "stderr",
          "text": []
        },
        {
          "output_type": "stream",
          "name": "stdout",
          "text": [
            "Moviepy - Done !\n",
            "Moviepy - video ready ./Tug of war/Tug of war_IwnoDAkz4zc_subclip.mp4\n",
            "Moviepy - Building video ./Tug of war/Tug of war_IwnoDAkz4zc_subclip.mp4.\n",
            "MoviePy - Writing audio in Tug of war_IwnoDAkz4zc_subclipTEMP_MPY_wvf_snd.mp3\n"
          ]
        },
        {
          "output_type": "stream",
          "name": "stderr",
          "text": []
        },
        {
          "output_type": "stream",
          "name": "stdout",
          "text": [
            "MoviePy - Done.\n",
            "Moviepy - Writing video ./Tug of war/Tug of war_IwnoDAkz4zc_subclip.mp4\n",
            "\n"
          ]
        },
        {
          "output_type": "stream",
          "name": "stderr",
          "text": []
        },
        {
          "output_type": "stream",
          "name": "stdout",
          "text": [
            "Moviepy - Done !\n",
            "Moviepy - video ready ./Tug of war/Tug of war_IwnoDAkz4zc_subclip.mp4\n",
            "Moviepy - Building video ./Volleyball/Volleyball_pL71s7pex_8_subclip.mp4.\n",
            "MoviePy - Writing audio in Volleyball_pL71s7pex_8_subclipTEMP_MPY_wvf_snd.mp3\n"
          ]
        },
        {
          "output_type": "stream",
          "name": "stderr",
          "text": []
        },
        {
          "output_type": "stream",
          "name": "stdout",
          "text": [
            "MoviePy - Done.\n",
            "Moviepy - Writing video ./Volleyball/Volleyball_pL71s7pex_8_subclip.mp4\n",
            "\n"
          ]
        },
        {
          "output_type": "stream",
          "name": "stderr",
          "text": []
        },
        {
          "output_type": "stream",
          "name": "stdout",
          "text": [
            "Moviepy - Done !\n",
            "Moviepy - video ready ./Volleyball/Volleyball_pL71s7pex_8_subclip.mp4\n",
            "Moviepy - Building video ./Volleyball/Volleyball_pL71s7pex_8_subclip.mp4.\n",
            "MoviePy - Writing audio in Volleyball_pL71s7pex_8_subclipTEMP_MPY_wvf_snd.mp3\n"
          ]
        },
        {
          "output_type": "stream",
          "name": "stderr",
          "text": []
        },
        {
          "output_type": "stream",
          "name": "stdout",
          "text": [
            "MoviePy - Done.\n",
            "Moviepy - Writing video ./Volleyball/Volleyball_pL71s7pex_8_subclip.mp4\n",
            "\n"
          ]
        },
        {
          "output_type": "stream",
          "name": "stderr",
          "text": []
        },
        {
          "output_type": "stream",
          "name": "stdout",
          "text": [
            "Moviepy - Done !\n",
            "Moviepy - video ready ./Volleyball/Volleyball_pL71s7pex_8_subclip.mp4\n",
            "Moviepy - Building video ./Volleyball/Volleyball_rP2_4P0gMXk_subclip.mp4.\n",
            "MoviePy - Writing audio in Volleyball_rP2_4P0gMXk_subclipTEMP_MPY_wvf_snd.mp3\n"
          ]
        },
        {
          "output_type": "stream",
          "name": "stderr",
          "text": []
        },
        {
          "output_type": "stream",
          "name": "stdout",
          "text": [
            "MoviePy - Done.\n",
            "Moviepy - Writing video ./Volleyball/Volleyball_rP2_4P0gMXk_subclip.mp4\n",
            "\n"
          ]
        },
        {
          "output_type": "stream",
          "name": "stderr",
          "text": []
        },
        {
          "output_type": "stream",
          "name": "stdout",
          "text": [
            "Moviepy - Done !\n",
            "Moviepy - video ready ./Volleyball/Volleyball_rP2_4P0gMXk_subclip.mp4\n",
            "Moviepy - Building video ./Volleyball/Volleyball_rP2_4P0gMXk_subclip.mp4.\n",
            "MoviePy - Writing audio in Volleyball_rP2_4P0gMXk_subclipTEMP_MPY_wvf_snd.mp3\n"
          ]
        },
        {
          "output_type": "stream",
          "name": "stderr",
          "text": []
        },
        {
          "output_type": "stream",
          "name": "stdout",
          "text": [
            "MoviePy - Done.\n",
            "Moviepy - Writing video ./Volleyball/Volleyball_rP2_4P0gMXk_subclip.mp4\n",
            "\n"
          ]
        },
        {
          "output_type": "stream",
          "name": "stderr",
          "text": []
        },
        {
          "output_type": "stream",
          "name": "stdout",
          "text": [
            "Moviepy - Done !\n",
            "Moviepy - video ready ./Volleyball/Volleyball_rP2_4P0gMXk_subclip.mp4\n",
            "Moviepy - Building video ./Volleyball/Volleyball_rP2_4P0gMXk_subclip.mp4.\n",
            "MoviePy - Writing audio in Volleyball_rP2_4P0gMXk_subclipTEMP_MPY_wvf_snd.mp3\n"
          ]
        },
        {
          "output_type": "stream",
          "name": "stderr",
          "text": []
        },
        {
          "output_type": "stream",
          "name": "stdout",
          "text": [
            "MoviePy - Done.\n",
            "Moviepy - Writing video ./Volleyball/Volleyball_rP2_4P0gMXk_subclip.mp4\n",
            "\n"
          ]
        },
        {
          "output_type": "stream",
          "name": "stderr",
          "text": []
        },
        {
          "output_type": "stream",
          "name": "stdout",
          "text": [
            "Moviepy - Done !\n",
            "Moviepy - video ready ./Volleyball/Volleyball_rP2_4P0gMXk_subclip.mp4\n",
            "Moviepy - Building video ./Volleyball/Volleyball_rP2_4P0gMXk_subclip.mp4.\n",
            "MoviePy - Writing audio in Volleyball_rP2_4P0gMXk_subclipTEMP_MPY_wvf_snd.mp3\n"
          ]
        },
        {
          "output_type": "stream",
          "name": "stderr",
          "text": []
        },
        {
          "output_type": "stream",
          "name": "stdout",
          "text": [
            "MoviePy - Done.\n",
            "Moviepy - Writing video ./Volleyball/Volleyball_rP2_4P0gMXk_subclip.mp4\n",
            "\n"
          ]
        },
        {
          "output_type": "stream",
          "name": "stderr",
          "text": []
        },
        {
          "output_type": "stream",
          "name": "stdout",
          "text": [
            "Moviepy - Done !\n",
            "Moviepy - video ready ./Volleyball/Volleyball_rP2_4P0gMXk_subclip.mp4\n",
            "Moviepy - Building video ./Volleyball/Volleyball_I-upLCpFddU_subclip.mp4.\n",
            "MoviePy - Writing audio in Volleyball_I-upLCpFddU_subclipTEMP_MPY_wvf_snd.mp3\n"
          ]
        },
        {
          "output_type": "stream",
          "name": "stderr",
          "text": []
        },
        {
          "output_type": "stream",
          "name": "stdout",
          "text": [
            "MoviePy - Done.\n",
            "Moviepy - Writing video ./Volleyball/Volleyball_I-upLCpFddU_subclip.mp4\n",
            "\n"
          ]
        },
        {
          "output_type": "stream",
          "name": "stderr",
          "text": []
        },
        {
          "output_type": "stream",
          "name": "stdout",
          "text": [
            "Moviepy - Done !\n",
            "Moviepy - video ready ./Volleyball/Volleyball_I-upLCpFddU_subclip.mp4\n",
            "Moviepy - Building video ./Volleyball/Volleyball_I-upLCpFddU_subclip.mp4.\n",
            "MoviePy - Writing audio in Volleyball_I-upLCpFddU_subclipTEMP_MPY_wvf_snd.mp3\n"
          ]
        },
        {
          "output_type": "stream",
          "name": "stderr",
          "text": []
        },
        {
          "output_type": "stream",
          "name": "stdout",
          "text": [
            "MoviePy - Done.\n",
            "Moviepy - Writing video ./Volleyball/Volleyball_I-upLCpFddU_subclip.mp4\n",
            "\n"
          ]
        },
        {
          "output_type": "stream",
          "name": "stderr",
          "text": []
        },
        {
          "output_type": "stream",
          "name": "stdout",
          "text": [
            "Moviepy - Done !\n",
            "Moviepy - video ready ./Volleyball/Volleyball_I-upLCpFddU_subclip.mp4\n",
            "Moviepy - Building video ./Volleyball/Volleyball_I-upLCpFddU_subclip.mp4.\n",
            "MoviePy - Writing audio in Volleyball_I-upLCpFddU_subclipTEMP_MPY_wvf_snd.mp3\n"
          ]
        },
        {
          "output_type": "stream",
          "name": "stderr",
          "text": []
        },
        {
          "output_type": "stream",
          "name": "stdout",
          "text": [
            "MoviePy - Done.\n",
            "Moviepy - Writing video ./Volleyball/Volleyball_I-upLCpFddU_subclip.mp4\n",
            "\n"
          ]
        },
        {
          "output_type": "stream",
          "name": "stderr",
          "text": []
        },
        {
          "output_type": "stream",
          "name": "stdout",
          "text": [
            "Moviepy - Done !\n",
            "Moviepy - video ready ./Volleyball/Volleyball_I-upLCpFddU_subclip.mp4\n",
            "Moviepy - Building video ./Volleyball/Volleyball_I-upLCpFddU_subclip.mp4.\n",
            "MoviePy - Writing audio in Volleyball_I-upLCpFddU_subclipTEMP_MPY_wvf_snd.mp3\n"
          ]
        },
        {
          "output_type": "stream",
          "name": "stderr",
          "text": []
        },
        {
          "output_type": "stream",
          "name": "stdout",
          "text": [
            "MoviePy - Done.\n",
            "Moviepy - Writing video ./Volleyball/Volleyball_I-upLCpFddU_subclip.mp4\n",
            "\n"
          ]
        },
        {
          "output_type": "stream",
          "name": "stderr",
          "text": []
        },
        {
          "output_type": "stream",
          "name": "stdout",
          "text": [
            "Moviepy - Done !\n",
            "Moviepy - video ready ./Volleyball/Volleyball_I-upLCpFddU_subclip.mp4\n",
            "Moviepy - Building video ./Volleyball/Volleyball_KW7SqH_kXyw_subclip.mp4.\n",
            "MoviePy - Writing audio in Volleyball_KW7SqH_kXyw_subclipTEMP_MPY_wvf_snd.mp3\n"
          ]
        },
        {
          "output_type": "stream",
          "name": "stderr",
          "text": []
        },
        {
          "output_type": "stream",
          "name": "stdout",
          "text": [
            "MoviePy - Done.\n",
            "Moviepy - Writing video ./Volleyball/Volleyball_KW7SqH_kXyw_subclip.mp4\n",
            "\n"
          ]
        },
        {
          "output_type": "stream",
          "name": "stderr",
          "text": []
        },
        {
          "output_type": "stream",
          "name": "stdout",
          "text": [
            "Moviepy - Done !\n",
            "Moviepy - video ready ./Volleyball/Volleyball_KW7SqH_kXyw_subclip.mp4\n",
            "Moviepy - Building video ./Volleyball/Volleyball_KW7SqH_kXyw_subclip.mp4.\n",
            "MoviePy - Writing audio in Volleyball_KW7SqH_kXyw_subclipTEMP_MPY_wvf_snd.mp3\n"
          ]
        },
        {
          "output_type": "stream",
          "name": "stderr",
          "text": []
        },
        {
          "output_type": "stream",
          "name": "stdout",
          "text": [
            "MoviePy - Done.\n",
            "Moviepy - Writing video ./Volleyball/Volleyball_KW7SqH_kXyw_subclip.mp4\n",
            "\n"
          ]
        },
        {
          "output_type": "stream",
          "name": "stderr",
          "text": []
        },
        {
          "output_type": "stream",
          "name": "stdout",
          "text": [
            "Moviepy - Done !\n",
            "Moviepy - video ready ./Volleyball/Volleyball_KW7SqH_kXyw_subclip.mp4\n",
            "Moviepy - Building video ./Volleyball/Volleyball_KW7SqH_kXyw_subclip.mp4.\n",
            "MoviePy - Writing audio in Volleyball_KW7SqH_kXyw_subclipTEMP_MPY_wvf_snd.mp3\n"
          ]
        },
        {
          "output_type": "stream",
          "name": "stderr",
          "text": [
            "                                                                 "
          ]
        },
        {
          "output_type": "stream",
          "name": "stdout",
          "text": [
            "MoviePy - Done.\n",
            "Moviepy - Writing video ./Volleyball/Volleyball_KW7SqH_kXyw_subclip.mp4\n",
            "\n"
          ]
        },
        {
          "output_type": "stream",
          "name": "stderr",
          "text": []
        },
        {
          "output_type": "stream",
          "name": "stdout",
          "text": [
            "Moviepy - Done !\n",
            "Moviepy - video ready ./Volleyball/Volleyball_KW7SqH_kXyw_subclip.mp4\n",
            "Moviepy - Building video ./Volleyball/Volleyball_KW7SqH_kXyw_subclip.mp4.\n",
            "MoviePy - Writing audio in Volleyball_KW7SqH_kXyw_subclipTEMP_MPY_wvf_snd.mp3\n"
          ]
        },
        {
          "output_type": "stream",
          "name": "stderr",
          "text": []
        },
        {
          "output_type": "stream",
          "name": "stdout",
          "text": [
            "MoviePy - Done.\n",
            "Moviepy - Writing video ./Volleyball/Volleyball_KW7SqH_kXyw_subclip.mp4\n",
            "\n"
          ]
        },
        {
          "output_type": "stream",
          "name": "stderr",
          "text": []
        },
        {
          "output_type": "stream",
          "name": "stdout",
          "text": [
            "Moviepy - Done !\n",
            "Moviepy - video ready ./Volleyball/Volleyball_KW7SqH_kXyw_subclip.mp4\n",
            "Moviepy - Building video ./Volleyball/Volleyball_hRcQ_O1ejK8_subclip.mp4.\n",
            "MoviePy - Writing audio in Volleyball_hRcQ_O1ejK8_subclipTEMP_MPY_wvf_snd.mp3\n"
          ]
        },
        {
          "output_type": "stream",
          "name": "stderr",
          "text": []
        },
        {
          "output_type": "stream",
          "name": "stdout",
          "text": [
            "MoviePy - Done.\n",
            "Moviepy - Writing video ./Volleyball/Volleyball_hRcQ_O1ejK8_subclip.mp4\n",
            "\n"
          ]
        },
        {
          "output_type": "stream",
          "name": "stderr",
          "text": []
        },
        {
          "output_type": "stream",
          "name": "stdout",
          "text": [
            "Moviepy - Done !\n",
            "Moviepy - video ready ./Volleyball/Volleyball_hRcQ_O1ejK8_subclip.mp4\n",
            "Moviepy - Building video ./Volleyball/Volleyball_hRcQ_O1ejK8_subclip.mp4.\n",
            "MoviePy - Writing audio in Volleyball_hRcQ_O1ejK8_subclipTEMP_MPY_wvf_snd.mp3\n"
          ]
        },
        {
          "output_type": "stream",
          "name": "stderr",
          "text": []
        },
        {
          "output_type": "stream",
          "name": "stdout",
          "text": [
            "MoviePy - Done.\n",
            "Moviepy - Writing video ./Volleyball/Volleyball_hRcQ_O1ejK8_subclip.mp4\n",
            "\n"
          ]
        },
        {
          "output_type": "stream",
          "name": "stderr",
          "text": []
        },
        {
          "output_type": "stream",
          "name": "stdout",
          "text": [
            "Moviepy - Done !\n",
            "Moviepy - video ready ./Volleyball/Volleyball_hRcQ_O1ejK8_subclip.mp4\n",
            "Moviepy - Building video ./Volleyball/Volleyball_hRcQ_O1ejK8_subclip.mp4.\n",
            "MoviePy - Writing audio in Volleyball_hRcQ_O1ejK8_subclipTEMP_MPY_wvf_snd.mp3\n"
          ]
        },
        {
          "output_type": "stream",
          "name": "stderr",
          "text": []
        },
        {
          "output_type": "stream",
          "name": "stdout",
          "text": [
            "MoviePy - Done.\n",
            "Moviepy - Writing video ./Volleyball/Volleyball_hRcQ_O1ejK8_subclip.mp4\n",
            "\n"
          ]
        },
        {
          "output_type": "stream",
          "name": "stderr",
          "text": []
        },
        {
          "output_type": "stream",
          "name": "stdout",
          "text": [
            "Moviepy - Done !\n",
            "Moviepy - video ready ./Volleyball/Volleyball_hRcQ_O1ejK8_subclip.mp4\n",
            "Moviepy - Building video ./Volleyball/Volleyball_hRcQ_O1ejK8_subclip.mp4.\n",
            "MoviePy - Writing audio in Volleyball_hRcQ_O1ejK8_subclipTEMP_MPY_wvf_snd.mp3\n"
          ]
        },
        {
          "output_type": "stream",
          "name": "stderr",
          "text": []
        },
        {
          "output_type": "stream",
          "name": "stdout",
          "text": [
            "MoviePy - Done.\n",
            "Moviepy - Writing video ./Volleyball/Volleyball_hRcQ_O1ejK8_subclip.mp4\n",
            "\n"
          ]
        },
        {
          "output_type": "stream",
          "name": "stderr",
          "text": []
        },
        {
          "output_type": "stream",
          "name": "stdout",
          "text": [
            "Moviepy - Done !\n",
            "Moviepy - video ready ./Volleyball/Volleyball_hRcQ_O1ejK8_subclip.mp4\n",
            "Moviepy - Building video ./Volleyball/Volleyball_BPWz-HbPk_E_subclip.mp4.\n",
            "MoviePy - Writing audio in Volleyball_BPWz-HbPk_E_subclipTEMP_MPY_wvf_snd.mp3\n"
          ]
        },
        {
          "output_type": "stream",
          "name": "stderr",
          "text": []
        },
        {
          "output_type": "stream",
          "name": "stdout",
          "text": [
            "MoviePy - Done.\n",
            "Moviepy - Writing video ./Volleyball/Volleyball_BPWz-HbPk_E_subclip.mp4\n",
            "\n"
          ]
        },
        {
          "output_type": "stream",
          "name": "stderr",
          "text": []
        },
        {
          "output_type": "stream",
          "name": "stdout",
          "text": [
            "Moviepy - Done !\n",
            "Moviepy - video ready ./Volleyball/Volleyball_BPWz-HbPk_E_subclip.mp4\n",
            "Moviepy - Building video ./Volleyball/Volleyball_BPWz-HbPk_E_subclip.mp4.\n",
            "MoviePy - Writing audio in Volleyball_BPWz-HbPk_E_subclipTEMP_MPY_wvf_snd.mp3\n"
          ]
        },
        {
          "output_type": "stream",
          "name": "stderr",
          "text": []
        },
        {
          "output_type": "stream",
          "name": "stdout",
          "text": [
            "MoviePy - Done.\n",
            "Moviepy - Writing video ./Volleyball/Volleyball_BPWz-HbPk_E_subclip.mp4\n",
            "\n"
          ]
        },
        {
          "output_type": "stream",
          "name": "stderr",
          "text": []
        },
        {
          "output_type": "stream",
          "name": "stdout",
          "text": [
            "Moviepy - Done !\n",
            "Moviepy - video ready ./Volleyball/Volleyball_BPWz-HbPk_E_subclip.mp4\n",
            "Moviepy - Building video ./Volleyball/Volleyball_BPWz-HbPk_E_subclip.mp4.\n",
            "MoviePy - Writing audio in Volleyball_BPWz-HbPk_E_subclipTEMP_MPY_wvf_snd.mp3\n"
          ]
        },
        {
          "output_type": "stream",
          "name": "stderr",
          "text": []
        },
        {
          "output_type": "stream",
          "name": "stdout",
          "text": [
            "MoviePy - Done.\n",
            "Moviepy - Writing video ./Volleyball/Volleyball_BPWz-HbPk_E_subclip.mp4\n",
            "\n"
          ]
        },
        {
          "output_type": "stream",
          "name": "stderr",
          "text": []
        },
        {
          "output_type": "stream",
          "name": "stdout",
          "text": [
            "Moviepy - Done !\n",
            "Moviepy - video ready ./Volleyball/Volleyball_BPWz-HbPk_E_subclip.mp4\n",
            "Moviepy - Building video ./Volleyball/Volleyball_BPWz-HbPk_E_subclip.mp4.\n",
            "MoviePy - Writing audio in Volleyball_BPWz-HbPk_E_subclipTEMP_MPY_wvf_snd.mp3\n"
          ]
        },
        {
          "output_type": "stream",
          "name": "stderr",
          "text": []
        },
        {
          "output_type": "stream",
          "name": "stdout",
          "text": [
            "MoviePy - Done.\n",
            "Moviepy - Writing video ./Volleyball/Volleyball_BPWz-HbPk_E_subclip.mp4\n",
            "\n"
          ]
        },
        {
          "output_type": "stream",
          "name": "stderr",
          "text": []
        },
        {
          "output_type": "stream",
          "name": "stdout",
          "text": [
            "Moviepy - Done !\n",
            "Moviepy - video ready ./Volleyball/Volleyball_BPWz-HbPk_E_subclip.mp4\n",
            "Moviepy - Building video ./Volleyball/Volleyball_3yileRxnzlU_subclip.mp4.\n",
            "MoviePy - Writing audio in Volleyball_3yileRxnzlU_subclipTEMP_MPY_wvf_snd.mp3\n"
          ]
        },
        {
          "output_type": "stream",
          "name": "stderr",
          "text": []
        },
        {
          "output_type": "stream",
          "name": "stdout",
          "text": [
            "MoviePy - Done.\n",
            "Moviepy - Writing video ./Volleyball/Volleyball_3yileRxnzlU_subclip.mp4\n",
            "\n"
          ]
        },
        {
          "output_type": "stream",
          "name": "stderr",
          "text": []
        },
        {
          "output_type": "stream",
          "name": "stdout",
          "text": [
            "Moviepy - Done !\n",
            "Moviepy - video ready ./Volleyball/Volleyball_3yileRxnzlU_subclip.mp4\n",
            "Moviepy - Building video ./Volleyball/Volleyball_3yileRxnzlU_subclip.mp4.\n",
            "MoviePy - Writing audio in Volleyball_3yileRxnzlU_subclipTEMP_MPY_wvf_snd.mp3\n"
          ]
        },
        {
          "output_type": "stream",
          "name": "stderr",
          "text": []
        },
        {
          "output_type": "stream",
          "name": "stdout",
          "text": [
            "MoviePy - Done.\n",
            "Moviepy - Writing video ./Volleyball/Volleyball_3yileRxnzlU_subclip.mp4\n",
            "\n"
          ]
        },
        {
          "output_type": "stream",
          "name": "stderr",
          "text": []
        },
        {
          "output_type": "stream",
          "name": "stdout",
          "text": [
            "Moviepy - Done !\n",
            "Moviepy - video ready ./Volleyball/Volleyball_3yileRxnzlU_subclip.mp4\n",
            "Moviepy - Building video ./Volleyball/Volleyball_3yileRxnzlU_subclip.mp4.\n",
            "MoviePy - Writing audio in Volleyball_3yileRxnzlU_subclipTEMP_MPY_wvf_snd.mp3\n"
          ]
        },
        {
          "output_type": "stream",
          "name": "stderr",
          "text": [
            "                                                                 "
          ]
        },
        {
          "output_type": "stream",
          "name": "stdout",
          "text": [
            "MoviePy - Done.\n",
            "Moviepy - Writing video ./Volleyball/Volleyball_3yileRxnzlU_subclip.mp4\n",
            "\n"
          ]
        },
        {
          "output_type": "stream",
          "name": "stderr",
          "text": []
        },
        {
          "output_type": "stream",
          "name": "stdout",
          "text": [
            "Moviepy - Done !\n",
            "Moviepy - video ready ./Volleyball/Volleyball_3yileRxnzlU_subclip.mp4\n",
            "Moviepy - Building video ./Volleyball/Volleyball_3yileRxnzlU_subclip.mp4.\n",
            "MoviePy - Writing audio in Volleyball_3yileRxnzlU_subclipTEMP_MPY_wvf_snd.mp3\n"
          ]
        },
        {
          "output_type": "stream",
          "name": "stderr",
          "text": []
        },
        {
          "output_type": "stream",
          "name": "stdout",
          "text": [
            "MoviePy - Done.\n",
            "Moviepy - Writing video ./Volleyball/Volleyball_3yileRxnzlU_subclip.mp4\n",
            "\n"
          ]
        },
        {
          "output_type": "stream",
          "name": "stderr",
          "text": [
            "t:  88%|████████▊ | 43/49 [00:00<00:00, 63.55it/s, now=None]WARNING:py.warnings:/usr/local/lib/python3.9/dist-packages/moviepy/video/io/ffmpeg_reader.py:123: UserWarning: Warning: in file ./Volleyball/Volleyball_3yileRxnzlU.mp4, 2764800 bytes wanted but 0 bytes read,at frame 4468/4470, at time 149.08/149.12 sec. Using the last valid frame instead.\n",
            "  warnings.warn(\"Warning: in file %s, \"%(self.filename)+\n",
            "\n"
          ]
        },
        {
          "output_type": "stream",
          "name": "stdout",
          "text": [
            "Moviepy - Done !\n",
            "Moviepy - video ready ./Volleyball/Volleyball_3yileRxnzlU_subclip.mp4\n",
            "Moviepy - Building video ./Volleyball/Volleyball_Ivf_Hmj2YMI_subclip.mp4.\n",
            "MoviePy - Writing audio in Volleyball_Ivf_Hmj2YMI_subclipTEMP_MPY_wvf_snd.mp3\n"
          ]
        },
        {
          "output_type": "stream",
          "name": "stderr",
          "text": []
        },
        {
          "output_type": "stream",
          "name": "stdout",
          "text": [
            "MoviePy - Done.\n",
            "Moviepy - Writing video ./Volleyball/Volleyball_Ivf_Hmj2YMI_subclip.mp4\n",
            "\n"
          ]
        },
        {
          "output_type": "stream",
          "name": "stderr",
          "text": []
        },
        {
          "output_type": "stream",
          "name": "stdout",
          "text": [
            "Moviepy - Done !\n",
            "Moviepy - video ready ./Volleyball/Volleyball_Ivf_Hmj2YMI_subclip.mp4\n",
            "Moviepy - Building video ./Volleyball/Volleyball_Ivf_Hmj2YMI_subclip.mp4.\n",
            "MoviePy - Writing audio in Volleyball_Ivf_Hmj2YMI_subclipTEMP_MPY_wvf_snd.mp3\n"
          ]
        },
        {
          "output_type": "stream",
          "name": "stderr",
          "text": []
        },
        {
          "output_type": "stream",
          "name": "stdout",
          "text": [
            "MoviePy - Done.\n",
            "Moviepy - Writing video ./Volleyball/Volleyball_Ivf_Hmj2YMI_subclip.mp4\n",
            "\n"
          ]
        },
        {
          "output_type": "stream",
          "name": "stderr",
          "text": []
        },
        {
          "output_type": "stream",
          "name": "stdout",
          "text": [
            "Moviepy - Done !\n",
            "Moviepy - video ready ./Volleyball/Volleyball_Ivf_Hmj2YMI_subclip.mp4\n",
            "Moviepy - Building video ./Volleyball/Volleyball_Ivf_Hmj2YMI_subclip.mp4.\n",
            "MoviePy - Writing audio in Volleyball_Ivf_Hmj2YMI_subclipTEMP_MPY_wvf_snd.mp3\n"
          ]
        },
        {
          "output_type": "stream",
          "name": "stderr",
          "text": []
        },
        {
          "output_type": "stream",
          "name": "stdout",
          "text": [
            "MoviePy - Done.\n",
            "Moviepy - Writing video ./Volleyball/Volleyball_Ivf_Hmj2YMI_subclip.mp4\n",
            "\n"
          ]
        },
        {
          "output_type": "stream",
          "name": "stderr",
          "text": []
        },
        {
          "output_type": "stream",
          "name": "stdout",
          "text": [
            "Moviepy - Done !\n",
            "Moviepy - video ready ./Volleyball/Volleyball_Ivf_Hmj2YMI_subclip.mp4\n",
            "Moviepy - Building video ./Volleyball/Volleyball_Ivf_Hmj2YMI_subclip.mp4.\n",
            "MoviePy - Writing audio in Volleyball_Ivf_Hmj2YMI_subclipTEMP_MPY_wvf_snd.mp3\n"
          ]
        },
        {
          "output_type": "stream",
          "name": "stderr",
          "text": []
        },
        {
          "output_type": "stream",
          "name": "stdout",
          "text": [
            "MoviePy - Done.\n",
            "Moviepy - Writing video ./Volleyball/Volleyball_Ivf_Hmj2YMI_subclip.mp4\n",
            "\n"
          ]
        },
        {
          "output_type": "stream",
          "name": "stderr",
          "text": []
        },
        {
          "output_type": "stream",
          "name": "stdout",
          "text": [
            "Moviepy - Done !\n",
            "Moviepy - video ready ./Volleyball/Volleyball_Ivf_Hmj2YMI_subclip.mp4\n",
            "Moviepy - Building video ./Volleyball/Volleyball_1Y7OOhgrOzE_subclip.mp4.\n",
            "MoviePy - Writing audio in Volleyball_1Y7OOhgrOzE_subclipTEMP_MPY_wvf_snd.mp3\n"
          ]
        },
        {
          "output_type": "stream",
          "name": "stderr",
          "text": []
        },
        {
          "output_type": "stream",
          "name": "stdout",
          "text": [
            "MoviePy - Done.\n",
            "Moviepy - Writing video ./Volleyball/Volleyball_1Y7OOhgrOzE_subclip.mp4\n",
            "\n"
          ]
        },
        {
          "output_type": "stream",
          "name": "stderr",
          "text": []
        },
        {
          "output_type": "stream",
          "name": "stdout",
          "text": [
            "Moviepy - Done !\n",
            "Moviepy - video ready ./Volleyball/Volleyball_1Y7OOhgrOzE_subclip.mp4\n",
            "Moviepy - Building video ./Volleyball/Volleyball_1Y7OOhgrOzE_subclip.mp4.\n",
            "MoviePy - Writing audio in Volleyball_1Y7OOhgrOzE_subclipTEMP_MPY_wvf_snd.mp3\n"
          ]
        },
        {
          "output_type": "stream",
          "name": "stderr",
          "text": []
        },
        {
          "output_type": "stream",
          "name": "stdout",
          "text": [
            "MoviePy - Done.\n",
            "Moviepy - Writing video ./Volleyball/Volleyball_1Y7OOhgrOzE_subclip.mp4\n",
            "\n"
          ]
        },
        {
          "output_type": "stream",
          "name": "stderr",
          "text": []
        },
        {
          "output_type": "stream",
          "name": "stdout",
          "text": [
            "Moviepy - Done !\n",
            "Moviepy - video ready ./Volleyball/Volleyball_1Y7OOhgrOzE_subclip.mp4\n",
            "Moviepy - Building video ./Volleyball/Volleyball_1Y7OOhgrOzE_subclip.mp4.\n",
            "MoviePy - Writing audio in Volleyball_1Y7OOhgrOzE_subclipTEMP_MPY_wvf_snd.mp3\n"
          ]
        },
        {
          "output_type": "stream",
          "name": "stderr",
          "text": []
        },
        {
          "output_type": "stream",
          "name": "stdout",
          "text": [
            "MoviePy - Done.\n",
            "Moviepy - Writing video ./Volleyball/Volleyball_1Y7OOhgrOzE_subclip.mp4\n",
            "\n"
          ]
        },
        {
          "output_type": "stream",
          "name": "stderr",
          "text": []
        },
        {
          "output_type": "stream",
          "name": "stdout",
          "text": [
            "Moviepy - Done !\n",
            "Moviepy - video ready ./Volleyball/Volleyball_1Y7OOhgrOzE_subclip.mp4\n",
            "Moviepy - Building video ./Volleyball/Volleyball_1Y7OOhgrOzE_subclip.mp4.\n",
            "MoviePy - Writing audio in Volleyball_1Y7OOhgrOzE_subclipTEMP_MPY_wvf_snd.mp3\n"
          ]
        },
        {
          "output_type": "stream",
          "name": "stderr",
          "text": []
        },
        {
          "output_type": "stream",
          "name": "stdout",
          "text": [
            "MoviePy - Done.\n",
            "Moviepy - Writing video ./Volleyball/Volleyball_1Y7OOhgrOzE_subclip.mp4\n",
            "\n"
          ]
        },
        {
          "output_type": "stream",
          "name": "stderr",
          "text": []
        },
        {
          "output_type": "stream",
          "name": "stdout",
          "text": [
            "Moviepy - Done !\n",
            "Moviepy - video ready ./Volleyball/Volleyball_1Y7OOhgrOzE_subclip.mp4\n",
            "Moviepy - Building video ./Volleyball/Volleyball_A3vvN1FAaw4_subclip.mp4.\n",
            "MoviePy - Writing audio in Volleyball_A3vvN1FAaw4_subclipTEMP_MPY_wvf_snd.mp3\n"
          ]
        },
        {
          "output_type": "stream",
          "name": "stderr",
          "text": []
        },
        {
          "output_type": "stream",
          "name": "stdout",
          "text": [
            "MoviePy - Done.\n",
            "Moviepy - Writing video ./Volleyball/Volleyball_A3vvN1FAaw4_subclip.mp4\n",
            "\n"
          ]
        },
        {
          "output_type": "stream",
          "name": "stderr",
          "text": []
        },
        {
          "output_type": "stream",
          "name": "stdout",
          "text": [
            "Moviepy - Done !\n",
            "Moviepy - video ready ./Volleyball/Volleyball_A3vvN1FAaw4_subclip.mp4\n",
            "Moviepy - Building video ./Volleyball/Volleyball_A3vvN1FAaw4_subclip.mp4.\n",
            "MoviePy - Writing audio in Volleyball_A3vvN1FAaw4_subclipTEMP_MPY_wvf_snd.mp3\n"
          ]
        },
        {
          "output_type": "stream",
          "name": "stderr",
          "text": []
        },
        {
          "output_type": "stream",
          "name": "stdout",
          "text": [
            "MoviePy - Done.\n",
            "Moviepy - Writing video ./Volleyball/Volleyball_A3vvN1FAaw4_subclip.mp4\n",
            "\n"
          ]
        },
        {
          "output_type": "stream",
          "name": "stderr",
          "text": []
        },
        {
          "output_type": "stream",
          "name": "stdout",
          "text": [
            "Moviepy - Done !\n",
            "Moviepy - video ready ./Volleyball/Volleyball_A3vvN1FAaw4_subclip.mp4\n",
            "Moviepy - Building video ./Walking the dog/Walking the dog_JlfWbxZZ7sE_subclip.mp4.\n",
            "MoviePy - Writing audio in Walking the dog_JlfWbxZZ7sE_subclipTEMP_MPY_wvf_snd.mp3\n"
          ]
        },
        {
          "output_type": "stream",
          "name": "stderr",
          "text": []
        },
        {
          "output_type": "stream",
          "name": "stdout",
          "text": [
            "MoviePy - Done.\n",
            "Moviepy - Writing video ./Walking the dog/Walking the dog_JlfWbxZZ7sE_subclip.mp4\n",
            "\n"
          ]
        },
        {
          "output_type": "stream",
          "name": "stderr",
          "text": []
        },
        {
          "output_type": "stream",
          "name": "stdout",
          "text": [
            "Moviepy - Done !\n",
            "Moviepy - video ready ./Walking the dog/Walking the dog_JlfWbxZZ7sE_subclip.mp4\n",
            "Moviepy - Building video ./Walking the dog/Walking the dog_JlfWbxZZ7sE_subclip.mp4.\n",
            "MoviePy - Writing audio in Walking the dog_JlfWbxZZ7sE_subclipTEMP_MPY_wvf_snd.mp3\n"
          ]
        },
        {
          "output_type": "stream",
          "name": "stderr",
          "text": []
        },
        {
          "output_type": "stream",
          "name": "stdout",
          "text": [
            "MoviePy - Done.\n",
            "Moviepy - Writing video ./Walking the dog/Walking the dog_JlfWbxZZ7sE_subclip.mp4\n",
            "\n"
          ]
        },
        {
          "output_type": "stream",
          "name": "stderr",
          "text": []
        },
        {
          "output_type": "stream",
          "name": "stdout",
          "text": [
            "Moviepy - Done !\n",
            "Moviepy - video ready ./Walking the dog/Walking the dog_JlfWbxZZ7sE_subclip.mp4\n",
            "Moviepy - Building video ./Walking the dog/Walking the dog_0JcheZPfzRk_subclip.mp4.\n",
            "MoviePy - Writing audio in Walking the dog_0JcheZPfzRk_subclipTEMP_MPY_wvf_snd.mp3\n"
          ]
        },
        {
          "output_type": "stream",
          "name": "stderr",
          "text": []
        },
        {
          "output_type": "stream",
          "name": "stdout",
          "text": [
            "MoviePy - Done.\n",
            "Moviepy - Writing video ./Walking the dog/Walking the dog_0JcheZPfzRk_subclip.mp4\n",
            "\n"
          ]
        },
        {
          "output_type": "stream",
          "name": "stderr",
          "text": [
            "t:  59%|█████▉    | 29/49 [00:00<00:00, 289.03it/s, now=None]WARNING:py.warnings:/usr/local/lib/python3.9/dist-packages/moviepy/video/io/ffmpeg_reader.py:123: UserWarning: Warning: in file ./Walking the dog/Walking the dog_0JcheZPfzRk.mp4, 583200 bytes wanted but 0 bytes read,at frame 872/873, at time 29.10/29.12 sec. Using the last valid frame instead.\n",
            "  warnings.warn(\"Warning: in file %s, \"%(self.filename)+\n",
            "\n"
          ]
        },
        {
          "output_type": "stream",
          "name": "stdout",
          "text": [
            "Moviepy - Done !\n",
            "Moviepy - video ready ./Walking the dog/Walking the dog_0JcheZPfzRk_subclip.mp4\n",
            "Moviepy - Building video ./Walking the dog/Walking the dog_0JcheZPfzRk_subclip.mp4.\n",
            "MoviePy - Writing audio in Walking the dog_0JcheZPfzRk_subclipTEMP_MPY_wvf_snd.mp3\n"
          ]
        },
        {
          "output_type": "stream",
          "name": "stderr",
          "text": []
        },
        {
          "output_type": "stream",
          "name": "stdout",
          "text": [
            "MoviePy - Done.\n",
            "Moviepy - Writing video ./Walking the dog/Walking the dog_0JcheZPfzRk_subclip.mp4\n",
            "\n"
          ]
        },
        {
          "output_type": "stream",
          "name": "stderr",
          "text": []
        },
        {
          "output_type": "stream",
          "name": "stdout",
          "text": [
            "Moviepy - Done !\n",
            "Moviepy - video ready ./Walking the dog/Walking the dog_0JcheZPfzRk_subclip.mp4\n",
            "Video PSmJzHWMqy0 has no streaming data. Skipping...\n",
            "Video PSmJzHWMqy0 has no streaming data. Skipping...\n",
            "Moviepy - Building video ./Walking the dog/Walking the dog_DOHpzyuyXw8_subclip.mp4.\n",
            "MoviePy - Writing audio in Walking the dog_DOHpzyuyXw8_subclipTEMP_MPY_wvf_snd.mp3\n"
          ]
        },
        {
          "output_type": "stream",
          "name": "stderr",
          "text": []
        },
        {
          "output_type": "stream",
          "name": "stdout",
          "text": [
            "MoviePy - Done.\n",
            "Moviepy - Writing video ./Walking the dog/Walking the dog_DOHpzyuyXw8_subclip.mp4\n",
            "\n"
          ]
        },
        {
          "output_type": "stream",
          "name": "stderr",
          "text": []
        },
        {
          "output_type": "stream",
          "name": "stdout",
          "text": [
            "Moviepy - Done !\n",
            "Moviepy - video ready ./Walking the dog/Walking the dog_DOHpzyuyXw8_subclip.mp4\n",
            "Moviepy - Building video ./Walking the dog/Walking the dog_DOHpzyuyXw8_subclip.mp4.\n",
            "MoviePy - Writing audio in Walking the dog_DOHpzyuyXw8_subclipTEMP_MPY_wvf_snd.mp3\n"
          ]
        },
        {
          "output_type": "stream",
          "name": "stderr",
          "text": []
        },
        {
          "output_type": "stream",
          "name": "stdout",
          "text": [
            "MoviePy - Done.\n",
            "Moviepy - Writing video ./Walking the dog/Walking the dog_DOHpzyuyXw8_subclip.mp4\n",
            "\n"
          ]
        },
        {
          "output_type": "stream",
          "name": "stderr",
          "text": []
        },
        {
          "output_type": "stream",
          "name": "stdout",
          "text": [
            "Moviepy - Done !\n",
            "Moviepy - video ready ./Walking the dog/Walking the dog_DOHpzyuyXw8_subclip.mp4\n",
            "Moviepy - Building video ./Walking the dog/Walking the dog_bnxdx3g246o_subclip.mp4.\n",
            "MoviePy - Writing audio in Walking the dog_bnxdx3g246o_subclipTEMP_MPY_wvf_snd.mp3\n"
          ]
        },
        {
          "output_type": "stream",
          "name": "stderr",
          "text": []
        },
        {
          "output_type": "stream",
          "name": "stdout",
          "text": [
            "MoviePy - Done.\n",
            "Moviepy - Writing video ./Walking the dog/Walking the dog_bnxdx3g246o_subclip.mp4\n",
            "\n"
          ]
        },
        {
          "output_type": "stream",
          "name": "stderr",
          "text": []
        },
        {
          "output_type": "stream",
          "name": "stdout",
          "text": [
            "Moviepy - Done !\n",
            "Moviepy - video ready ./Walking the dog/Walking the dog_bnxdx3g246o_subclip.mp4\n",
            "Moviepy - Building video ./Walking the dog/Walking the dog_bnxdx3g246o_subclip.mp4.\n",
            "MoviePy - Writing audio in Walking the dog_bnxdx3g246o_subclipTEMP_MPY_wvf_snd.mp3\n"
          ]
        },
        {
          "output_type": "stream",
          "name": "stderr",
          "text": []
        },
        {
          "output_type": "stream",
          "name": "stdout",
          "text": [
            "MoviePy - Done.\n",
            "Moviepy - Writing video ./Walking the dog/Walking the dog_bnxdx3g246o_subclip.mp4\n",
            "\n"
          ]
        },
        {
          "output_type": "stream",
          "name": "stderr",
          "text": []
        },
        {
          "output_type": "stream",
          "name": "stdout",
          "text": [
            "Moviepy - Done !\n",
            "Moviepy - video ready ./Walking the dog/Walking the dog_bnxdx3g246o_subclip.mp4\n",
            "Moviepy - Building video ./Walking the dog/Walking the dog_hmUxf21iLsQ_subclip.mp4.\n",
            "MoviePy - Writing audio in Walking the dog_hmUxf21iLsQ_subclipTEMP_MPY_wvf_snd.mp3\n"
          ]
        },
        {
          "output_type": "stream",
          "name": "stderr",
          "text": []
        },
        {
          "output_type": "stream",
          "name": "stdout",
          "text": [
            "MoviePy - Done.\n",
            "Moviepy - Writing video ./Walking the dog/Walking the dog_hmUxf21iLsQ_subclip.mp4\n",
            "\n"
          ]
        },
        {
          "output_type": "stream",
          "name": "stderr",
          "text": []
        },
        {
          "output_type": "stream",
          "name": "stdout",
          "text": [
            "Moviepy - Done !\n",
            "Moviepy - video ready ./Walking the dog/Walking the dog_hmUxf21iLsQ_subclip.mp4\n",
            "Moviepy - Building video ./Walking the dog/Walking the dog_hmUxf21iLsQ_subclip.mp4.\n",
            "MoviePy - Writing audio in Walking the dog_hmUxf21iLsQ_subclipTEMP_MPY_wvf_snd.mp3\n"
          ]
        },
        {
          "output_type": "stream",
          "name": "stderr",
          "text": []
        },
        {
          "output_type": "stream",
          "name": "stdout",
          "text": [
            "MoviePy - Done.\n",
            "Moviepy - Writing video ./Walking the dog/Walking the dog_hmUxf21iLsQ_subclip.mp4\n",
            "\n"
          ]
        },
        {
          "output_type": "stream",
          "name": "stderr",
          "text": []
        },
        {
          "output_type": "stream",
          "name": "stdout",
          "text": [
            "Moviepy - Done !\n",
            "Moviepy - video ready ./Walking the dog/Walking the dog_hmUxf21iLsQ_subclip.mp4\n",
            "Moviepy - Building video ./Walking the dog/Walking the dog_ru3pSJYj1DQ_subclip.mp4.\n",
            "MoviePy - Writing audio in Walking the dog_ru3pSJYj1DQ_subclipTEMP_MPY_wvf_snd.mp3\n"
          ]
        },
        {
          "output_type": "stream",
          "name": "stderr",
          "text": []
        },
        {
          "output_type": "stream",
          "name": "stdout",
          "text": [
            "MoviePy - Done.\n",
            "Moviepy - Writing video ./Walking the dog/Walking the dog_ru3pSJYj1DQ_subclip.mp4\n",
            "\n"
          ]
        },
        {
          "output_type": "stream",
          "name": "stderr",
          "text": []
        },
        {
          "output_type": "stream",
          "name": "stdout",
          "text": [
            "Moviepy - Done !\n",
            "Moviepy - video ready ./Walking the dog/Walking the dog_ru3pSJYj1DQ_subclip.mp4\n",
            "Moviepy - Building video ./Walking the dog/Walking the dog_ru3pSJYj1DQ_subclip.mp4.\n",
            "MoviePy - Writing audio in Walking the dog_ru3pSJYj1DQ_subclipTEMP_MPY_wvf_snd.mp3\n"
          ]
        },
        {
          "output_type": "stream",
          "name": "stderr",
          "text": []
        },
        {
          "output_type": "stream",
          "name": "stdout",
          "text": [
            "MoviePy - Done.\n",
            "Moviepy - Writing video ./Walking the dog/Walking the dog_ru3pSJYj1DQ_subclip.mp4\n",
            "\n"
          ]
        },
        {
          "output_type": "stream",
          "name": "stderr",
          "text": []
        },
        {
          "output_type": "stream",
          "name": "stdout",
          "text": [
            "Moviepy - Done !\n",
            "Moviepy - video ready ./Walking the dog/Walking the dog_ru3pSJYj1DQ_subclip.mp4\n",
            "Moviepy - Building video ./Walking the dog/Walking the dog_C_qoeWCDkgE_subclip.mp4.\n",
            "MoviePy - Writing audio in Walking the dog_C_qoeWCDkgE_subclipTEMP_MPY_wvf_snd.mp3\n"
          ]
        },
        {
          "output_type": "stream",
          "name": "stderr",
          "text": []
        },
        {
          "output_type": "stream",
          "name": "stdout",
          "text": [
            "MoviePy - Done.\n",
            "Moviepy - Writing video ./Walking the dog/Walking the dog_C_qoeWCDkgE_subclip.mp4\n",
            "\n"
          ]
        },
        {
          "output_type": "stream",
          "name": "stderr",
          "text": []
        },
        {
          "output_type": "stream",
          "name": "stdout",
          "text": [
            "Moviepy - Done !\n",
            "Moviepy - video ready ./Walking the dog/Walking the dog_C_qoeWCDkgE_subclip.mp4\n",
            "Moviepy - Building video ./Walking the dog/Walking the dog_C_qoeWCDkgE_subclip.mp4.\n",
            "MoviePy - Writing audio in Walking the dog_C_qoeWCDkgE_subclipTEMP_MPY_wvf_snd.mp3\n"
          ]
        },
        {
          "output_type": "stream",
          "name": "stderr",
          "text": []
        },
        {
          "output_type": "stream",
          "name": "stdout",
          "text": [
            "MoviePy - Done.\n",
            "Moviepy - Writing video ./Walking the dog/Walking the dog_C_qoeWCDkgE_subclip.mp4\n",
            "\n"
          ]
        },
        {
          "output_type": "stream",
          "name": "stderr",
          "text": [
            "t: 100%|██████████| 18/18 [00:00<00:00, 84.82it/s, now=None]WARNING:py.warnings:/usr/local/lib/python3.9/dist-packages/moviepy/video/io/ffmpeg_reader.py:123: UserWarning: Warning: in file ./Walking the dog/Walking the dog_C_qoeWCDkgE.mp4, 2764800 bytes wanted but 0 bytes read,at frame 1179/1181, at time 49.17/49.23 sec. Using the last valid frame instead.\n",
            "  warnings.warn(\"Warning: in file %s, \"%(self.filename)+\n",
            "\n"
          ]
        },
        {
          "output_type": "stream",
          "name": "stdout",
          "text": [
            "Moviepy - Done !\n",
            "Moviepy - video ready ./Walking the dog/Walking the dog_C_qoeWCDkgE_subclip.mp4\n",
            "Moviepy - Building video ./Walking the dog/Walking the dog_0euyEaXM1bY_subclip.mp4.\n",
            "MoviePy - Writing audio in Walking the dog_0euyEaXM1bY_subclipTEMP_MPY_wvf_snd.mp3\n"
          ]
        },
        {
          "output_type": "stream",
          "name": "stderr",
          "text": []
        },
        {
          "output_type": "stream",
          "name": "stdout",
          "text": [
            "MoviePy - Done.\n",
            "Moviepy - Writing video ./Walking the dog/Walking the dog_0euyEaXM1bY_subclip.mp4\n",
            "\n"
          ]
        },
        {
          "output_type": "stream",
          "name": "stderr",
          "text": []
        },
        {
          "output_type": "stream",
          "name": "stdout",
          "text": [
            "Moviepy - Done !\n",
            "Moviepy - video ready ./Walking the dog/Walking the dog_0euyEaXM1bY_subclip.mp4\n",
            "Moviepy - Building video ./Walking the dog/Walking the dog_0euyEaXM1bY_subclip.mp4.\n",
            "MoviePy - Writing audio in Walking the dog_0euyEaXM1bY_subclipTEMP_MPY_wvf_snd.mp3\n"
          ]
        },
        {
          "output_type": "stream",
          "name": "stderr",
          "text": []
        },
        {
          "output_type": "stream",
          "name": "stdout",
          "text": [
            "MoviePy - Done.\n",
            "Moviepy - Writing video ./Walking the dog/Walking the dog_0euyEaXM1bY_subclip.mp4\n",
            "\n"
          ]
        },
        {
          "output_type": "stream",
          "name": "stderr",
          "text": []
        },
        {
          "output_type": "stream",
          "name": "stdout",
          "text": [
            "Moviepy - Done !\n",
            "Moviepy - video ready ./Walking the dog/Walking the dog_0euyEaXM1bY_subclip.mp4\n",
            "Moviepy - Building video ./Walking the dog/Walking the dog_KuDeRxCGgyA_subclip.mp4.\n",
            "MoviePy - Writing audio in Walking the dog_KuDeRxCGgyA_subclipTEMP_MPY_wvf_snd.mp3\n"
          ]
        },
        {
          "output_type": "stream",
          "name": "stderr",
          "text": []
        },
        {
          "output_type": "stream",
          "name": "stdout",
          "text": [
            "MoviePy - Done.\n",
            "Moviepy - Writing video ./Walking the dog/Walking the dog_KuDeRxCGgyA_subclip.mp4\n",
            "\n"
          ]
        },
        {
          "output_type": "stream",
          "name": "stderr",
          "text": []
        },
        {
          "output_type": "stream",
          "name": "stdout",
          "text": [
            "Moviepy - Done !\n",
            "Moviepy - video ready ./Walking the dog/Walking the dog_KuDeRxCGgyA_subclip.mp4\n",
            "Moviepy - Building video ./Walking the dog/Walking the dog_KuDeRxCGgyA_subclip.mp4.\n",
            "MoviePy - Writing audio in Walking the dog_KuDeRxCGgyA_subclipTEMP_MPY_wvf_snd.mp3\n"
          ]
        },
        {
          "output_type": "stream",
          "name": "stderr",
          "text": []
        },
        {
          "output_type": "stream",
          "name": "stdout",
          "text": [
            "MoviePy - Done.\n",
            "Moviepy - Writing video ./Walking the dog/Walking the dog_KuDeRxCGgyA_subclip.mp4\n",
            "\n"
          ]
        },
        {
          "output_type": "stream",
          "name": "stderr",
          "text": []
        },
        {
          "output_type": "stream",
          "name": "stdout",
          "text": [
            "Moviepy - Done !\n",
            "Moviepy - video ready ./Walking the dog/Walking the dog_KuDeRxCGgyA_subclip.mp4\n",
            "Moviepy - Building video ./Walking the dog/Walking the dog_ut2l2_ZGacM_subclip.mp4.\n",
            "MoviePy - Writing audio in Walking the dog_ut2l2_ZGacM_subclipTEMP_MPY_wvf_snd.mp3\n"
          ]
        },
        {
          "output_type": "stream",
          "name": "stderr",
          "text": []
        },
        {
          "output_type": "stream",
          "name": "stdout",
          "text": [
            "MoviePy - Done.\n",
            "Moviepy - Writing video ./Walking the dog/Walking the dog_ut2l2_ZGacM_subclip.mp4\n",
            "\n"
          ]
        },
        {
          "output_type": "stream",
          "name": "stderr",
          "text": []
        },
        {
          "output_type": "stream",
          "name": "stdout",
          "text": [
            "Moviepy - Done !\n",
            "Moviepy - video ready ./Walking the dog/Walking the dog_ut2l2_ZGacM_subclip.mp4\n",
            "Moviepy - Building video ./Walking the dog/Walking the dog_ut2l2_ZGacM_subclip.mp4.\n",
            "MoviePy - Writing audio in Walking the dog_ut2l2_ZGacM_subclipTEMP_MPY_wvf_snd.mp3\n"
          ]
        },
        {
          "output_type": "stream",
          "name": "stderr",
          "text": []
        },
        {
          "output_type": "stream",
          "name": "stdout",
          "text": [
            "MoviePy - Done.\n",
            "Moviepy - Writing video ./Walking the dog/Walking the dog_ut2l2_ZGacM_subclip.mp4\n",
            "\n"
          ]
        },
        {
          "output_type": "stream",
          "name": "stderr",
          "text": []
        },
        {
          "output_type": "stream",
          "name": "stdout",
          "text": [
            "Moviepy - Done !\n",
            "Moviepy - video ready ./Walking the dog/Walking the dog_ut2l2_ZGacM_subclip.mp4\n",
            "Video bjazhu78LnE is unavailable. Skipping...\n",
            "Video bjazhu78LnE is unavailable. Skipping...\n",
            "Moviepy - Building video ./Walking the dog/Walking the dog_MY-usBFPW-M_subclip.mp4.\n",
            "MoviePy - Writing audio in Walking the dog_MY-usBFPW-M_subclipTEMP_MPY_wvf_snd.mp3\n"
          ]
        },
        {
          "output_type": "stream",
          "name": "stderr",
          "text": []
        },
        {
          "output_type": "stream",
          "name": "stdout",
          "text": [
            "MoviePy - Done.\n",
            "Moviepy - Writing video ./Walking the dog/Walking the dog_MY-usBFPW-M_subclip.mp4\n",
            "\n"
          ]
        },
        {
          "output_type": "stream",
          "name": "stderr",
          "text": []
        },
        {
          "output_type": "stream",
          "name": "stdout",
          "text": [
            "Moviepy - Done !\n",
            "Moviepy - video ready ./Walking the dog/Walking the dog_MY-usBFPW-M_subclip.mp4\n",
            "Moviepy - Building video ./Walking the dog/Walking the dog_MY-usBFPW-M_subclip.mp4.\n",
            "MoviePy - Writing audio in Walking the dog_MY-usBFPW-M_subclipTEMP_MPY_wvf_snd.mp3\n"
          ]
        },
        {
          "output_type": "stream",
          "name": "stderr",
          "text": []
        },
        {
          "output_type": "stream",
          "name": "stdout",
          "text": [
            "MoviePy - Done.\n",
            "Moviepy - Writing video ./Walking the dog/Walking the dog_MY-usBFPW-M_subclip.mp4\n",
            "\n"
          ]
        },
        {
          "output_type": "stream",
          "name": "stderr",
          "text": []
        },
        {
          "output_type": "stream",
          "name": "stdout",
          "text": [
            "Moviepy - Done !\n",
            "Moviepy - video ready ./Walking the dog/Walking the dog_MY-usBFPW-M_subclip.mp4\n",
            "Moviepy - Building video ./Walking the dog/Walking the dog_MY-usBFPW-M_subclip.mp4.\n",
            "MoviePy - Writing audio in Walking the dog_MY-usBFPW-M_subclipTEMP_MPY_wvf_snd.mp3\n"
          ]
        },
        {
          "output_type": "stream",
          "name": "stderr",
          "text": []
        },
        {
          "output_type": "stream",
          "name": "stdout",
          "text": [
            "MoviePy - Done.\n",
            "Moviepy - Writing video ./Walking the dog/Walking the dog_MY-usBFPW-M_subclip.mp4\n",
            "\n"
          ]
        },
        {
          "output_type": "stream",
          "name": "stderr",
          "text": []
        },
        {
          "output_type": "stream",
          "name": "stdout",
          "text": [
            "Moviepy - Done !\n",
            "Moviepy - video ready ./Walking the dog/Walking the dog_MY-usBFPW-M_subclip.mp4\n",
            "Moviepy - Building video ./Walking the dog/Walking the dog_GxacyUsx5cQ_subclip.mp4.\n",
            "MoviePy - Writing audio in Walking the dog_GxacyUsx5cQ_subclipTEMP_MPY_wvf_snd.mp3\n"
          ]
        },
        {
          "output_type": "stream",
          "name": "stderr",
          "text": []
        },
        {
          "output_type": "stream",
          "name": "stdout",
          "text": [
            "MoviePy - Done.\n",
            "Moviepy - Writing video ./Walking the dog/Walking the dog_GxacyUsx5cQ_subclip.mp4\n",
            "\n"
          ]
        },
        {
          "output_type": "stream",
          "name": "stderr",
          "text": []
        },
        {
          "output_type": "stream",
          "name": "stdout",
          "text": [
            "Moviepy - Done !\n",
            "Moviepy - video ready ./Walking the dog/Walking the dog_GxacyUsx5cQ_subclip.mp4\n",
            "Moviepy - Building video ./Walking the dog/Walking the dog_GxacyUsx5cQ_subclip.mp4.\n",
            "MoviePy - Writing audio in Walking the dog_GxacyUsx5cQ_subclipTEMP_MPY_wvf_snd.mp3\n"
          ]
        },
        {
          "output_type": "stream",
          "name": "stderr",
          "text": []
        },
        {
          "output_type": "stream",
          "name": "stdout",
          "text": [
            "MoviePy - Done.\n",
            "Moviepy - Writing video ./Walking the dog/Walking the dog_GxacyUsx5cQ_subclip.mp4\n",
            "\n"
          ]
        },
        {
          "output_type": "stream",
          "name": "stderr",
          "text": []
        },
        {
          "output_type": "stream",
          "name": "stdout",
          "text": [
            "Moviepy - Done !\n",
            "Moviepy - video ready ./Walking the dog/Walking the dog_GxacyUsx5cQ_subclip.mp4\n",
            "Moviepy - Building video ./Walking the dog/Walking the dog_GxacyUsx5cQ_subclip.mp4.\n",
            "MoviePy - Writing audio in Walking the dog_GxacyUsx5cQ_subclipTEMP_MPY_wvf_snd.mp3\n"
          ]
        },
        {
          "output_type": "stream",
          "name": "stderr",
          "text": []
        },
        {
          "output_type": "stream",
          "name": "stdout",
          "text": [
            "MoviePy - Done.\n",
            "Moviepy - Writing video ./Walking the dog/Walking the dog_GxacyUsx5cQ_subclip.mp4\n",
            "\n"
          ]
        },
        {
          "output_type": "stream",
          "name": "stderr",
          "text": []
        },
        {
          "output_type": "stream",
          "name": "stdout",
          "text": [
            "Moviepy - Done !\n",
            "Moviepy - video ready ./Walking the dog/Walking the dog_GxacyUsx5cQ_subclip.mp4\n",
            "Moviepy - Building video ./Walking the dog/Walking the dog_J7iF0HsvhZ4_subclip.mp4.\n",
            "MoviePy - Writing audio in Walking the dog_J7iF0HsvhZ4_subclipTEMP_MPY_wvf_snd.mp3\n"
          ]
        },
        {
          "output_type": "stream",
          "name": "stderr",
          "text": []
        },
        {
          "output_type": "stream",
          "name": "stdout",
          "text": [
            "MoviePy - Done.\n",
            "Moviepy - Writing video ./Walking the dog/Walking the dog_J7iF0HsvhZ4_subclip.mp4\n",
            "\n"
          ]
        },
        {
          "output_type": "stream",
          "name": "stderr",
          "text": []
        },
        {
          "output_type": "stream",
          "name": "stdout",
          "text": [
            "Moviepy - Done !\n",
            "Moviepy - video ready ./Walking the dog/Walking the dog_J7iF0HsvhZ4_subclip.mp4\n",
            "Moviepy - Building video ./Walking the dog/Walking the dog_J7iF0HsvhZ4_subclip.mp4.\n",
            "MoviePy - Writing audio in Walking the dog_J7iF0HsvhZ4_subclipTEMP_MPY_wvf_snd.mp3\n"
          ]
        },
        {
          "output_type": "stream",
          "name": "stderr",
          "text": []
        },
        {
          "output_type": "stream",
          "name": "stdout",
          "text": [
            "MoviePy - Done.\n",
            "Moviepy - Writing video ./Walking the dog/Walking the dog_J7iF0HsvhZ4_subclip.mp4\n",
            "\n"
          ]
        },
        {
          "output_type": "stream",
          "name": "stderr",
          "text": []
        },
        {
          "output_type": "stream",
          "name": "stdout",
          "text": [
            "Moviepy - Done !\n",
            "Moviepy - video ready ./Walking the dog/Walking the dog_J7iF0HsvhZ4_subclip.mp4\n",
            "Moviepy - Building video ./Walking the dog/Walking the dog_J7iF0HsvhZ4_subclip.mp4.\n",
            "MoviePy - Writing audio in Walking the dog_J7iF0HsvhZ4_subclipTEMP_MPY_wvf_snd.mp3\n"
          ]
        },
        {
          "output_type": "stream",
          "name": "stderr",
          "text": []
        },
        {
          "output_type": "stream",
          "name": "stdout",
          "text": [
            "MoviePy - Done.\n",
            "Moviepy - Writing video ./Walking the dog/Walking the dog_J7iF0HsvhZ4_subclip.mp4\n",
            "\n"
          ]
        },
        {
          "output_type": "stream",
          "name": "stderr",
          "text": []
        },
        {
          "output_type": "stream",
          "name": "stdout",
          "text": [
            "Moviepy - Done !\n",
            "Moviepy - video ready ./Walking the dog/Walking the dog_J7iF0HsvhZ4_subclip.mp4\n",
            "Video SSBALmLKe3Q is unavailable. Skipping...\n",
            "Video SSBALmLKe3Q is unavailable. Skipping...\n",
            "Video SSBALmLKe3Q is unavailable. Skipping...\n",
            "Moviepy - Building video ./Walking the dog/Walking the dog_5pQ1rlZI97g_subclip.mp4.\n",
            "MoviePy - Writing audio in Walking the dog_5pQ1rlZI97g_subclipTEMP_MPY_wvf_snd.mp3\n"
          ]
        },
        {
          "output_type": "stream",
          "name": "stderr",
          "text": []
        },
        {
          "output_type": "stream",
          "name": "stdout",
          "text": [
            "MoviePy - Done.\n",
            "Moviepy - Writing video ./Walking the dog/Walking the dog_5pQ1rlZI97g_subclip.mp4\n",
            "\n"
          ]
        },
        {
          "output_type": "stream",
          "name": "stderr",
          "text": []
        },
        {
          "output_type": "stream",
          "name": "stdout",
          "text": [
            "Moviepy - Done !\n",
            "Moviepy - video ready ./Walking the dog/Walking the dog_5pQ1rlZI97g_subclip.mp4\n",
            "Moviepy - Building video ./Running a marathon/Running a marathon_NB14zSV2atk_subclip.mp4.\n",
            "MoviePy - Writing audio in Running a marathon_NB14zSV2atk_subclipTEMP_MPY_wvf_snd.mp3\n"
          ]
        },
        {
          "output_type": "stream",
          "name": "stderr",
          "text": []
        },
        {
          "output_type": "stream",
          "name": "stdout",
          "text": [
            "MoviePy - Done.\n",
            "Moviepy - Writing video ./Running a marathon/Running a marathon_NB14zSV2atk_subclip.mp4\n",
            "\n"
          ]
        },
        {
          "output_type": "stream",
          "name": "stderr",
          "text": []
        },
        {
          "output_type": "stream",
          "name": "stdout",
          "text": [
            "Moviepy - Done !\n",
            "Moviepy - video ready ./Running a marathon/Running a marathon_NB14zSV2atk_subclip.mp4\n",
            "Moviepy - Building video ./Running a marathon/Running a marathon_CYYWqyzaZHs_subclip.mp4.\n",
            "MoviePy - Writing audio in Running a marathon_CYYWqyzaZHs_subclipTEMP_MPY_wvf_snd.mp3\n"
          ]
        },
        {
          "output_type": "stream",
          "name": "stderr",
          "text": []
        },
        {
          "output_type": "stream",
          "name": "stdout",
          "text": [
            "MoviePy - Done.\n",
            "Moviepy - Writing video ./Running a marathon/Running a marathon_CYYWqyzaZHs_subclip.mp4\n",
            "\n"
          ]
        },
        {
          "output_type": "stream",
          "name": "stderr",
          "text": []
        },
        {
          "output_type": "stream",
          "name": "stdout",
          "text": [
            "Moviepy - Done !\n",
            "Moviepy - video ready ./Running a marathon/Running a marathon_CYYWqyzaZHs_subclip.mp4\n",
            "Moviepy - Building video ./Running a marathon/Running a marathon_GgnatTKYUwQ_subclip.mp4.\n",
            "MoviePy - Writing audio in Running a marathon_GgnatTKYUwQ_subclipTEMP_MPY_wvf_snd.mp3\n"
          ]
        },
        {
          "output_type": "stream",
          "name": "stderr",
          "text": []
        },
        {
          "output_type": "stream",
          "name": "stdout",
          "text": [
            "MoviePy - Done.\n",
            "Moviepy - Writing video ./Running a marathon/Running a marathon_GgnatTKYUwQ_subclip.mp4\n",
            "\n"
          ]
        },
        {
          "output_type": "stream",
          "name": "stderr",
          "text": []
        },
        {
          "output_type": "stream",
          "name": "stdout",
          "text": [
            "Moviepy - Done !\n",
            "Moviepy - video ready ./Running a marathon/Running a marathon_GgnatTKYUwQ_subclip.mp4\n",
            "Moviepy - Building video ./Running a marathon/Running a marathon_gV4eBK8UtiE_subclip.mp4.\n",
            "MoviePy - Writing audio in Running a marathon_gV4eBK8UtiE_subclipTEMP_MPY_wvf_snd.mp3\n"
          ]
        },
        {
          "output_type": "stream",
          "name": "stderr",
          "text": []
        },
        {
          "output_type": "stream",
          "name": "stdout",
          "text": [
            "MoviePy - Done.\n",
            "Moviepy - Writing video ./Running a marathon/Running a marathon_gV4eBK8UtiE_subclip.mp4\n",
            "\n"
          ]
        },
        {
          "output_type": "stream",
          "name": "stderr",
          "text": []
        },
        {
          "output_type": "stream",
          "name": "stdout",
          "text": [
            "Moviepy - Done !\n",
            "Moviepy - video ready ./Running a marathon/Running a marathon_gV4eBK8UtiE_subclip.mp4\n",
            "Video JvFsBtGYJIY is unavailable. Skipping...\n",
            "Video 5QsZp3TtjXo is unavailable. Skipping...\n",
            "Moviepy - Building video ./Running a marathon/Running a marathon_FYoQi42-yH0_subclip.mp4.\n",
            "MoviePy - Writing audio in Running a marathon_FYoQi42-yH0_subclipTEMP_MPY_wvf_snd.mp3\n"
          ]
        },
        {
          "output_type": "stream",
          "name": "stderr",
          "text": []
        },
        {
          "output_type": "stream",
          "name": "stdout",
          "text": [
            "MoviePy - Done.\n",
            "Moviepy - Writing video ./Running a marathon/Running a marathon_FYoQi42-yH0_subclip.mp4\n",
            "\n"
          ]
        },
        {
          "output_type": "stream",
          "name": "stderr",
          "text": []
        },
        {
          "output_type": "stream",
          "name": "stdout",
          "text": [
            "Moviepy - Done !\n",
            "Moviepy - video ready ./Running a marathon/Running a marathon_FYoQi42-yH0_subclip.mp4\n",
            "Video ugW71PG3r9w is unavailable. Skipping...\n",
            "Moviepy - Building video ./Running a marathon/Running a marathon_vWqaRwpVs6c_subclip.mp4.\n",
            "MoviePy - Writing audio in Running a marathon_vWqaRwpVs6c_subclipTEMP_MPY_wvf_snd.mp3\n"
          ]
        },
        {
          "output_type": "stream",
          "name": "stderr",
          "text": []
        },
        {
          "output_type": "stream",
          "name": "stdout",
          "text": [
            "MoviePy - Done.\n",
            "Moviepy - Writing video ./Running a marathon/Running a marathon_vWqaRwpVs6c_subclip.mp4\n",
            "\n"
          ]
        },
        {
          "output_type": "stream",
          "name": "stderr",
          "text": []
        },
        {
          "output_type": "stream",
          "name": "stdout",
          "text": [
            "Moviepy - Done !\n",
            "Moviepy - video ready ./Running a marathon/Running a marathon_vWqaRwpVs6c_subclip.mp4\n",
            "Moviepy - Building video ./Running a marathon/Running a marathon_7OW7-xEF5bw_subclip.mp4.\n",
            "MoviePy - Writing audio in Running a marathon_7OW7-xEF5bw_subclipTEMP_MPY_wvf_snd.mp3\n"
          ]
        },
        {
          "output_type": "stream",
          "name": "stderr",
          "text": []
        },
        {
          "output_type": "stream",
          "name": "stdout",
          "text": [
            "MoviePy - Done.\n",
            "Moviepy - Writing video ./Running a marathon/Running a marathon_7OW7-xEF5bw_subclip.mp4\n",
            "\n"
          ]
        },
        {
          "output_type": "stream",
          "name": "stderr",
          "text": []
        },
        {
          "output_type": "stream",
          "name": "stdout",
          "text": [
            "Moviepy - Done !\n",
            "Moviepy - video ready ./Running a marathon/Running a marathon_7OW7-xEF5bw_subclip.mp4\n",
            "Moviepy - Building video ./Running a marathon/Running a marathon_5ZxSZM8uA6s_subclip.mp4.\n",
            "MoviePy - Writing audio in Running a marathon_5ZxSZM8uA6s_subclipTEMP_MPY_wvf_snd.mp3\n"
          ]
        },
        {
          "output_type": "stream",
          "name": "stderr",
          "text": []
        },
        {
          "output_type": "stream",
          "name": "stdout",
          "text": [
            "MoviePy - Done.\n",
            "Moviepy - Writing video ./Running a marathon/Running a marathon_5ZxSZM8uA6s_subclip.mp4\n",
            "\n"
          ]
        },
        {
          "output_type": "stream",
          "name": "stderr",
          "text": []
        },
        {
          "output_type": "stream",
          "name": "stdout",
          "text": [
            "Moviepy - Done !\n",
            "Moviepy - video ready ./Running a marathon/Running a marathon_5ZxSZM8uA6s_subclip.mp4\n",
            "Moviepy - Building video ./Running a marathon/Running a marathon_IRT2DGDEg4U_subclip.mp4.\n",
            "MoviePy - Writing audio in Running a marathon_IRT2DGDEg4U_subclipTEMP_MPY_wvf_snd.mp3\n"
          ]
        },
        {
          "output_type": "stream",
          "name": "stderr",
          "text": []
        },
        {
          "output_type": "stream",
          "name": "stdout",
          "text": [
            "MoviePy - Done.\n",
            "Moviepy - Writing video ./Running a marathon/Running a marathon_IRT2DGDEg4U_subclip.mp4\n",
            "\n"
          ]
        },
        {
          "output_type": "stream",
          "name": "stderr",
          "text": []
        },
        {
          "output_type": "stream",
          "name": "stdout",
          "text": [
            "Moviepy - Done !\n",
            "Moviepy - video ready ./Running a marathon/Running a marathon_IRT2DGDEg4U_subclip.mp4\n",
            "Moviepy - Building video ./Running a marathon/Running a marathon_kEKzmJgROao_subclip.mp4.\n",
            "MoviePy - Writing audio in Running a marathon_kEKzmJgROao_subclipTEMP_MPY_wvf_snd.mp3\n"
          ]
        },
        {
          "output_type": "stream",
          "name": "stderr",
          "text": []
        },
        {
          "output_type": "stream",
          "name": "stdout",
          "text": [
            "MoviePy - Done.\n",
            "Moviepy - Writing video ./Running a marathon/Running a marathon_kEKzmJgROao_subclip.mp4\n",
            "\n"
          ]
        },
        {
          "output_type": "stream",
          "name": "stderr",
          "text": []
        },
        {
          "output_type": "stream",
          "name": "stdout",
          "text": [
            "Moviepy - Done !\n",
            "Moviepy - video ready ./Running a marathon/Running a marathon_kEKzmJgROao_subclip.mp4\n",
            "Moviepy - Building video ./Running a marathon/Running a marathon_gHNTce7YfTE_subclip.mp4.\n",
            "MoviePy - Writing audio in Running a marathon_gHNTce7YfTE_subclipTEMP_MPY_wvf_snd.mp3\n"
          ]
        },
        {
          "output_type": "stream",
          "name": "stderr",
          "text": []
        },
        {
          "output_type": "stream",
          "name": "stdout",
          "text": [
            "MoviePy - Done.\n",
            "Moviepy - Writing video ./Running a marathon/Running a marathon_gHNTce7YfTE_subclip.mp4\n",
            "\n"
          ]
        },
        {
          "output_type": "stream",
          "name": "stderr",
          "text": []
        },
        {
          "output_type": "stream",
          "name": "stdout",
          "text": [
            "Moviepy - Done !\n",
            "Moviepy - video ready ./Running a marathon/Running a marathon_gHNTce7YfTE_subclip.mp4\n",
            "Moviepy - Building video ./Running a marathon/Running a marathon_gC6B3XaO5hA_subclip.mp4.\n",
            "MoviePy - Writing audio in Running a marathon_gC6B3XaO5hA_subclipTEMP_MPY_wvf_snd.mp3\n"
          ]
        },
        {
          "output_type": "stream",
          "name": "stderr",
          "text": []
        },
        {
          "output_type": "stream",
          "name": "stdout",
          "text": [
            "MoviePy - Done.\n",
            "Moviepy - Writing video ./Running a marathon/Running a marathon_gC6B3XaO5hA_subclip.mp4\n",
            "\n"
          ]
        },
        {
          "output_type": "stream",
          "name": "stderr",
          "text": []
        },
        {
          "output_type": "stream",
          "name": "stdout",
          "text": [
            "Moviepy - Done !\n",
            "Moviepy - video ready ./Running a marathon/Running a marathon_gC6B3XaO5hA_subclip.mp4\n",
            "Moviepy - Building video ./Running a marathon/Running a marathon_R_ZeGKP8OnQ_subclip.mp4.\n",
            "MoviePy - Writing audio in Running a marathon_R_ZeGKP8OnQ_subclipTEMP_MPY_wvf_snd.mp3\n"
          ]
        },
        {
          "output_type": "stream",
          "name": "stderr",
          "text": []
        },
        {
          "output_type": "stream",
          "name": "stdout",
          "text": [
            "MoviePy - Done.\n",
            "Moviepy - Writing video ./Running a marathon/Running a marathon_R_ZeGKP8OnQ_subclip.mp4\n",
            "\n"
          ]
        },
        {
          "output_type": "stream",
          "name": "stderr",
          "text": []
        },
        {
          "output_type": "stream",
          "name": "stdout",
          "text": [
            "Moviepy - Done !\n",
            "Moviepy - video ready ./Running a marathon/Running a marathon_R_ZeGKP8OnQ_subclip.mp4\n",
            "Moviepy - Building video ./Running a marathon/Running a marathon_botV9UiNNQM_subclip.mp4.\n",
            "MoviePy - Writing audio in Running a marathon_botV9UiNNQM_subclipTEMP_MPY_wvf_snd.mp3\n"
          ]
        },
        {
          "output_type": "stream",
          "name": "stderr",
          "text": []
        },
        {
          "output_type": "stream",
          "name": "stdout",
          "text": [
            "MoviePy - Done.\n",
            "Moviepy - Writing video ./Running a marathon/Running a marathon_botV9UiNNQM_subclip.mp4\n",
            "\n"
          ]
        },
        {
          "output_type": "stream",
          "name": "stderr",
          "text": []
        },
        {
          "output_type": "stream",
          "name": "stdout",
          "text": [
            "Moviepy - Done !\n",
            "Moviepy - video ready ./Running a marathon/Running a marathon_botV9UiNNQM_subclip.mp4\n",
            "Moviepy - Building video ./Running a marathon/Running a marathon_E0KFB6GPW_Q_subclip.mp4.\n",
            "MoviePy - Writing audio in Running a marathon_E0KFB6GPW_Q_subclipTEMP_MPY_wvf_snd.mp3\n"
          ]
        },
        {
          "output_type": "stream",
          "name": "stderr",
          "text": []
        },
        {
          "output_type": "stream",
          "name": "stdout",
          "text": [
            "MoviePy - Done.\n",
            "Moviepy - Writing video ./Running a marathon/Running a marathon_E0KFB6GPW_Q_subclip.mp4\n",
            "\n"
          ]
        },
        {
          "output_type": "stream",
          "name": "stderr",
          "text": []
        },
        {
          "output_type": "stream",
          "name": "stdout",
          "text": [
            "Moviepy - Done !\n",
            "Moviepy - video ready ./Running a marathon/Running a marathon_E0KFB6GPW_Q_subclip.mp4\n",
            "Moviepy - Building video ./Running a marathon/Running a marathon_9x1IPXX8qc0_subclip.mp4.\n",
            "MoviePy - Writing audio in Running a marathon_9x1IPXX8qc0_subclipTEMP_MPY_wvf_snd.mp3\n"
          ]
        },
        {
          "output_type": "stream",
          "name": "stderr",
          "text": []
        },
        {
          "output_type": "stream",
          "name": "stdout",
          "text": [
            "MoviePy - Done.\n",
            "Moviepy - Writing video ./Running a marathon/Running a marathon_9x1IPXX8qc0_subclip.mp4\n",
            "\n"
          ]
        },
        {
          "output_type": "stream",
          "name": "stderr",
          "text": []
        },
        {
          "output_type": "stream",
          "name": "stdout",
          "text": [
            "Moviepy - Done !\n",
            "Moviepy - video ready ./Running a marathon/Running a marathon_9x1IPXX8qc0_subclip.mp4\n",
            "Video Eqeo1yGbXD0 has no streaming data. Skipping...\n",
            "Moviepy - Building video ./Running a marathon/Running a marathon_ixGBw3YHOws_subclip.mp4.\n",
            "MoviePy - Writing audio in Running a marathon_ixGBw3YHOws_subclipTEMP_MPY_wvf_snd.mp3\n"
          ]
        },
        {
          "output_type": "stream",
          "name": "stderr",
          "text": []
        },
        {
          "output_type": "stream",
          "name": "stdout",
          "text": [
            "MoviePy - Done.\n",
            "Moviepy - Writing video ./Running a marathon/Running a marathon_ixGBw3YHOws_subclip.mp4\n",
            "\n"
          ]
        },
        {
          "output_type": "stream",
          "name": "stderr",
          "text": []
        },
        {
          "output_type": "stream",
          "name": "stdout",
          "text": [
            "Moviepy - Done !\n",
            "Moviepy - video ready ./Running a marathon/Running a marathon_ixGBw3YHOws_subclip.mp4\n",
            "Moviepy - Building video ./Running a marathon/Running a marathon_sAbAVqAtjDI_subclip.mp4.\n",
            "MoviePy - Writing audio in Running a marathon_sAbAVqAtjDI_subclipTEMP_MPY_wvf_snd.mp3\n"
          ]
        },
        {
          "output_type": "stream",
          "name": "stderr",
          "text": [
            "                                                                 "
          ]
        },
        {
          "output_type": "stream",
          "name": "stdout",
          "text": [
            "MoviePy - Done.\n",
            "Moviepy - Writing video ./Running a marathon/Running a marathon_sAbAVqAtjDI_subclip.mp4\n",
            "\n"
          ]
        },
        {
          "output_type": "stream",
          "name": "stderr",
          "text": []
        },
        {
          "output_type": "stream",
          "name": "stdout",
          "text": [
            "Moviepy - Done !\n",
            "Moviepy - video ready ./Running a marathon/Running a marathon_sAbAVqAtjDI_subclip.mp4\n",
            "Moviepy - Building video ./Running a marathon/Running a marathon_8yRWu2tW8JY_subclip.mp4.\n",
            "MoviePy - Writing audio in Running a marathon_8yRWu2tW8JY_subclipTEMP_MPY_wvf_snd.mp3\n"
          ]
        },
        {
          "output_type": "stream",
          "name": "stderr",
          "text": []
        },
        {
          "output_type": "stream",
          "name": "stdout",
          "text": [
            "MoviePy - Done.\n",
            "Moviepy - Writing video ./Running a marathon/Running a marathon_8yRWu2tW8JY_subclip.mp4\n",
            "\n"
          ]
        },
        {
          "output_type": "stream",
          "name": "stderr",
          "text": []
        },
        {
          "output_type": "stream",
          "name": "stdout",
          "text": [
            "Moviepy - Done !\n",
            "Moviepy - video ready ./Running a marathon/Running a marathon_8yRWu2tW8JY_subclip.mp4\n",
            "Moviepy - Building video ./Running a marathon/Running a marathon_bjM4ROW-bvI_subclip.mp4.\n",
            "MoviePy - Writing audio in Running a marathon_bjM4ROW-bvI_subclipTEMP_MPY_wvf_snd.mp3\n"
          ]
        },
        {
          "output_type": "stream",
          "name": "stderr",
          "text": []
        },
        {
          "output_type": "stream",
          "name": "stdout",
          "text": [
            "MoviePy - Done.\n",
            "Moviepy - Writing video ./Running a marathon/Running a marathon_bjM4ROW-bvI_subclip.mp4\n",
            "\n"
          ]
        },
        {
          "output_type": "stream",
          "name": "stderr",
          "text": []
        },
        {
          "output_type": "stream",
          "name": "stdout",
          "text": [
            "Moviepy - Done !\n",
            "Moviepy - video ready ./Running a marathon/Running a marathon_bjM4ROW-bvI_subclip.mp4\n",
            "Moviepy - Building video ./Running a marathon/Running a marathon_Wzfls6nYl6s_subclip.mp4.\n",
            "MoviePy - Writing audio in Running a marathon_Wzfls6nYl6s_subclipTEMP_MPY_wvf_snd.mp3\n"
          ]
        },
        {
          "output_type": "stream",
          "name": "stderr",
          "text": []
        },
        {
          "output_type": "stream",
          "name": "stdout",
          "text": [
            "MoviePy - Done.\n",
            "Moviepy - Writing video ./Running a marathon/Running a marathon_Wzfls6nYl6s_subclip.mp4\n",
            "\n"
          ]
        },
        {
          "output_type": "stream",
          "name": "stderr",
          "text": []
        },
        {
          "output_type": "stream",
          "name": "stdout",
          "text": [
            "Moviepy - Done !\n",
            "Moviepy - video ready ./Running a marathon/Running a marathon_Wzfls6nYl6s_subclip.mp4\n",
            "Moviepy - Building video ./Running a marathon/Running a marathon_C68G3FNr7uk_subclip.mp4.\n",
            "MoviePy - Writing audio in Running a marathon_C68G3FNr7uk_subclipTEMP_MPY_wvf_snd.mp3\n"
          ]
        },
        {
          "output_type": "stream",
          "name": "stderr",
          "text": []
        },
        {
          "output_type": "stream",
          "name": "stdout",
          "text": [
            "MoviePy - Done.\n",
            "Moviepy - Writing video ./Running a marathon/Running a marathon_C68G3FNr7uk_subclip.mp4\n",
            "\n"
          ]
        },
        {
          "output_type": "stream",
          "name": "stderr",
          "text": []
        },
        {
          "output_type": "stream",
          "name": "stdout",
          "text": [
            "Moviepy - Done !\n",
            "Moviepy - video ready ./Running a marathon/Running a marathon_C68G3FNr7uk_subclip.mp4\n",
            "Moviepy - Building video ./Running a marathon/Running a marathon_w_jKOnqBuLk_subclip.mp4.\n",
            "MoviePy - Writing audio in Running a marathon_w_jKOnqBuLk_subclipTEMP_MPY_wvf_snd.mp3\n"
          ]
        },
        {
          "output_type": "stream",
          "name": "stderr",
          "text": []
        },
        {
          "output_type": "stream",
          "name": "stdout",
          "text": [
            "MoviePy - Done.\n",
            "Moviepy - Writing video ./Running a marathon/Running a marathon_w_jKOnqBuLk_subclip.mp4\n",
            "\n"
          ]
        },
        {
          "output_type": "stream",
          "name": "stderr",
          "text": []
        },
        {
          "output_type": "stream",
          "name": "stdout",
          "text": [
            "Moviepy - Done !\n",
            "Moviepy - video ready ./Running a marathon/Running a marathon_w_jKOnqBuLk_subclip.mp4\n",
            "Moviepy - Building video ./Running a marathon/Running a marathon_anxjEXbH0Bk_subclip.mp4.\n",
            "MoviePy - Writing audio in Running a marathon_anxjEXbH0Bk_subclipTEMP_MPY_wvf_snd.mp3\n"
          ]
        },
        {
          "output_type": "stream",
          "name": "stderr",
          "text": []
        },
        {
          "output_type": "stream",
          "name": "stdout",
          "text": [
            "MoviePy - Done.\n",
            "Moviepy - Writing video ./Running a marathon/Running a marathon_anxjEXbH0Bk_subclip.mp4\n",
            "\n"
          ]
        },
        {
          "output_type": "stream",
          "name": "stderr",
          "text": []
        },
        {
          "output_type": "stream",
          "name": "stdout",
          "text": [
            "Moviepy - Done !\n",
            "Moviepy - video ready ./Running a marathon/Running a marathon_anxjEXbH0Bk_subclip.mp4\n",
            "Moviepy - Building video ./Running a marathon/Running a marathon_A7TMhQGBDSM_subclip.mp4.\n",
            "MoviePy - Writing audio in Running a marathon_A7TMhQGBDSM_subclipTEMP_MPY_wvf_snd.mp3\n"
          ]
        },
        {
          "output_type": "stream",
          "name": "stderr",
          "text": []
        },
        {
          "output_type": "stream",
          "name": "stdout",
          "text": [
            "MoviePy - Done.\n",
            "Moviepy - Writing video ./Running a marathon/Running a marathon_A7TMhQGBDSM_subclip.mp4\n",
            "\n"
          ]
        },
        {
          "output_type": "stream",
          "name": "stderr",
          "text": []
        },
        {
          "output_type": "stream",
          "name": "stdout",
          "text": [
            "Moviepy - Done !\n",
            "Moviepy - video ready ./Running a marathon/Running a marathon_A7TMhQGBDSM_subclip.mp4\n",
            "Moviepy - Building video ./Running a marathon/Running a marathon_rPYHriY7pyo_subclip.mp4.\n",
            "MoviePy - Writing audio in Running a marathon_rPYHriY7pyo_subclipTEMP_MPY_wvf_snd.mp3\n"
          ]
        },
        {
          "output_type": "stream",
          "name": "stderr",
          "text": []
        },
        {
          "output_type": "stream",
          "name": "stdout",
          "text": [
            "MoviePy - Done.\n",
            "Moviepy - Writing video ./Running a marathon/Running a marathon_rPYHriY7pyo_subclip.mp4\n",
            "\n"
          ]
        },
        {
          "output_type": "stream",
          "name": "stderr",
          "text": []
        },
        {
          "output_type": "stream",
          "name": "stdout",
          "text": [
            "Moviepy - Done !\n",
            "Moviepy - video ready ./Running a marathon/Running a marathon_rPYHriY7pyo_subclip.mp4\n",
            "Video FDJyNzNkP_o is unavailable. Skipping...\n",
            "Video CkKG5acuQxg is unavailable. Skipping...\n",
            "Moviepy - Building video ./Running a marathon/Running a marathon_SUbBvTDgtcc_subclip.mp4.\n",
            "MoviePy - Writing audio in Running a marathon_SUbBvTDgtcc_subclipTEMP_MPY_wvf_snd.mp3\n"
          ]
        },
        {
          "output_type": "stream",
          "name": "stderr",
          "text": []
        },
        {
          "output_type": "stream",
          "name": "stdout",
          "text": [
            "MoviePy - Done.\n",
            "Moviepy - Writing video ./Running a marathon/Running a marathon_SUbBvTDgtcc_subclip.mp4\n",
            "\n"
          ]
        },
        {
          "output_type": "stream",
          "name": "stderr",
          "text": []
        },
        {
          "output_type": "stream",
          "name": "stdout",
          "text": [
            "Moviepy - Done !\n",
            "Moviepy - video ready ./Running a marathon/Running a marathon_SUbBvTDgtcc_subclip.mp4\n",
            "Moviepy - Building video ./Running a marathon/Running a marathon_lQqOaZ1upSE_subclip.mp4.\n",
            "MoviePy - Writing audio in Running a marathon_lQqOaZ1upSE_subclipTEMP_MPY_wvf_snd.mp3\n"
          ]
        },
        {
          "output_type": "stream",
          "name": "stderr",
          "text": []
        },
        {
          "output_type": "stream",
          "name": "stdout",
          "text": [
            "MoviePy - Done.\n",
            "Moviepy - Writing video ./Running a marathon/Running a marathon_lQqOaZ1upSE_subclip.mp4\n",
            "\n"
          ]
        },
        {
          "output_type": "stream",
          "name": "stderr",
          "text": []
        },
        {
          "output_type": "stream",
          "name": "stdout",
          "text": [
            "Moviepy - Done !\n",
            "Moviepy - video ready ./Running a marathon/Running a marathon_lQqOaZ1upSE_subclip.mp4\n",
            "Moviepy - Building video ./Running a marathon/Running a marathon_j2acikxGfsk_subclip.mp4.\n",
            "MoviePy - Writing audio in Running a marathon_j2acikxGfsk_subclipTEMP_MPY_wvf_snd.mp3\n"
          ]
        },
        {
          "output_type": "stream",
          "name": "stderr",
          "text": []
        },
        {
          "output_type": "stream",
          "name": "stdout",
          "text": [
            "MoviePy - Done.\n",
            "Moviepy - Writing video ./Running a marathon/Running a marathon_j2acikxGfsk_subclip.mp4\n",
            "\n"
          ]
        },
        {
          "output_type": "stream",
          "name": "stderr",
          "text": []
        },
        {
          "output_type": "stream",
          "name": "stdout",
          "text": [
            "Moviepy - Done !\n",
            "Moviepy - video ready ./Running a marathon/Running a marathon_j2acikxGfsk_subclip.mp4\n",
            "Moviepy - Building video ./Running a marathon/Running a marathon_NQxtZ-2vxn8_subclip.mp4.\n",
            "MoviePy - Writing audio in Running a marathon_NQxtZ-2vxn8_subclipTEMP_MPY_wvf_snd.mp3\n"
          ]
        },
        {
          "output_type": "stream",
          "name": "stderr",
          "text": [
            "                                                                 "
          ]
        },
        {
          "output_type": "stream",
          "name": "stdout",
          "text": [
            "MoviePy - Done.\n",
            "Moviepy - Writing video ./Running a marathon/Running a marathon_NQxtZ-2vxn8_subclip.mp4\n",
            "\n"
          ]
        },
        {
          "output_type": "stream",
          "name": "stderr",
          "text": []
        },
        {
          "output_type": "stream",
          "name": "stdout",
          "text": [
            "Moviepy - Done !\n",
            "Moviepy - video ready ./Running a marathon/Running a marathon_NQxtZ-2vxn8_subclip.mp4\n"
          ]
        }
      ]
    },
    {
      "cell_type": "code",
      "source": [
        "import os\n",
        "import zipfile\n",
        "\n",
        "# List of folder paths to zip\n",
        "folders = ['/content/Archery', '/content/Kite flying', '/content/Knitting','/content/Painting furniture','/content/Running a marathon','/content/Tug of war','/content/Volleyball','/content/Walking the dog']\n",
        "\n",
        "# Output zip file path\n",
        "zip_file_path = '/content/combined_folders.zip'\n",
        "\n",
        "# Create a new zip file\n",
        "with zipfile.ZipFile(zip_file_path, 'w') as zip_file:\n",
        "    # Loop through each folder and add its contents to the zip file\n",
        "    for folder in folders:\n",
        "        # Loop through each file in the folder\n",
        "        for root, dirs, files in os.walk(folder):\n",
        "            for file in files:\n",
        "                # Create the full file path by joining the folder path and file name\n",
        "                file_path = os.path.join(root, file)\n",
        "                # Add the file to the zip file\n",
        "                zip_file.write(file_path, arcname=os.path.relpath(file_path, folder))\n"
      ],
      "metadata": {
        "id": "0GNs8EIaI_rD"
      },
      "execution_count": 17,
      "outputs": []
    },
    {
      "cell_type": "code",
      "source": [],
      "metadata": {
        "id": "IW_LLfxTMuwH"
      },
      "execution_count": null,
      "outputs": []
    }
  ]
}